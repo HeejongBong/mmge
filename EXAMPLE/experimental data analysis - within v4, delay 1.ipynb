{
 "cells": [
  {
   "cell_type": "code",
   "execution_count": 1,
   "id": "0f11ecf0",
   "metadata": {},
   "outputs": [
    {
     "name": "stderr",
     "output_type": "stream",
     "text": [
      "Loading required package: Matrix\n",
      "\n",
      "\n",
      "Attaching package: ‘expm’\n",
      "\n",
      "\n",
      "The following object is masked from ‘package:Matrix’:\n",
      "\n",
      "    expm\n",
      "\n",
      "\n",
      "Loading required package: spam\n",
      "\n",
      "Spam version 2.9-1 (2022-08-07) is loaded.\n",
      "Type 'help( Spam)' or 'demo( spam)' for a short introduction \n",
      "and overview of this package.\n",
      "Help for individual functions is also obtained by adding the\n",
      "suffix '.spam' to the function name, e.g. 'help( chol.spam)'.\n",
      "\n",
      "\n",
      "Attaching package: ‘spam’\n",
      "\n",
      "\n",
      "The following object is masked from ‘package:Matrix’:\n",
      "\n",
      "    det\n",
      "\n",
      "\n",
      "The following objects are masked from ‘package:base’:\n",
      "\n",
      "    backsolve, forwardsolve\n",
      "\n",
      "\n",
      "Loading required package: viridis\n",
      "\n",
      "Loading required package: viridisLite\n",
      "\n",
      "\n",
      "Try help(fields) to get started.\n",
      "\n",
      "\n",
      "Attaching package: ‘scales’\n",
      "\n",
      "\n",
      "The following object is masked from ‘package:viridis’:\n",
      "\n",
      "    viridis_pal\n",
      "\n",
      "\n"
     ]
    }
   ],
   "source": [
    "library(mmge)\n",
    "library(expm)\n",
    "library(fields)\n",
    "library(scales)\n",
    "library(MASS)"
   ]
  },
  {
   "cell_type": "code",
   "execution_count": 2,
   "id": "6b8c81f9",
   "metadata": {},
   "outputs": [
    {
     "name": "stderr",
     "output_type": "stream",
     "text": [
      "Reloading attached mmge\n",
      "\n"
     ]
    }
   ],
   "source": [
    "devtools::reload(pkg=\".\")"
   ]
  },
  {
   "cell_type": "markdown",
   "id": "0a86cd8e",
   "metadata": {},
   "source": [
    "# 0. Load data from MAT files"
   ]
  },
  {
   "cell_type": "code",
   "execution_count": 3,
   "id": "6abf4cca",
   "metadata": {},
   "outputs": [
    {
     "name": "stderr",
     "output_type": "stream",
     "text": [
      "R.matlab v3.7.0 (2022-08-25 21:52:34 UTC) successfully loaded. See ?R.matlab for help.\n",
      "\n",
      "\n",
      "Attaching package: ‘R.matlab’\n",
      "\n",
      "\n",
      "The following objects are masked from ‘package:base’:\n",
      "\n",
      "    getOption, isOpen\n",
      "\n",
      "\n"
     ]
    }
   ],
   "source": [
    "library(R.matlab)"
   ]
  },
  {
   "cell_type": "code",
   "execution_count": 4,
   "id": "f2925586",
   "metadata": {},
   "outputs": [],
   "source": [
    "data_dir = '~/_datasets/Smith_LFPs_raw/'"
   ]
  },
  {
   "cell_type": "code",
   "execution_count": 5,
   "id": "656d01a4",
   "metadata": {},
   "outputs": [],
   "source": [
    "data_names = list('Pe160503', 'Pe160505', 'Pe160506',\n",
    "                  'Pe160507', 'Pe160508')"
   ]
  },
  {
   "cell_type": "code",
   "execution_count": 6,
   "id": "65b01f3b",
   "metadata": {},
   "outputs": [],
   "source": [
    "t0 = 251; t1 = 500"
   ]
  },
  {
   "cell_type": "code",
   "execution_count": 7,
   "id": "2d3d122a",
   "metadata": {},
   "outputs": [],
   "source": [
    "map = readMat(paste0(data_dir,'maps.mat'))$map[[2]]"
   ]
  },
  {
   "cell_type": "code",
   "execution_count": 9,
   "id": "eaa71bf7",
   "metadata": {},
   "outputs": [],
   "source": [
    "data = lapply(data_names, function(dname){\n",
    "    return(aperm(\n",
    "        readMat(paste0(data_dir,dname,'_lfp.mat'))$v4[,t0:t1,],\n",
    "        c(2,3,1)))\n",
    "})"
   ]
  },
  {
   "cell_type": "code",
   "execution_count": 11,
   "id": "88bd1b83",
   "metadata": {},
   "outputs": [],
   "source": [
    "# save(data, map, file='Smith_LFPs_v4_delay1.RData')"
   ]
  },
  {
   "cell_type": "markdown",
   "id": "ab78a7ef",
   "metadata": {},
   "source": [
    "# 1. load data"
   ]
  },
  {
   "cell_type": "code",
   "execution_count": 32,
   "id": "545a2df2",
   "metadata": {},
   "outputs": [],
   "source": [
    "load('Smith_LFPs_v4_delay1.RData')"
   ]
  },
  {
   "cell_type": "code",
   "execution_count": 33,
   "id": "cbadcfb8",
   "metadata": {},
   "outputs": [],
   "source": [
    "data = lapply(data, function(d){\n",
    "    return(d[seq(1,dim(d)[1],5),,])\n",
    "})"
   ]
  },
  {
   "cell_type": "code",
   "execution_count": 34,
   "id": "42c29675",
   "metadata": {},
   "outputs": [],
   "source": [
    "data = lapply(data, function(d){\n",
    "    mean_d = apply(d, c(1,2), mean)\n",
    "    std_d = apply(d, c(1,2), sd)\n",
    "    return((d-c(mean_d))/c(std_d))\n",
    "})"
   ]
  },
  {
   "cell_type": "code",
   "execution_count": 35,
   "id": "ef045f02",
   "metadata": {},
   "outputs": [],
   "source": [
    "m = length(data)\n",
    "p = dim(data[[1]])[1]\n",
    "q = dim(data[[1]])[2]"
   ]
  },
  {
   "cell_type": "code",
   "execution_count": 36,
   "id": "795cc6cc",
   "metadata": {},
   "outputs": [
    {
     "data": {
      "text/html": [
       "<style>\n",
       ".list-inline {list-style: none; margin:0; padding: 0}\n",
       ".list-inline>li {display: inline-block}\n",
       ".list-inline>li:not(:last-child)::after {content: \"\\00b7\"; padding: 0 .5ex}\n",
       "</style>\n",
       "<ol class=list-inline><li>5</li><li>50</li><li>96</li></ol>\n"
      ],
      "text/latex": [
       "\\begin{enumerate*}\n",
       "\\item 5\n",
       "\\item 50\n",
       "\\item 96\n",
       "\\end{enumerate*}\n"
      ],
      "text/markdown": [
       "1. 5\n",
       "2. 50\n",
       "3. 96\n",
       "\n",
       "\n"
      ],
      "text/plain": [
       "[1]  5 50 96"
      ]
     },
     "metadata": {},
     "output_type": "display_data"
    }
   ],
   "source": [
    "c(m, p, q)"
   ]
  },
  {
   "cell_type": "code",
   "execution_count": 37,
   "id": "7d5c4e87",
   "metadata": {},
   "outputs": [],
   "source": [
    "ns = unlist(lapply(data, function(x){dim(x)[3]}))"
   ]
  },
  {
   "cell_type": "code",
   "execution_count": 39,
   "id": "0d10f5fd",
   "metadata": {},
   "outputs": [
    {
     "data": {
      "text/html": [
       "<style>\n",
       ".list-inline {list-style: none; margin:0; padding: 0}\n",
       ".list-inline>li {display: inline-block}\n",
       ".list-inline>li:not(:last-child)::after {content: \"\\00b7\"; padding: 0 .5ex}\n",
       "</style>\n",
       "<ol class=list-inline><li>2000</li><li>2996</li><li>3000</li><li>3000</li><li>3000</li></ol>\n"
      ],
      "text/latex": [
       "\\begin{enumerate*}\n",
       "\\item 2000\n",
       "\\item 2996\n",
       "\\item 3000\n",
       "\\item 3000\n",
       "\\item 3000\n",
       "\\end{enumerate*}\n"
      ],
      "text/markdown": [
       "1. 2000\n",
       "2. 2996\n",
       "3. 3000\n",
       "4. 3000\n",
       "5. 3000\n",
       "\n",
       "\n"
      ],
      "text/plain": [
       "[1] 2000 2996 3000 3000 3000"
      ]
     },
     "metadata": {},
     "output_type": "display_data"
    }
   ],
   "source": [
    "ns"
   ]
  },
  {
   "cell_type": "code",
   "execution_count": 38,
   "id": "e8047c04",
   "metadata": {},
   "outputs": [],
   "source": [
    "sess.id = unlist(lapply(1:m, function(l){rep(l,ns[l])}))"
   ]
  },
  {
   "cell_type": "markdown",
   "id": "e5a3c1c3",
   "metadata": {},
   "source": [
    "# 1. estimation"
   ]
  },
  {
   "cell_type": "code",
   "execution_count": 18,
   "id": "9a168f04",
   "metadata": {},
   "outputs": [],
   "source": [
    "ld = 1e-2"
   ]
  },
  {
   "cell_type": "code",
   "execution_count": 19,
   "id": "f0d4f4b2",
   "metadata": {},
   "outputs": [],
   "source": [
    "est.T = est.temporal(data, order.T=5)"
   ]
  },
  {
   "cell_type": "code",
   "execution_count": 20,
   "id": "48f6c497",
   "metadata": {},
   "outputs": [
    {
     "name": "stdout",
     "output_type": "stream",
     "text": [
      "spatial group lasso at i= 1 \n",
      "spatial group lasso at i= 2 \n",
      "spatial group lasso at i= 3 \n",
      "spatial group lasso at i= 4 \n",
      "spatial group lasso at i= 5 \n",
      "spatial group lasso at i= 6 \n",
      "spatial group lasso at i= 7 \n",
      "spatial group lasso at i= 8 \n",
      "spatial group lasso at i= 9 \n",
      "spatial group lasso at i= 10 \n",
      "spatial group lasso at i= 11 \n",
      "spatial group lasso at i= 12 \n",
      "spatial group lasso at i= 15 \n",
      "spatial group lasso at i= 16 \n",
      "spatial group lasso at i= 17 \n",
      "spatial group lasso at i= 18 \n",
      "spatial group lasso at i= 19 \n",
      "spatial group lasso at i= 20 \n",
      "spatial group lasso at i= 21 \n",
      "spatial group lasso at i= 22 \n",
      "spatial group lasso at i= 23 \n",
      "spatial group lasso at i= 24 \n",
      "spatial group lasso at i= 25 \n",
      "spatial group lasso at i= 26 \n",
      "spatial group lasso at i= 27 \n",
      "spatial group lasso at i= 28 \n",
      "spatial group lasso at i= 29 \n",
      "spatial group lasso at i= 30 \n",
      "spatial group lasso at i= 31 \n",
      "spatial group lasso at i= 32 \n",
      "spatial group lasso at i= 33 \n",
      "spatial group lasso at i= 34 \n",
      "spatial group lasso at i= 35 \n",
      "spatial group lasso at i= 36 \n",
      "spatial group lasso at i= 37 \n",
      "spatial group lasso at i= 38 \n",
      "spatial group lasso at i= 39 \n",
      "spatial group lasso at i= 40 \n",
      "spatial group lasso at i= 41 \n",
      "spatial group lasso at i= 42 \n",
      "spatial group lasso at i= 43 \n",
      "spatial group lasso at i= 44 \n",
      "spatial group lasso at i= 45 \n",
      "spatial group lasso at i= 46 \n",
      "spatial group lasso at i= 47 \n",
      "spatial group lasso at i= 48 \n",
      "spatial group lasso at i= 49 \n",
      "spatial group lasso at i= 50 \n",
      "spatial group lasso at i= 51 \n",
      "spatial group lasso at i= 52 \n",
      "spatial group lasso at i= 53 \n",
      "spatial group lasso at i= 54 \n",
      "spatial group lasso at i= 55 \n",
      "spatial group lasso at i= 56 \n",
      "spatial group lasso at i= 57 \n",
      "spatial group lasso at i= 58 \n",
      "spatial group lasso at i= 59 \n",
      "spatial group lasso at i= 60 \n",
      "spatial group lasso at i= 61 \n",
      "spatial group lasso at i= 62 \n",
      "spatial group lasso at i= 63 \n",
      "spatial group lasso at i= 64 \n",
      "spatial group lasso at i= 65 \n",
      "spatial group lasso at i= 66 \n",
      "spatial group lasso at i= 67 \n",
      "spatial group lasso at i= 68 \n",
      "spatial group lasso at i= 69 \n",
      "spatial group lasso at i= 70 \n",
      "spatial group lasso at i= 71 \n",
      "spatial group lasso at i= 72 \n",
      "spatial group lasso at i= 73 \n",
      "spatial group lasso at i= 74 \n",
      "spatial group lasso at i= 75 \n",
      "spatial group lasso at i= 76 \n",
      "spatial group lasso at i= 77 \n",
      "spatial group lasso at i= 78 \n",
      "spatial group lasso at i= 79 \n",
      "spatial group lasso at i= 80 \n",
      "spatial group lasso at i= 81 \n",
      "spatial group lasso at i= 82 \n",
      "spatial group lasso at i= 83 \n",
      "spatial group lasso at i= 84 \n",
      "spatial group lasso at i= 85 \n",
      "spatial group lasso at i= 86 \n",
      "spatial group lasso at i= 87 \n",
      "spatial group lasso at i= 88 \n",
      "spatial group lasso at i= 89 \n",
      "spatial group lasso at i= 90 \n",
      "spatial group lasso at i= 91 \n",
      "spatial group lasso at i= 92 \n",
      "spatial group lasso at i= 93 \n",
      "spatial group lasso at i= 94 \n",
      "spatial group lasso at i= 95 \n",
      "spatial group lasso at i= 96 \n"
     ]
    }
   ],
   "source": [
    "est.S = est.spatial(data, lambdas=1e-2, verbose=TRUE)"
   ]
  },
  {
   "cell_type": "code",
   "execution_count": 21,
   "id": "4f3f4719",
   "metadata": {},
   "outputs": [],
   "source": [
    "inf.S = inf.single.edge(est.S$W.hat.S, est.T$S.hat.T, ns)"
   ]
  },
  {
   "cell_type": "code",
   "execution_count": 22,
   "id": "f5001a6a",
   "metadata": {},
   "outputs": [],
   "source": [
    "# save(est.T, est.S, inf.S, file='result_v4_delay1.RData')"
   ]
  },
  {
   "cell_type": "markdown",
   "id": "4cea8ccd",
   "metadata": {},
   "source": [
    "# 2. connectivity strength vs. distance"
   ]
  },
  {
   "cell_type": "code",
   "execution_count": 23,
   "id": "cd35b73a",
   "metadata": {},
   "outputs": [],
   "source": [
    "dists = matrix(0, nrow=q*(q-1)/2)\n",
    "ps =  matrix(0, nrow=q*(q-1)/2)"
   ]
  },
  {
   "cell_type": "code",
   "execution_count": 24,
   "id": "3555c59c",
   "metadata": {},
   "outputs": [],
   "source": [
    "k=1\n",
    "for (i in 1:(q-1)){\n",
    "    for (j in (i+1):q){\n",
    "        pos1 = which(map==i, arr.ind = T)\n",
    "        pos2 = which(map==j, arr.ind = T)\n",
    "        \n",
    "        dists[k] = sqrt((pos1[1]-pos2[1])^2+(pos1[2]-pos2[2])^2)*400\n",
    "        ps[k] = abs(inf.S$T.hat[i,j,1]/sum(sqrt(ns*p/m)))\n",
    "        \n",
    "        k = k+1\n",
    "    }\n",
    "}"
   ]
  },
  {
   "cell_type": "code",
   "execution_count": 25,
   "id": "8010d5f4",
   "metadata": {},
   "outputs": [],
   "source": [
    "uds = sort(unique(dists))\n",
    "meanps = matrix(0, nrow=length(uds), ncol=1)\n",
    "nsamples = matrix(0, nrow=length(uds), ncol=1)\n",
    "for (i in 1:length(uds)){\n",
    "    ud = uds[i]\n",
    "    ids = which(dists==ud, arr.ind = T)\n",
    "    \n",
    "    meanps[i] = mean(abs(ps[ids]))\n",
    "    nsamples[i] = sum(dim(ids)[1])\n",
    "}"
   ]
  },
  {
   "cell_type": "code",
   "execution_count": 26,
   "id": "2fc9586d",
   "metadata": {},
   "outputs": [
    {
     "data": {
      "image/png": "[encoded data removed]",
      "text/plain": [
       "plot without title"
      ]
     },
     "metadata": {
      "image/png": {
       "height": 420,
       "width": 420
      }
     },
     "output_type": "display_data"
    }
   ],
   "source": [
    "plot(uds, (meanps), xlim = c(400, 3000), log='y', xlab = 'L2 Distance(micrometer)', ylab = 'Test Stats', cex.lab=1.5, lwd=1)\n",
    "lo <- loess(meanps~uds, span = 0.4)\n",
    "lines(uds,predict(lo), col='red', lwd=1, lty=2)"
   ]
  },
  {
   "cell_type": "markdown",
   "id": "177c59be",
   "metadata": {},
   "source": [
    "# 3. connectivity strength heatmap"
   ]
  },
  {
   "cell_type": "code",
   "execution_count": 27,
   "id": "4bf7d364",
   "metadata": {},
   "outputs": [],
   "source": [
    "maps_amp = matrix(NA, nrow=10*11, ncol=10*11)"
   ]
  },
  {
   "cell_type": "code",
   "execution_count": 28,
   "id": "dd2cb747",
   "metadata": {},
   "outputs": [],
   "source": [
    "for(i in 1:q){\n",
    "    amp = sum(abs(inf.S$T.hat[i,,1]/sum(sqrt(ns*p/m))))-1\n",
    "    ind = which(map==i, arr.ind=TRUE)\n",
    "    maps_amp[ind[1]*10, ind[2]*10] = amp\n",
    "}"
   ]
  },
  {
   "cell_type": "code",
   "execution_count": 29,
   "id": "b443da1c",
   "metadata": {},
   "outputs": [],
   "source": [
    "is = image.smooth(maps_amp, theta=10)\n",
    "is$x = is$x[10:100]\n",
    "is$y = is$y[10:100]\n",
    "is$z = is$z[10:100,10:100]\n",
    "is$x = 40*(is$x-10)\n",
    "is$y = 40*(is$y-10)"
   ]
  },
  {
   "cell_type": "code",
   "execution_count": 31,
   "id": "c7c2d283",
   "metadata": {},
   "outputs": [
    {
     "data": {
      "image/png": "[encoded data removed]",
      "text/plain": [
       "plot without title"
      ]
     },
     "metadata": {
      "image/png": {
       "height": 420,
       "width": 420
      }
     },
     "output_type": "display_data"
    }
   ],
   "source": [
    "par(cex.axis=1.5)\n",
    "image.plot(is)\n",
    "for (i in 1:10){\n",
    "  for (j in 1:10){\n",
    "    points((i-1)*400, (j-1)*400, pch=16, lwd=0.5, col=alpha('black',0.3))\n",
    "  }\n",
    "  abline(h =i*400,, col=alpha('black',0.3))\n",
    "  abline(v =i*400,, col=alpha('black',0.3)) \n",
    "}"
   ]
  },
  {
   "cell_type": "code",
   "execution_count": null,
   "id": "37276a04",
   "metadata": {},
   "outputs": [],
   "source": []
  }
 ],
 "metadata": {
  "kernelspec": {
   "display_name": "R",
   "language": "R",
   "name": "ir"
  },
  "language_info": {
   "codemirror_mode": "r",
   "file_extension": ".r",
   "mimetype": "text/x-r-source",
   "name": "R",
   "pygments_lexer": "r",
   "version": "3.6.1"
  }
 },
 "nbformat": 4,
 "nbformat_minor": 5
}
