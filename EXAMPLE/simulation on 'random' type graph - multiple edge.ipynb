{
 "cells": [
  {
   "cell_type": "code",
   "execution_count": 1,
   "metadata": {},
   "outputs": [
    {
     "name": "stderr",
     "output_type": "stream",
     "text": [
      "Loading required package: Matrix\n",
      "\n",
      "Attaching package: ‘expm’\n",
      "\n",
      "The following object is masked from ‘package:Matrix’:\n",
      "\n",
      "    expm\n",
      "\n"
     ]
    }
   ],
   "source": [
    "library(mmge)\n",
    "library(expm)\n",
    "library(MASS)"
   ]
  },
  {
   "cell_type": "code",
   "execution_count": 27,
   "metadata": {},
   "outputs": [
    {
     "name": "stderr",
     "output_type": "stream",
     "text": [
      "ℹ Reloading attached mmge\n"
     ]
    }
   ],
   "source": [
    "devtools::reload(pkg=\".\")"
   ]
  },
  {
   "cell_type": "markdown",
   "metadata": {},
   "source": [
    "# 1. generate shared graph structure"
   ]
  },
  {
   "cell_type": "code",
   "execution_count": 3,
   "metadata": {},
   "outputs": [],
   "source": [
    "m = 5\n",
    "n = 5\n",
    "p = 100\n",
    "q = 30"
   ]
  },
  {
   "cell_type": "code",
   "execution_count": 4,
   "metadata": {},
   "outputs": [],
   "source": [
    "Adj.S = matrix(0, q, q)\n",
    "Adj.S[upper.tri(Adj.S)] = rbinom(q*(q-1)/2, 1, sqrt(3/q)) \n",
    "Adj.S = Adj.S + t(Adj.S)"
   ]
  },
  {
   "cell_type": "markdown",
   "metadata": {},
   "source": [
    "# 2. generate precision matrices"
   ]
  },
  {
   "cell_type": "markdown",
   "metadata": {},
   "source": [
    "## spatial precision matrix"
   ]
  },
  {
   "cell_type": "code",
   "execution_count": 5,
   "metadata": {},
   "outputs": [],
   "source": [
    "power.S = 0.3"
   ]
  },
  {
   "cell_type": "code",
   "execution_count": 6,
   "metadata": {},
   "outputs": [],
   "source": [
    "Omega.S = lapply(rep(0,m), function(x){\n",
    "    Omega = matrix(0,q,q)\n",
    "    Omega[upper.tri(Omega)] = (\n",
    "        - runif(q*(q-1)/2, 0, power.S) * Adj.S[upper.tri(Adj.S)])\n",
    "    Omega = Omega + t(Omega)\n",
    "    if(min(eigen(Omega)$values)<0){\n",
    "        Omega = Omega - 2*min(eigen(Omega)$values)*diag(q)\n",
    "    }\n",
    "    return(Omega)\n",
    "})\n",
    "Sigma.S = lapply(Omega.S, solve)"
   ]
  },
  {
   "cell_type": "code",
   "execution_count": 7,
   "metadata": {},
   "outputs": [],
   "source": [
    "Rho.S = lapply(Omega.S, function(x){\n",
    "    dgWh.S = array(rep(diag(x), q), c(q,q))\n",
    "    return(x / aperm(sqrt(dgWh.S), c(2,1)) / sqrt(dgWh.S))\n",
    "})"
   ]
  },
  {
   "cell_type": "code",
   "execution_count": 8,
   "metadata": {},
   "outputs": [
    {
     "data": {
      "image/png": "[encoded data removed]",
      "text/plain": [
       "plot without title"
      ]
     },
     "metadata": {},
     "output_type": "display_data"
    },
    {
     "data": {
      "image/png": "[encoded data removed]",
      "text/plain": [
       "plot without title"
      ]
     },
     "metadata": {},
     "output_type": "display_data"
    },
    {
     "data": {
      "image/png": "[encoded data removed]",
      "text/plain": [
       "plot without title"
      ]
     },
     "metadata": {},
     "output_type": "display_data"
    }
   ],
   "source": [
    "options(repr.plot.width=4, repr.plot.height=4)\n",
    "imshow(Adj.S)\n",
    "imshow(Omega.S[[1]])\n",
    "imshow(Sigma.S[[1]])"
   ]
  },
  {
   "cell_type": "markdown",
   "metadata": {},
   "source": [
    "## temporal precision matrix"
   ]
  },
  {
   "cell_type": "code",
   "execution_count": 9,
   "metadata": {},
   "outputs": [],
   "source": [
    "power.T = 0.2\n",
    "decay.T = 1"
   ]
  },
  {
   "cell_type": "code",
   "execution_count": 10,
   "metadata": {},
   "outputs": [],
   "source": [
    "beta.T = power.T * abs(outer(1:p,1:p,FUN='-'))**(-1-decay.T)\n",
    "beta.T[upper.tri(beta.T, diag=TRUE)] = 0"
   ]
  },
  {
   "cell_type": "code",
   "execution_count": 11,
   "metadata": {},
   "outputs": [],
   "source": [
    "Omega.T = lapply(rep(0, m), function(x){\n",
    "    t(diag(p)-beta.T) %*% (diag(p)-beta.T)})\n",
    "Sigma.T = lapply(Omega.T, solve)"
   ]
  },
  {
   "cell_type": "code",
   "execution_count": 12,
   "metadata": {},
   "outputs": [],
   "source": [
    "Omega.T = lapply(1:m, function(l){\n",
    "  Omega.T[[l]] * sum(diag(Sigma.T[[l]])) / p  \n",
    "})\n",
    "\n",
    "Sigma.T = lapply(1:m, function(l){\n",
    "  Sigma.T[[l]] * p / sum(diag(Sigma.T[[l]]))\n",
    "})"
   ]
  },
  {
   "cell_type": "code",
   "execution_count": 13,
   "metadata": {},
   "outputs": [
    {
     "data": {
      "image/png": "[encoded data removed]",
      "text/plain": [
       "plot without title"
      ]
     },
     "metadata": {},
     "output_type": "display_data"
    },
    {
     "data": {
      "image/png": "[encoded data removed]",
      "text/plain": [
       "plot without title"
      ]
     },
     "metadata": {},
     "output_type": "display_data"
    },
    {
     "data": {
      "image/png": "[encoded data removed]",
      "text/plain": [
       "plot without title"
      ]
     },
     "metadata": {},
     "output_type": "display_data"
    }
   ],
   "source": [
    "options(repr.plot.width=4, repr.plot.height=4)\n",
    "imshow(beta.T)\n",
    "imshow(Omega.T[[1]])\n",
    "imshow(Sigma.T[[1]])"
   ]
  },
  {
   "cell_type": "markdown",
   "metadata": {},
   "source": [
    "# 3. simulation data according to MGGM"
   ]
  },
  {
   "cell_type": "code",
   "execution_count": 14,
   "metadata": {},
   "outputs": [],
   "source": [
    "data = lapply(1:m, function(l){\n",
    "    n_l = n #floor(runif(1, n, 2*n))\n",
    "    return(array(apply(array(rnorm(p*q*n_l), c(p,q,n_l)), 3, function(x){\n",
    "        sqrtm(Sigma.T[[l]]) %*% x %*% sqrtm(Sigma.S[[l]])\n",
    "    }), c(p,q,n_l)))\n",
    "})"
   ]
  },
  {
   "cell_type": "code",
   "execution_count": 15,
   "metadata": {},
   "outputs": [],
   "source": [
    "ns = sapply(data, function(x){dim(x)[3]})"
   ]
  },
  {
   "cell_type": "code",
   "execution_count": 16,
   "metadata": {},
   "outputs": [],
   "source": [
    "sess.id = c(sapply(1:m, function(l){rep(l,ns[l])}))"
   ]
  },
  {
   "cell_type": "code",
   "execution_count": 17,
   "metadata": {},
   "outputs": [],
   "source": [
    "T.S = Reduce(f = \"+\", lapply(1:m, function(l){\n",
    "    sqrt(ns[l] * p / m) * Rho.S[[l]]\n",
    "}), accumulate=FALSE)"
   ]
  },
  {
   "cell_type": "markdown",
   "metadata": {},
   "source": [
    "# 4. estimation by the proposed method"
   ]
  },
  {
   "cell_type": "code",
   "execution_count": 18,
   "metadata": {},
   "outputs": [],
   "source": [
    "est.T = est.temporal(data, order.T=5)"
   ]
  },
  {
   "cell_type": "code",
   "execution_count": 19,
   "metadata": {},
   "outputs": [],
   "source": [
    "est.S = est.spatial(data, lambdas=1e-4)"
   ]
  },
  {
   "cell_type": "markdown",
   "metadata": {},
   "source": [
    "# 5. global test for multiple edges"
   ]
  },
  {
   "cell_type": "code",
   "execution_count": 20,
   "metadata": {},
   "outputs": [],
   "source": [
    "num.bst = 3000"
   ]
  },
  {
   "cell_type": "markdown",
   "metadata": {},
   "source": [
    "## 5.1. $E_\\text{off}$"
   ]
  },
  {
   "cell_type": "code",
   "execution_count": 25,
   "metadata": {},
   "outputs": [],
   "source": [
    "E.mat.off = (diag(q) == 0)\n",
    "E.mat.off[lower.tri(E.mat.off, diag = TRUE)] = 0\n",
    "E.mat.off = E.mat.off != 0\n",
    "num.E.off = sum(1*E.mat.off)\n",
    "Cov.T.E.off = cov.multiple.edge(Omega.S, Sigma.T, ns, E.mat = E.mat.off)"
   ]
  },
  {
   "cell_type": "code",
   "execution_count": 26,
   "metadata": {},
   "outputs": [],
   "source": [
    "inf.S.multi.off = inf.multiple.edge(est.S$W.hat.S, est.T$S.hat.T, ns,\n",
    "                                E.mat = E.mat.off, num.bst=num.bst)"
   ]
  },
  {
   "cell_type": "markdown",
   "metadata": {},
   "source": [
    "### error distribution of test statistic estimate"
   ]
  },
  {
   "cell_type": "code",
   "execution_count": 28,
   "metadata": {},
   "outputs": [
    {
     "data": {
      "image/png": "[encoded data removed]",
      "text/plain": [
       "Plot with title “distribution of estimate error”"
      ]
     },
     "metadata": {},
     "output_type": "display_data"
    }
   ],
   "source": [
    "hist(inf.S.multi.off$T.hat.E[,1] - T.S[E.mat.off], \n",
    "     main = 'distribution of estimate error',\n",
    "     xlab = 'test statistics error')"
   ]
  },
  {
   "cell_type": "markdown",
   "metadata": {},
   "source": [
    "### bootstrap distribution"
   ]
  },
  {
   "cell_type": "code",
   "execution_count": 29,
   "metadata": {},
   "outputs": [
    {
     "data": {
      "image/png": "[encoded data removed]",
      "text/plain": [
       "Plot with title “bootstrap distribution”"
      ]
     },
     "metadata": {},
     "output_type": "display_data"
    }
   ],
   "source": [
    "hist(inf.S.multi.off$l.inf.Z,\n",
    "     main = 'bootstrap distribution',\n",
    "     xlab = expression(l[infinity](zeta)), xlim = c(2.5, 7), xaxt=\"n\")\n",
    "abline(v = max(abs(inf.S.multi.off$T.hat.E[,1])), col='red')\n",
    "axis(side=1, at=c(2, 3, 4, 5, 6, 7))"
   ]
  },
  {
   "cell_type": "markdown",
   "metadata": {},
   "source": [
    "### p-value"
   ]
  },
  {
   "cell_type": "code",
   "execution_count": 30,
   "metadata": {
    "scrolled": true
   },
   "outputs": [
    {
     "data": {
      "text/html": [
       "0.00166666666666667"
      ],
      "text/latex": [
       "0.00166666666666667"
      ],
      "text/markdown": [
       "0.00166666666666667"
      ],
      "text/plain": [
       "[1] 0.001666667"
      ]
     },
     "metadata": {},
     "output_type": "display_data"
    }
   ],
   "source": [
    "inf.S.multi.off$p.value"
   ]
  },
  {
   "cell_type": "markdown",
   "metadata": {},
   "source": [
    "## $E_\\text{zero}$"
   ]
  },
  {
   "cell_type": "code",
   "execution_count": 31,
   "metadata": {},
   "outputs": [],
   "source": [
    "E.mat.zero = !Adj.S\n",
    "diag(E.mat.zero) = FALSE\n",
    "E.mat.zero[lower.tri(E.mat.zero, diag = TRUE)] = 0\n",
    "E.mat.zero = E.mat.zero != 0\n",
    "num.E.zero = sum(1*E.mat.zero)\n",
    "Cov.T.E.zero = cov.multiple.edge(Omega.S, Sigma.T, ns, E.mat = E.mat.zero)"
   ]
  },
  {
   "cell_type": "code",
   "execution_count": 32,
   "metadata": {},
   "outputs": [],
   "source": [
    "inf.S.multi.zero = inf.multiple.edge(est.S$W.hat.S, est.T$S.hat.T, ns,\n",
    "                                     E.mat = E.mat.zero, num.bst=num.bst)"
   ]
  },
  {
   "cell_type": "markdown",
   "metadata": {},
   "source": [
    "### error distribution of test statistic estimate"
   ]
  },
  {
   "cell_type": "code",
   "execution_count": 33,
   "metadata": {},
   "outputs": [
    {
     "data": {
      "image/png": "[encoded data removed]",
      "text/plain": [
       "Plot with title “distribution of estimate error”"
      ]
     },
     "metadata": {},
     "output_type": "display_data"
    }
   ],
   "source": [
    "hist(inf.S.multi.zero$T.hat.E[,1] - T.S[E.mat.zero], \n",
    "     main = 'distribution of estimate error',\n",
    "     xlab = 'test statistics error')"
   ]
  },
  {
   "cell_type": "markdown",
   "metadata": {},
   "source": [
    "### bootstrap distribution"
   ]
  },
  {
   "cell_type": "code",
   "execution_count": 34,
   "metadata": {},
   "outputs": [
    {
     "data": {
      "image/png": "[encoded data removed]",
      "text/plain": [
       "Plot with title “bootstrap distribution”"
      ]
     },
     "metadata": {},
     "output_type": "display_data"
    }
   ],
   "source": [
    "hist(inf.S.multi.zero$l.inf.Z,\n",
    "     main = 'bootstrap distribution',\n",
    "     xlab = expression(l[infinity](zeta)), xlim = c(2.5, 7), xaxt=\"n\")\n",
    "abline(v = max(abs(inf.S.multi.zero$T.hat.E[,1])), col='red')\n",
    "axis(side=1, at=c(2, 3, 4, 5, 6, 7))"
   ]
  },
  {
   "cell_type": "markdown",
   "metadata": {},
   "source": [
    "### p-value"
   ]
  },
  {
   "cell_type": "code",
   "execution_count": 35,
   "metadata": {
    "scrolled": true
   },
   "outputs": [
    {
     "data": {
      "text/html": [
       "0.324666666666667"
      ],
      "text/latex": [
       "0.324666666666667"
      ],
      "text/markdown": [
       "0.324666666666667"
      ],
      "text/plain": [
       "[1] 0.3246667"
      ]
     },
     "metadata": {},
     "output_type": "display_data"
    }
   ],
   "source": [
    "inf.S.multi.zero$p.value"
   ]
  },
  {
   "cell_type": "markdown",
   "metadata": {},
   "source": [
    "# 6. iterate simulation for empirical distirbution of test statistic"
   ]
  },
  {
   "cell_type": "code",
   "execution_count": 81,
   "metadata": {},
   "outputs": [],
   "source": [
    "num.sim = 1000"
   ]
  },
  {
   "cell_type": "code",
   "execution_count": 82,
   "metadata": {},
   "outputs": [],
   "source": [
    "T.hat.sim = array(0, c(q,q,num.sim))"
   ]
  },
  {
   "cell_type": "code",
   "execution_count": 83,
   "metadata": {
    "scrolled": true
   },
   "outputs": [
    {
     "name": "stdout",
     "output_type": "stream",
     "text": [
      "1 -th simulation finished, lapse:  10.756 sec. \n",
      "2 -th simulation finished, lapse:  10.513 sec. \n",
      "3 -th simulation finished, lapse:  8.986 sec. \n",
      "4 -th simulation finished, lapse:  9.305 sec. \n",
      "5 -th simulation finished, lapse:  8.536 sec. \n",
      "6 -th simulation finished, lapse:  9.747 sec. \n",
      "7 -th simulation finished, lapse:  9.592 sec. \n",
      "8 -th simulation finished, lapse:  6.8 sec. \n",
      "9 -th simulation finished, lapse:  7.545 sec. \n",
      "10 -th simulation finished, lapse:  8.474 sec. \n",
      "11 -th simulation finished, lapse:  13.663 sec. \n",
      "12 -th simulation finished, lapse:  9.914 sec. \n",
      "13 -th simulation finished, lapse:  9.025 sec. \n",
      "14 -th simulation finished, lapse:  6.359 sec. \n",
      "15 -th simulation finished, lapse:  7.148 sec. \n",
      "16 -th simulation finished, lapse:  13.428 sec. \n",
      "17 -th simulation finished, lapse:  11.464 sec. \n",
      "18 -th simulation finished, lapse:  8.776 sec. \n",
      "19 -th simulation finished, lapse:  8.289 sec. \n",
      "20 -th simulation finished, lapse:  9.392 sec. \n",
      "21 -th simulation finished, lapse:  9.542 sec. \n",
      "22 -th simulation finished, lapse:  11.625 sec. \n",
      "23 -th simulation finished, lapse:  10.596 sec. \n",
      "24 -th simulation finished, lapse:  9.151 sec. \n",
      "25 -th simulation finished, lapse:  10.058 sec. \n",
      "26 -th simulation finished, lapse:  8.046 sec. \n",
      "27 -th simulation finished, lapse:  11.728 sec. \n",
      "28 -th simulation finished, lapse:  10.612 sec. \n",
      "29 -th simulation finished, lapse:  11.597 sec. \n",
      "30 -th simulation finished, lapse:  9.922 sec. \n",
      "31 -th simulation finished, lapse:  9.483 sec. \n",
      "32 -th simulation finished, lapse:  9.299 sec. \n",
      "33 -th simulation finished, lapse:  8.982 sec. \n",
      "34 -th simulation finished, lapse:  8.616 sec. \n",
      "35 -th simulation finished, lapse:  8.406 sec. \n",
      "36 -th simulation finished, lapse:  10.084 sec. \n",
      "37 -th simulation finished, lapse:  10.681 sec. \n",
      "38 -th simulation finished, lapse:  9.06 sec. \n",
      "39 -th simulation finished, lapse:  9.819 sec. \n",
      "40 -th simulation finished, lapse:  12.189 sec. \n",
      "41 -th simulation finished, lapse:  8.71 sec. \n",
      "42 -th simulation finished, lapse:  10.706 sec. \n",
      "43 -th simulation finished, lapse:  9.987 sec. \n",
      "44 -th simulation finished, lapse:  9.89 sec. \n",
      "45 -th simulation finished, lapse:  9.7 sec. \n",
      "46 -th simulation finished, lapse:  7.099 sec. \n",
      "47 -th simulation finished, lapse:  10.552 sec. \n",
      "48 -th simulation finished, lapse:  11.398 sec. \n",
      "49 -th simulation finished, lapse:  10.089 sec. \n",
      "50 -th simulation finished, lapse:  10.813 sec. \n",
      "51 -th simulation finished, lapse:  9.426 sec. \n",
      "52 -th simulation finished, lapse:  9.624 sec. \n",
      "53 -th simulation finished, lapse:  10.262 sec. \n",
      "54 -th simulation finished, lapse:  10.688 sec. \n",
      "55 -th simulation finished, lapse:  11.683 sec. \n",
      "56 -th simulation finished, lapse:  7.582 sec. \n",
      "57 -th simulation finished, lapse:  10.656 sec. \n",
      "58 -th simulation finished, lapse:  9.129 sec. \n",
      "59 -th simulation finished, lapse:  10.48 sec. \n",
      "60 -th simulation finished, lapse:  10.453 sec. \n",
      "61 -th simulation finished, lapse:  11.353 sec. \n",
      "62 -th simulation finished, lapse:  10.124 sec. \n",
      "63 -th simulation finished, lapse:  10.021 sec. \n",
      "64 -th simulation finished, lapse:  8.486 sec. \n",
      "65 -th simulation finished, lapse:  8.3 sec. \n",
      "66 -th simulation finished, lapse:  6.915 sec. \n",
      "67 -th simulation finished, lapse:  10.764 sec. \n",
      "68 -th simulation finished, lapse:  9.431 sec. \n",
      "69 -th simulation finished, lapse:  9.728 sec. \n",
      "70 -th simulation finished, lapse:  8.179 sec. \n",
      "71 -th simulation finished, lapse:  8.475 sec. \n",
      "72 -th simulation finished, lapse:  9.12 sec. \n",
      "73 -th simulation finished, lapse:  7.596 sec. \n",
      "74 -th simulation finished, lapse:  8.068 sec. \n",
      "75 -th simulation finished, lapse:  8.418 sec. \n",
      "76 -th simulation finished, lapse:  8.529 sec. \n",
      "77 -th simulation finished, lapse:  8.534 sec. \n",
      "78 -th simulation finished, lapse:  11.005 sec. \n",
      "79 -th simulation finished, lapse:  10.754 sec. \n",
      "80 -th simulation finished, lapse:  8.464 sec. \n",
      "81 -th simulation finished, lapse:  8.823 sec. \n",
      "82 -th simulation finished, lapse:  10.382 sec. \n",
      "83 -th simulation finished, lapse:  8.723 sec. \n",
      "84 -th simulation finished, lapse:  9.732 sec. \n",
      "85 -th simulation finished, lapse:  11.159 sec. \n",
      "86 -th simulation finished, lapse:  10.331 sec. \n",
      "87 -th simulation finished, lapse:  10.732 sec. \n",
      "88 -th simulation finished, lapse:  9.446 sec. \n",
      "89 -th simulation finished, lapse:  12.736 sec. \n",
      "90 -th simulation finished, lapse:  6.856 sec. \n",
      "91 -th simulation finished, lapse:  6.091 sec. \n",
      "92 -th simulation finished, lapse:  9.215 sec. \n",
      "93 -th simulation finished, lapse:  11.134 sec. \n",
      "94 -th simulation finished, lapse:  11.967 sec. \n",
      "95 -th simulation finished, lapse:  9.863 sec. \n",
      "96 -th simulation finished, lapse:  9.309 sec. \n",
      "97 -th simulation finished, lapse:  8.52 sec. \n",
      "98 -th simulation finished, lapse:  11.726 sec. \n",
      "99 -th simulation finished, lapse:  10.631 sec. \n",
      "100 -th simulation finished, lapse:  11.651 sec. \n",
      "101 -th simulation finished, lapse:  10.698 sec. \n",
      "102 -th simulation finished, lapse:  9.924 sec. \n",
      "103 -th simulation finished, lapse:  10.708 sec. \n",
      "104 -th simulation finished, lapse:  8.676 sec. \n",
      "105 -th simulation finished, lapse:  7.373 sec. \n",
      "106 -th simulation finished, lapse:  11.049 sec. \n",
      "107 -th simulation finished, lapse:  10.044 sec. \n",
      "108 -th simulation finished, lapse:  10.856 sec. \n",
      "109 -th simulation finished, lapse:  11.727 sec. \n",
      "110 -th simulation finished, lapse:  12.933 sec. \n",
      "111 -th simulation finished, lapse:  9.5 sec. \n",
      "112 -th simulation finished, lapse:  8.675 sec. \n",
      "113 -th simulation finished, lapse:  9.771 sec. \n",
      "114 -th simulation finished, lapse:  8.662 sec. \n",
      "115 -th simulation finished, lapse:  7.554 sec. \n",
      "116 -th simulation finished, lapse:  10.855 sec. \n",
      "117 -th simulation finished, lapse:  12.735 sec. \n",
      "118 -th simulation finished, lapse:  9.016 sec. \n",
      "119 -th simulation finished, lapse:  11.595 sec. \n",
      "120 -th simulation finished, lapse:  12.043 sec. \n",
      "121 -th simulation finished, lapse:  11.203 sec. \n",
      "122 -th simulation finished, lapse:  8.467 sec. \n",
      "123 -th simulation finished, lapse:  8.55 sec. \n",
      "124 -th simulation finished, lapse:  9.402 sec. \n",
      "125 -th simulation finished, lapse:  8.855 sec. \n",
      "126 -th simulation finished, lapse:  12.515 sec. \n",
      "127 -th simulation finished, lapse:  9.04 sec. \n",
      "128 -th simulation finished, lapse:  9.897 sec. \n",
      "129 -th simulation finished, lapse:  9.916 sec. \n",
      "130 -th simulation finished, lapse:  9.277 sec. \n",
      "131 -th simulation finished, lapse:  7.18 sec. \n",
      "132 -th simulation finished, lapse:  6.392 sec. \n",
      "133 -th simulation finished, lapse:  7.72 sec. \n",
      "134 -th simulation finished, lapse:  8.88 sec. \n",
      "135 -th simulation finished, lapse:  13.148 sec. \n",
      "136 -th simulation finished, lapse:  9.295 sec. \n",
      "137 -th simulation finished, lapse:  8.995 sec. \n",
      "138 -th simulation finished, lapse:  8.89 sec. \n",
      "139 -th simulation finished, lapse:  7.515 sec. \n",
      "140 -th simulation finished, lapse:  9.495 sec. \n",
      "141 -th simulation finished, lapse:  7.787 sec. \n",
      "142 -th simulation finished, lapse:  10.002 sec. \n",
      "143 -th simulation finished, lapse:  9.346 sec. \n",
      "144 -th simulation finished, lapse:  9.05 sec. \n",
      "145 -th simulation finished, lapse:  8.362 sec. \n",
      "146 -th simulation finished, lapse:  13.036 sec. \n",
      "147 -th simulation finished, lapse:  9.11 sec. \n",
      "148 -th simulation finished, lapse:  9.096 sec. \n",
      "149 -th simulation finished, lapse:  8.235 sec. \n",
      "150 -th simulation finished, lapse:  8.058 sec. \n",
      "151 -th simulation finished, lapse:  8.875 sec. \n",
      "152 -th simulation finished, lapse:  11.677 sec. \n",
      "153 -th simulation finished, lapse:  9.137 sec. \n",
      "154 -th simulation finished, lapse:  12.014 sec. \n",
      "155 -th simulation finished, lapse:  10.806 sec. \n",
      "156 -th simulation finished, lapse:  7.96 sec. \n",
      "157 -th simulation finished, lapse:  9.677 sec. \n",
      "158 -th simulation finished, lapse:  9.404 sec. \n",
      "159 -th simulation finished, lapse:  9.88 sec. \n",
      "160 -th simulation finished, lapse:  9.414 sec. \n",
      "161 -th simulation finished, lapse:  9.932 sec. \n",
      "162 -th simulation finished, lapse:  10.622 sec. \n",
      "163 -th simulation finished, lapse:  9.693 sec. \n",
      "164 -th simulation finished, lapse:  10.506 sec. \n",
      "165 -th simulation finished, lapse:  8.573 sec. \n",
      "166 -th simulation finished, lapse:  8.526 sec. \n",
      "167 -th simulation finished, lapse:  6.696 sec. \n",
      "168 -th simulation finished, lapse:  8.468 sec. \n",
      "169 -th simulation finished, lapse:  7.918 sec. \n"
     ]
    },
    {
     "name": "stdout",
     "output_type": "stream",
     "text": [
      "170 -th simulation finished, lapse:  6.504 sec. \n",
      "171 -th simulation finished, lapse:  8.015 sec. \n",
      "172 -th simulation finished, lapse:  8.672 sec. \n",
      "173 -th simulation finished, lapse:  8.738 sec. \n",
      "174 -th simulation finished, lapse:  8.102 sec. \n",
      "175 -th simulation finished, lapse:  10.614 sec. \n",
      "176 -th simulation finished, lapse:  8.452 sec. \n",
      "177 -th simulation finished, lapse:  7.686 sec. \n",
      "178 -th simulation finished, lapse:  9.801 sec. \n",
      "179 -th simulation finished, lapse:  8.867 sec. \n",
      "180 -th simulation finished, lapse:  10.083 sec. \n",
      "181 -th simulation finished, lapse:  12.146 sec. \n",
      "182 -th simulation finished, lapse:  11.921 sec. \n",
      "183 -th simulation finished, lapse:  10.029 sec. \n",
      "184 -th simulation finished, lapse:  9.713 sec. \n",
      "185 -th simulation finished, lapse:  10.502 sec. \n",
      "186 -th simulation finished, lapse:  9.378 sec. \n",
      "187 -th simulation finished, lapse:  10.081 sec. \n",
      "188 -th simulation finished, lapse:  12.424 sec. \n",
      "189 -th simulation finished, lapse:  11.37 sec. \n",
      "190 -th simulation finished, lapse:  10.736 sec. \n",
      "191 -th simulation finished, lapse:  10.187 sec. \n",
      "192 -th simulation finished, lapse:  8.094 sec. \n",
      "193 -th simulation finished, lapse:  8.938 sec. \n",
      "194 -th simulation finished, lapse:  9.081 sec. \n",
      "195 -th simulation finished, lapse:  10.383 sec. \n",
      "196 -th simulation finished, lapse:  10.135 sec. \n",
      "197 -th simulation finished, lapse:  11.734 sec. \n",
      "198 -th simulation finished, lapse:  11.301 sec. \n",
      "199 -th simulation finished, lapse:  9.31 sec. \n",
      "200 -th simulation finished, lapse:  12.219 sec. \n",
      "201 -th simulation finished, lapse:  13.703 sec. \n",
      "202 -th simulation finished, lapse:  7.585 sec. \n",
      "203 -th simulation finished, lapse:  9.633 sec. \n",
      "204 -th simulation finished, lapse:  11.382 sec. \n",
      "205 -th simulation finished, lapse:  9.553 sec. \n",
      "206 -th simulation finished, lapse:  10.731 sec. \n",
      "207 -th simulation finished, lapse:  8.847 sec. \n",
      "208 -th simulation finished, lapse:  8.789 sec. \n",
      "209 -th simulation finished, lapse:  12.083 sec. \n",
      "210 -th simulation finished, lapse:  13.958 sec. \n",
      "211 -th simulation finished, lapse:  10.648 sec. \n",
      "212 -th simulation finished, lapse:  12.406 sec. \n",
      "213 -th simulation finished, lapse:  10.247 sec. \n",
      "214 -th simulation finished, lapse:  12.597 sec. \n",
      "215 -th simulation finished, lapse:  9.415 sec. \n",
      "216 -th simulation finished, lapse:  11.295 sec. \n",
      "217 -th simulation finished, lapse:  8.478 sec. \n",
      "218 -th simulation finished, lapse:  10.437 sec. \n",
      "219 -th simulation finished, lapse:  10.144 sec. \n",
      "220 -th simulation finished, lapse:  10.307 sec. \n",
      "221 -th simulation finished, lapse:  10.139 sec. \n",
      "222 -th simulation finished, lapse:  10.08 sec. \n",
      "223 -th simulation finished, lapse:  9.965 sec. \n",
      "224 -th simulation finished, lapse:  7.072 sec. \n",
      "225 -th simulation finished, lapse:  6.391 sec. \n",
      "226 -th simulation finished, lapse:  9.128 sec. \n",
      "227 -th simulation finished, lapse:  8.725 sec. \n",
      "228 -th simulation finished, lapse:  13.81 sec. \n",
      "229 -th simulation finished, lapse:  12.414 sec. \n",
      "230 -th simulation finished, lapse:  10.932 sec. \n",
      "231 -th simulation finished, lapse:  8.009 sec. \n",
      "232 -th simulation finished, lapse:  10.605 sec. \n",
      "233 -th simulation finished, lapse:  8.993 sec. \n",
      "234 -th simulation finished, lapse:  9.489 sec. \n",
      "235 -th simulation finished, lapse:  11.599 sec. \n",
      "236 -th simulation finished, lapse:  7.948 sec. \n",
      "237 -th simulation finished, lapse:  10.134 sec. \n",
      "238 -th simulation finished, lapse:  11.611 sec. \n",
      "239 -th simulation finished, lapse:  7.201 sec. \n",
      "240 -th simulation finished, lapse:  10.462 sec. \n",
      "241 -th simulation finished, lapse:  8.358 sec. \n",
      "242 -th simulation finished, lapse:  12.525 sec. \n",
      "243 -th simulation finished, lapse:  11.8 sec. \n",
      "244 -th simulation finished, lapse:  8.023 sec. \n",
      "245 -th simulation finished, lapse:  10.877 sec. \n",
      "246 -th simulation finished, lapse:  8.134 sec. \n",
      "247 -th simulation finished, lapse:  10.972 sec. \n",
      "248 -th simulation finished, lapse:  9.781 sec. \n",
      "249 -th simulation finished, lapse:  9.271 sec. \n",
      "250 -th simulation finished, lapse:  8.924 sec. \n",
      "251 -th simulation finished, lapse:  9.706 sec. \n",
      "252 -th simulation finished, lapse:  13.63 sec. \n",
      "253 -th simulation finished, lapse:  9.199 sec. \n",
      "254 -th simulation finished, lapse:  11.239 sec. \n",
      "255 -th simulation finished, lapse:  8.775 sec. \n",
      "256 -th simulation finished, lapse:  9.044 sec. \n",
      "257 -th simulation finished, lapse:  11.825 sec. \n",
      "258 -th simulation finished, lapse:  12.352 sec. \n",
      "259 -th simulation finished, lapse:  9.419 sec. \n",
      "260 -th simulation finished, lapse:  8.096 sec. \n",
      "261 -th simulation finished, lapse:  8.053 sec. \n",
      "262 -th simulation finished, lapse:  9.414 sec. \n",
      "263 -th simulation finished, lapse:  9.01 sec. \n",
      "264 -th simulation finished, lapse:  10.776 sec. \n",
      "265 -th simulation finished, lapse:  10.111 sec. \n",
      "266 -th simulation finished, lapse:  10.653 sec. \n",
      "267 -th simulation finished, lapse:  11.034 sec. \n",
      "268 -th simulation finished, lapse:  10.218 sec. \n",
      "269 -th simulation finished, lapse:  7.463 sec. \n",
      "270 -th simulation finished, lapse:  10.253 sec. \n",
      "271 -th simulation finished, lapse:  11.846 sec. \n",
      "272 -th simulation finished, lapse:  10.414 sec. \n",
      "273 -th simulation finished, lapse:  11.261 sec. \n",
      "274 -th simulation finished, lapse:  8.353 sec. \n",
      "275 -th simulation finished, lapse:  13.492 sec. \n",
      "276 -th simulation finished, lapse:  12.16 sec. \n",
      "277 -th simulation finished, lapse:  9.105 sec. \n",
      "278 -th simulation finished, lapse:  9.479 sec. \n",
      "279 -th simulation finished, lapse:  9.717 sec. \n",
      "280 -th simulation finished, lapse:  8.519 sec. \n",
      "281 -th simulation finished, lapse:  9.954 sec. \n",
      "282 -th simulation finished, lapse:  7.288 sec. \n",
      "283 -th simulation finished, lapse:  8.975 sec. \n",
      "284 -th simulation finished, lapse:  11.772 sec. \n",
      "285 -th simulation finished, lapse:  8.683 sec. \n",
      "286 -th simulation finished, lapse:  9.193 sec. \n",
      "287 -th simulation finished, lapse:  8.724 sec. \n",
      "288 -th simulation finished, lapse:  9.116 sec. \n",
      "289 -th simulation finished, lapse:  10.246 sec. \n",
      "290 -th simulation finished, lapse:  8.325 sec. \n",
      "291 -th simulation finished, lapse:  8.32 sec. \n",
      "292 -th simulation finished, lapse:  10.095 sec. \n",
      "293 -th simulation finished, lapse:  11.926 sec. \n",
      "294 -th simulation finished, lapse:  8.741 sec. \n",
      "295 -th simulation finished, lapse:  9.603 sec. \n",
      "296 -th simulation finished, lapse:  6.866 sec. \n",
      "297 -th simulation finished, lapse:  7.794 sec. \n",
      "298 -th simulation finished, lapse:  8.676 sec. \n",
      "299 -th simulation finished, lapse:  9.338 sec. \n",
      "300 -th simulation finished, lapse:  10.34 sec. \n",
      "301 -th simulation finished, lapse:  7.719 sec. \n",
      "302 -th simulation finished, lapse:  9.349 sec. \n",
      "303 -th simulation finished, lapse:  12.157 sec. \n",
      "304 -th simulation finished, lapse:  8.691 sec. \n",
      "305 -th simulation finished, lapse:  11.57 sec. \n",
      "306 -th simulation finished, lapse:  9.355 sec. \n",
      "307 -th simulation finished, lapse:  9.293 sec. \n",
      "308 -th simulation finished, lapse:  11.436 sec. \n",
      "309 -th simulation finished, lapse:  9.022 sec. \n",
      "310 -th simulation finished, lapse:  9.745 sec. \n",
      "311 -th simulation finished, lapse:  9.809 sec. \n",
      "312 -th simulation finished, lapse:  9.404 sec. \n",
      "313 -th simulation finished, lapse:  8.271 sec. \n",
      "314 -th simulation finished, lapse:  9.96 sec. \n",
      "315 -th simulation finished, lapse:  8.898 sec. \n",
      "316 -th simulation finished, lapse:  11.105 sec. \n",
      "317 -th simulation finished, lapse:  10.457 sec. \n",
      "318 -th simulation finished, lapse:  8.1 sec. \n",
      "319 -th simulation finished, lapse:  9.136 sec. \n",
      "320 -th simulation finished, lapse:  12.202 sec. \n",
      "321 -th simulation finished, lapse:  7.521 sec. \n",
      "322 -th simulation finished, lapse:  11.149 sec. \n",
      "323 -th simulation finished, lapse:  11.458 sec. \n",
      "324 -th simulation finished, lapse:  7.604 sec. \n",
      "325 -th simulation finished, lapse:  10.256 sec. \n",
      "326 -th simulation finished, lapse:  11.374 sec. \n",
      "327 -th simulation finished, lapse:  12.033 sec. \n",
      "328 -th simulation finished, lapse:  10.465 sec. \n",
      "329 -th simulation finished, lapse:  10.897 sec. \n",
      "330 -th simulation finished, lapse:  7.919 sec. \n",
      "331 -th simulation finished, lapse:  8.752 sec. \n",
      "332 -th simulation finished, lapse:  9.824 sec. \n",
      "333 -th simulation finished, lapse:  8.792 sec. \n",
      "334 -th simulation finished, lapse:  11.663 sec. \n",
      "335 -th simulation finished, lapse:  12.954 sec. \n"
     ]
    },
    {
     "name": "stdout",
     "output_type": "stream",
     "text": [
      "336 -th simulation finished, lapse:  10.909 sec. \n",
      "337 -th simulation finished, lapse:  9.142 sec. \n",
      "338 -th simulation finished, lapse:  9.514 sec. \n",
      "339 -th simulation finished, lapse:  9.921 sec. \n",
      "340 -th simulation finished, lapse:  11.161 sec. \n",
      "341 -th simulation finished, lapse:  7.177 sec. \n",
      "342 -th simulation finished, lapse:  8.709 sec. \n",
      "343 -th simulation finished, lapse:  8.281 sec. \n",
      "344 -th simulation finished, lapse:  9.393 sec. \n",
      "345 -th simulation finished, lapse:  13.341 sec. \n",
      "346 -th simulation finished, lapse:  11.507 sec. \n",
      "347 -th simulation finished, lapse:  7.772 sec. \n",
      "348 -th simulation finished, lapse:  7.944 sec. \n",
      "349 -th simulation finished, lapse:  6.475 sec. \n",
      "350 -th simulation finished, lapse:  7.2 sec. \n",
      "351 -th simulation finished, lapse:  10.882 sec. \n",
      "352 -th simulation finished, lapse:  8.532 sec. \n",
      "353 -th simulation finished, lapse:  6.479 sec. \n",
      "354 -th simulation finished, lapse:  9.283 sec. \n",
      "355 -th simulation finished, lapse:  8.236 sec. \n",
      "356 -th simulation finished, lapse:  11.078 sec. \n",
      "357 -th simulation finished, lapse:  10.379 sec. \n",
      "358 -th simulation finished, lapse:  8.618 sec. \n",
      "359 -th simulation finished, lapse:  9.414 sec. \n",
      "360 -th simulation finished, lapse:  8.343 sec. \n",
      "361 -th simulation finished, lapse:  7.735 sec. \n",
      "362 -th simulation finished, lapse:  11.236 sec. \n",
      "363 -th simulation finished, lapse:  11 sec. \n",
      "364 -th simulation finished, lapse:  9.692 sec. \n",
      "365 -th simulation finished, lapse:  8.883 sec. \n",
      "366 -th simulation finished, lapse:  11.321 sec. \n",
      "367 -th simulation finished, lapse:  10.601 sec. \n",
      "368 -th simulation finished, lapse:  11.369 sec. \n",
      "369 -th simulation finished, lapse:  8.527 sec. \n",
      "370 -th simulation finished, lapse:  11.148 sec. \n",
      "371 -th simulation finished, lapse:  8.721 sec. \n",
      "372 -th simulation finished, lapse:  8.47 sec. \n",
      "373 -th simulation finished, lapse:  7.332 sec. \n",
      "374 -th simulation finished, lapse:  9.87 sec. \n",
      "375 -th simulation finished, lapse:  9.886 sec. \n",
      "376 -th simulation finished, lapse:  11.149 sec. \n",
      "377 -th simulation finished, lapse:  12.247 sec. \n",
      "378 -th simulation finished, lapse:  11.26 sec. \n",
      "379 -th simulation finished, lapse:  13.307 sec. \n",
      "380 -th simulation finished, lapse:  6.811 sec. \n",
      "381 -th simulation finished, lapse:  10.754 sec. \n",
      "382 -th simulation finished, lapse:  8.084 sec. \n",
      "383 -th simulation finished, lapse:  12.032 sec. \n",
      "384 -th simulation finished, lapse:  9.342 sec. \n",
      "385 -th simulation finished, lapse:  11.991 sec. \n",
      "386 -th simulation finished, lapse:  8.968 sec. \n",
      "387 -th simulation finished, lapse:  9.876 sec. \n",
      "388 -th simulation finished, lapse:  8.146 sec. \n",
      "389 -th simulation finished, lapse:  9.401 sec. \n",
      "390 -th simulation finished, lapse:  8.944 sec. \n",
      "391 -th simulation finished, lapse:  11.406 sec. \n",
      "392 -th simulation finished, lapse:  7.404 sec. \n",
      "393 -th simulation finished, lapse:  8.659 sec. \n",
      "394 -th simulation finished, lapse:  10.331 sec. \n",
      "395 -th simulation finished, lapse:  7.099 sec. \n",
      "396 -th simulation finished, lapse:  10.903 sec. \n",
      "397 -th simulation finished, lapse:  8.802 sec. \n",
      "398 -th simulation finished, lapse:  14.904 sec. \n",
      "399 -th simulation finished, lapse:  9.089 sec. \n",
      "400 -th simulation finished, lapse:  7.717 sec. \n",
      "401 -th simulation finished, lapse:  10.74 sec. \n",
      "402 -th simulation finished, lapse:  10.538 sec. \n",
      "403 -th simulation finished, lapse:  12.71 sec. \n",
      "404 -th simulation finished, lapse:  11.132 sec. \n",
      "405 -th simulation finished, lapse:  8.589 sec. \n",
      "406 -th simulation finished, lapse:  10.913 sec. \n",
      "407 -th simulation finished, lapse:  9.626 sec. \n",
      "408 -th simulation finished, lapse:  10.861 sec. \n",
      "409 -th simulation finished, lapse:  10.757 sec. \n",
      "410 -th simulation finished, lapse:  9.767 sec. \n",
      "411 -th simulation finished, lapse:  10.376 sec. \n",
      "412 -th simulation finished, lapse:  10.871 sec. \n",
      "413 -th simulation finished, lapse:  12.664 sec. \n",
      "414 -th simulation finished, lapse:  10.75 sec. \n",
      "415 -th simulation finished, lapse:  8.513 sec. \n",
      "416 -th simulation finished, lapse:  8.492 sec. \n",
      "417 -th simulation finished, lapse:  11.157 sec. \n",
      "418 -th simulation finished, lapse:  10.854 sec. \n",
      "419 -th simulation finished, lapse:  11.881 sec. \n",
      "420 -th simulation finished, lapse:  6.269 sec. \n",
      "421 -th simulation finished, lapse:  11.383 sec. \n",
      "422 -th simulation finished, lapse:  12.521 sec. \n",
      "423 -th simulation finished, lapse:  9.468 sec. \n",
      "424 -th simulation finished, lapse:  9.942 sec. \n",
      "425 -th simulation finished, lapse:  11.184 sec. \n",
      "426 -th simulation finished, lapse:  10.731 sec. \n",
      "427 -th simulation finished, lapse:  9.643 sec. \n",
      "428 -th simulation finished, lapse:  11.626 sec. \n",
      "429 -th simulation finished, lapse:  7.922 sec. \n",
      "430 -th simulation finished, lapse:  8.259 sec. \n",
      "431 -th simulation finished, lapse:  9.194 sec. \n",
      "432 -th simulation finished, lapse:  8.704 sec. \n",
      "433 -th simulation finished, lapse:  5.953 sec. \n",
      "434 -th simulation finished, lapse:  10.146 sec. \n",
      "435 -th simulation finished, lapse:  9.491 sec. \n",
      "436 -th simulation finished, lapse:  8.329 sec. \n",
      "437 -th simulation finished, lapse:  9.712 sec. \n",
      "438 -th simulation finished, lapse:  12.026 sec. \n",
      "439 -th simulation finished, lapse:  9.348 sec. \n",
      "440 -th simulation finished, lapse:  9.028 sec. \n",
      "441 -th simulation finished, lapse:  7.085 sec. \n",
      "442 -th simulation finished, lapse:  11.844 sec. \n",
      "443 -th simulation finished, lapse:  11.664 sec. \n",
      "444 -th simulation finished, lapse:  8.541 sec. \n",
      "445 -th simulation finished, lapse:  12.007 sec. \n",
      "446 -th simulation finished, lapse:  8.379 sec. \n",
      "447 -th simulation finished, lapse:  9.962 sec. \n",
      "448 -th simulation finished, lapse:  9.912 sec. \n",
      "449 -th simulation finished, lapse:  9.483 sec. \n",
      "450 -th simulation finished, lapse:  12.286 sec. \n",
      "451 -th simulation finished, lapse:  10.099 sec. \n",
      "452 -th simulation finished, lapse:  8.881 sec. \n",
      "453 -th simulation finished, lapse:  8.215 sec. \n",
      "454 -th simulation finished, lapse:  7.145 sec. \n",
      "455 -th simulation finished, lapse:  9.885 sec. \n",
      "456 -th simulation finished, lapse:  10.296 sec. \n",
      "457 -th simulation finished, lapse:  8.321 sec. \n",
      "458 -th simulation finished, lapse:  9.481 sec. \n",
      "459 -th simulation finished, lapse:  6.398 sec. \n",
      "460 -th simulation finished, lapse:  10.761 sec. \n",
      "461 -th simulation finished, lapse:  9.346 sec. \n",
      "462 -th simulation finished, lapse:  8.05 sec. \n",
      "463 -th simulation finished, lapse:  7.686 sec. \n",
      "464 -th simulation finished, lapse:  12.039 sec. \n",
      "465 -th simulation finished, lapse:  9.069 sec. \n",
      "466 -th simulation finished, lapse:  7.177 sec. \n",
      "467 -th simulation finished, lapse:  8.684 sec. \n",
      "468 -th simulation finished, lapse:  8.965 sec. \n",
      "481 -th simulation finished, lapse:  10.913 sec. \n",
      "482 -th simulation finished, lapse:  6.985 sec. \n",
      "483 -th simulation finished, lapse:  10.847 sec. \n",
      "484 -th simulation finished, lapse:  9.049 sec. \n",
      "485 -th simulation finished, lapse:  9.787 sec. \n",
      "486 -th simulation finished, lapse:  11.525 sec. \n",
      "487 -th simulation finished, lapse:  8.028 sec. \n",
      "488 -th simulation finished, lapse:  10.787 sec. \n",
      "489 -th simulation finished, lapse:  13.292 sec. \n",
      "490 -th simulation finished, lapse:  8.811 sec. \n",
      "491 -th simulation finished, lapse:  12.068 sec. \n",
      "492 -th simulation finished, lapse:  10.263 sec. \n",
      "493 -th simulation finished, lapse:  10.473 sec. \n",
      "494 -th simulation finished, lapse:  10.128 sec. \n",
      "495 -th simulation finished, lapse:  15.72 sec. \n",
      "496 -th simulation finished, lapse:  11.893 sec. \n",
      "497 -th simulation finished, lapse:  9.011 sec. \n",
      "498 -th simulation finished, lapse:  9.448 sec. \n",
      "499 -th simulation finished, lapse:  11.239 sec. \n",
      "500 -th simulation finished, lapse:  7.43 sec. \n",
      "501 -th simulation finished, lapse:  7.105 sec. \n",
      "502 -th simulation finished, lapse:  9.179 sec. \n",
      "503 -th simulation finished, lapse:  9.351 sec. \n",
      "504 -th simulation finished, lapse:  7.507 sec. \n",
      "505 -th simulation finished, lapse:  11.797 sec. \n",
      "506 -th simulation finished, lapse:  11.584 sec. \n",
      "507 -th simulation finished, lapse:  9.967 sec. \n",
      "508 -th simulation finished, lapse:  9.462 sec. \n",
      "509 -th simulation finished, lapse:  8.35 sec. \n",
      "510 -th simulation finished, lapse:  12.885 sec. \n",
      "511 -th simulation finished, lapse:  8.792 sec. \n",
      "512 -th simulation finished, lapse:  9.776 sec. \n",
      "513 -th simulation finished, lapse:  9.819 sec. \n",
      "514 -th simulation finished, lapse:  9.315 sec. \n"
     ]
    },
    {
     "name": "stdout",
     "output_type": "stream",
     "text": [
      "515 -th simulation finished, lapse:  9.876 sec. \n",
      "516 -th simulation finished, lapse:  9.305 sec. \n",
      "517 -th simulation finished, lapse:  8.747 sec. \n",
      "518 -th simulation finished, lapse:  10.372 sec. \n",
      "519 -th simulation finished, lapse:  9.961 sec. \n",
      "520 -th simulation finished, lapse:  9.735 sec. \n",
      "521 -th simulation finished, lapse:  10.97 sec. \n",
      "522 -th simulation finished, lapse:  7.162 sec. \n",
      "523 -th simulation finished, lapse:  9.077 sec. \n",
      "524 -th simulation finished, lapse:  7.784 sec. \n",
      "525 -th simulation finished, lapse:  9.675 sec. \n",
      "526 -th simulation finished, lapse:  10.282 sec. \n",
      "527 -th simulation finished, lapse:  7.529 sec. \n",
      "528 -th simulation finished, lapse:  8.383 sec. \n",
      "529 -th simulation finished, lapse:  9.711 sec. \n",
      "530 -th simulation finished, lapse:  9.607 sec. \n",
      "531 -th simulation finished, lapse:  9.737 sec. \n",
      "532 -th simulation finished, lapse:  10.289 sec. \n",
      "533 -th simulation finished, lapse:  7.887 sec. \n",
      "534 -th simulation finished, lapse:  9.8 sec. \n",
      "535 -th simulation finished, lapse:  13.381 sec. \n",
      "536 -th simulation finished, lapse:  11.048 sec. \n",
      "537 -th simulation finished, lapse:  9.271 sec. \n",
      "538 -th simulation finished, lapse:  11.013 sec. \n",
      "539 -th simulation finished, lapse:  9.013 sec. \n",
      "540 -th simulation finished, lapse:  7.67 sec. \n",
      "541 -th simulation finished, lapse:  10.116 sec. \n",
      "542 -th simulation finished, lapse:  9.872 sec. \n",
      "543 -th simulation finished, lapse:  7.219 sec. \n",
      "544 -th simulation finished, lapse:  10.785 sec. \n",
      "545 -th simulation finished, lapse:  9.271 sec. \n",
      "546 -th simulation finished, lapse:  12.28 sec. \n",
      "547 -th simulation finished, lapse:  11.104 sec. \n",
      "548 -th simulation finished, lapse:  9.87 sec. \n",
      "549 -th simulation finished, lapse:  7.459 sec. \n",
      "550 -th simulation finished, lapse:  10.163 sec. \n",
      "551 -th simulation finished, lapse:  13.067 sec. \n",
      "552 -th simulation finished, lapse:  10.615 sec. \n",
      "553 -th simulation finished, lapse:  7.523 sec. \n",
      "554 -th simulation finished, lapse:  8.403 sec. \n",
      "555 -th simulation finished, lapse:  11.658 sec. \n",
      "556 -th simulation finished, lapse:  7.325 sec. \n",
      "557 -th simulation finished, lapse:  11.663 sec. \n",
      "558 -th simulation finished, lapse:  10.168 sec. \n",
      "559 -th simulation finished, lapse:  14.004 sec. \n",
      "560 -th simulation finished, lapse:  9.683 sec. \n",
      "561 -th simulation finished, lapse:  7.602 sec. \n",
      "562 -th simulation finished, lapse:  6.833 sec. \n",
      "563 -th simulation finished, lapse:  9.117 sec. \n",
      "564 -th simulation finished, lapse:  7.649 sec. \n",
      "565 -th simulation finished, lapse:  9.69 sec. \n",
      "566 -th simulation finished, lapse:  10.914 sec. \n",
      "567 -th simulation finished, lapse:  10.397 sec. \n",
      "568 -th simulation finished, lapse:  9.327 sec. \n",
      "569 -th simulation finished, lapse:  10.071 sec. \n",
      "570 -th simulation finished, lapse:  8.24 sec. \n",
      "571 -th simulation finished, lapse:  10.457 sec. \n",
      "572 -th simulation finished, lapse:  8.67 sec. \n",
      "573 -th simulation finished, lapse:  8.316 sec. \n",
      "574 -th simulation finished, lapse:  10.898 sec. \n",
      "575 -th simulation finished, lapse:  8.513 sec. \n",
      "576 -th simulation finished, lapse:  11.621 sec. \n",
      "577 -th simulation finished, lapse:  9.233 sec. \n",
      "578 -th simulation finished, lapse:  10.82 sec. \n",
      "579 -th simulation finished, lapse:  8.303 sec. \n",
      "580 -th simulation finished, lapse:  10.295 sec. \n",
      "581 -th simulation finished, lapse:  9.04 sec. \n",
      "582 -th simulation finished, lapse:  9.139 sec. \n",
      "583 -th simulation finished, lapse:  9.783 sec. \n",
      "584 -th simulation finished, lapse:  10.552 sec. \n",
      "585 -th simulation finished, lapse:  10.45 sec. \n",
      "586 -th simulation finished, lapse:  10.319 sec. \n",
      "587 -th simulation finished, lapse:  10.077 sec. \n",
      "588 -th simulation finished, lapse:  9.657 sec. \n",
      "589 -th simulation finished, lapse:  10.629 sec. \n",
      "590 -th simulation finished, lapse:  12.007 sec. \n",
      "591 -th simulation finished, lapse:  8.651 sec. \n",
      "592 -th simulation finished, lapse:  8.527 sec. \n",
      "593 -th simulation finished, lapse:  9.502 sec. \n",
      "594 -th simulation finished, lapse:  10.369 sec. \n",
      "595 -th simulation finished, lapse:  7.871 sec. \n",
      "596 -th simulation finished, lapse:  9.934 sec. \n",
      "597 -th simulation finished, lapse:  9.441 sec. \n",
      "598 -th simulation finished, lapse:  9.676 sec. \n",
      "599 -th simulation finished, lapse:  6.823 sec. \n",
      "600 -th simulation finished, lapse:  8.96 sec. \n",
      "601 -th simulation finished, lapse:  9.92 sec. \n",
      "602 -th simulation finished, lapse:  8.708 sec. \n",
      "603 -th simulation finished, lapse:  12.208 sec. \n",
      "604 -th simulation finished, lapse:  9.356 sec. \n",
      "605 -th simulation finished, lapse:  9.818 sec. \n",
      "606 -th simulation finished, lapse:  7.638 sec. \n",
      "607 -th simulation finished, lapse:  9.238 sec. \n",
      "608 -th simulation finished, lapse:  7.524 sec. \n",
      "609 -th simulation finished, lapse:  10.583 sec. \n",
      "610 -th simulation finished, lapse:  12.422 sec. \n",
      "611 -th simulation finished, lapse:  7.883 sec. \n",
      "612 -th simulation finished, lapse:  7.182 sec. \n",
      "613 -th simulation finished, lapse:  9.622 sec. \n",
      "614 -th simulation finished, lapse:  10.787 sec. \n",
      "615 -th simulation finished, lapse:  8.596 sec. \n",
      "616 -th simulation finished, lapse:  10.374 sec. \n",
      "617 -th simulation finished, lapse:  8.763 sec. \n",
      "618 -th simulation finished, lapse:  9.596 sec. \n",
      "619 -th simulation finished, lapse:  9.365 sec. \n",
      "620 -th simulation finished, lapse:  10.14 sec. \n",
      "621 -th simulation finished, lapse:  9.833 sec. \n",
      "622 -th simulation finished, lapse:  11.038 sec. \n",
      "623 -th simulation finished, lapse:  13.263 sec. \n",
      "624 -th simulation finished, lapse:  10.361 sec. \n",
      "625 -th simulation finished, lapse:  9.36 sec. \n",
      "626 -th simulation finished, lapse:  9.074 sec. \n",
      "627 -th simulation finished, lapse:  7.564 sec. \n",
      "628 -th simulation finished, lapse:  10.119 sec. \n",
      "629 -th simulation finished, lapse:  9.05 sec. \n",
      "630 -th simulation finished, lapse:  9.433 sec. \n",
      "631 -th simulation finished, lapse:  8.888 sec. \n",
      "632 -th simulation finished, lapse:  10.754 sec. \n",
      "633 -th simulation finished, lapse:  10.864 sec. \n",
      "634 -th simulation finished, lapse:  10.469 sec. \n",
      "635 -th simulation finished, lapse:  11.279 sec. \n",
      "636 -th simulation finished, lapse:  10.055 sec. \n",
      "637 -th simulation finished, lapse:  10.182 sec. \n",
      "638 -th simulation finished, lapse:  12.147 sec. \n",
      "639 -th simulation finished, lapse:  8.416 sec. \n",
      "640 -th simulation finished, lapse:  10.971 sec. \n",
      "641 -th simulation finished, lapse:  10.154 sec. \n",
      "642 -th simulation finished, lapse:  10.364 sec. \n",
      "643 -th simulation finished, lapse:  9.033 sec. \n",
      "644 -th simulation finished, lapse:  7.421 sec. \n",
      "645 -th simulation finished, lapse:  8.668 sec. \n",
      "646 -th simulation finished, lapse:  10.505 sec. \n",
      "647 -th simulation finished, lapse:  11.082 sec. \n",
      "648 -th simulation finished, lapse:  7.525 sec. \n",
      "649 -th simulation finished, lapse:  11.983 sec. \n",
      "650 -th simulation finished, lapse:  11.922 sec. \n",
      "651 -th simulation finished, lapse:  9.974 sec. \n",
      "652 -th simulation finished, lapse:  10.027 sec. \n",
      "653 -th simulation finished, lapse:  9.893 sec. \n",
      "654 -th simulation finished, lapse:  8.816 sec. \n",
      "655 -th simulation finished, lapse:  9.034 sec. \n",
      "656 -th simulation finished, lapse:  6.756 sec. \n",
      "657 -th simulation finished, lapse:  13.851 sec. \n",
      "658 -th simulation finished, lapse:  9.074 sec. \n",
      "659 -th simulation finished, lapse:  10.474 sec. \n",
      "660 -th simulation finished, lapse:  9.089 sec. \n",
      "661 -th simulation finished, lapse:  9.296 sec. \n",
      "662 -th simulation finished, lapse:  10.881 sec. \n",
      "663 -th simulation finished, lapse:  11.181 sec. \n",
      "664 -th simulation finished, lapse:  8.561 sec. \n",
      "665 -th simulation finished, lapse:  5.641 sec. \n",
      "666 -th simulation finished, lapse:  10.256 sec. \n",
      "667 -th simulation finished, lapse:  10.708 sec. \n",
      "668 -th simulation finished, lapse:  10.575 sec. \n",
      "669 -th simulation finished, lapse:  10.42 sec. \n",
      "670 -th simulation finished, lapse:  7.588 sec. \n",
      "671 -th simulation finished, lapse:  12.943 sec. \n",
      "672 -th simulation finished, lapse:  10.609 sec. \n",
      "673 -th simulation finished, lapse:  10.48 sec. \n",
      "674 -th simulation finished, lapse:  9.552 sec. \n",
      "675 -th simulation finished, lapse:  12.133 sec. \n",
      "676 -th simulation finished, lapse:  10.128 sec. \n",
      "677 -th simulation finished, lapse:  7.167 sec. \n",
      "678 -th simulation finished, lapse:  8.808 sec. \n",
      "679 -th simulation finished, lapse:  8.002 sec. \n",
      "680 -th simulation finished, lapse:  12.022 sec. \n",
      "681 -th simulation finished, lapse:  8.774 sec. \n"
     ]
    },
    {
     "name": "stdout",
     "output_type": "stream",
     "text": [
      "682 -th simulation finished, lapse:  11.036 sec. \n",
      "683 -th simulation finished, lapse:  11.02 sec. \n",
      "684 -th simulation finished, lapse:  10.834 sec. \n",
      "685 -th simulation finished, lapse:  7.995 sec. \n",
      "686 -th simulation finished, lapse:  9.482 sec. \n",
      "687 -th simulation finished, lapse:  7.833 sec. \n",
      "688 -th simulation finished, lapse:  13.864 sec. \n",
      "689 -th simulation finished, lapse:  13.116 sec. \n",
      "690 -th simulation finished, lapse:  11.247 sec. \n",
      "691 -th simulation finished, lapse:  12.694 sec. \n",
      "692 -th simulation finished, lapse:  9.139 sec. \n",
      "693 -th simulation finished, lapse:  7.887 sec. \n",
      "694 -th simulation finished, lapse:  9.656 sec. \n",
      "695 -th simulation finished, lapse:  8.836 sec. \n",
      "696 -th simulation finished, lapse:  9.604 sec. \n",
      "697 -th simulation finished, lapse:  10.122 sec. \n",
      "698 -th simulation finished, lapse:  7.594 sec. \n",
      "699 -th simulation finished, lapse:  9.977 sec. \n",
      "700 -th simulation finished, lapse:  10.568 sec. \n",
      "701 -th simulation finished, lapse:  13.635 sec. \n",
      "702 -th simulation finished, lapse:  9.925 sec. \n",
      "703 -th simulation finished, lapse:  8.802 sec. \n",
      "704 -th simulation finished, lapse:  8.369 sec. \n",
      "705 -th simulation finished, lapse:  8.669 sec. \n",
      "706 -th simulation finished, lapse:  6.866 sec. \n",
      "707 -th simulation finished, lapse:  11.848 sec. \n",
      "708 -th simulation finished, lapse:  8.486 sec. \n",
      "709 -th simulation finished, lapse:  7.019 sec. \n",
      "710 -th simulation finished, lapse:  9.308 sec. \n",
      "711 -th simulation finished, lapse:  11.084 sec. \n",
      "712 -th simulation finished, lapse:  10.194 sec. \n",
      "713 -th simulation finished, lapse:  7.901 sec. \n",
      "714 -th simulation finished, lapse:  8.172 sec. \n",
      "715 -th simulation finished, lapse:  8.811 sec. \n",
      "716 -th simulation finished, lapse:  10.321 sec. \n",
      "717 -th simulation finished, lapse:  12.181 sec. \n",
      "718 -th simulation finished, lapse:  9.666 sec. \n",
      "719 -th simulation finished, lapse:  12.529 sec. \n",
      "720 -th simulation finished, lapse:  10.389 sec. \n",
      "721 -th simulation finished, lapse:  8.75 sec. \n",
      "722 -th simulation finished, lapse:  9.607 sec. \n",
      "723 -th simulation finished, lapse:  7.434 sec. \n",
      "724 -th simulation finished, lapse:  9.881 sec. \n",
      "725 -th simulation finished, lapse:  9.659 sec. \n",
      "726 -th simulation finished, lapse:  6.665 sec. \n",
      "727 -th simulation finished, lapse:  10.972 sec. \n",
      "728 -th simulation finished, lapse:  9.652 sec. \n",
      "729 -th simulation finished, lapse:  8.221 sec. \n",
      "730 -th simulation finished, lapse:  8.122 sec. \n",
      "731 -th simulation finished, lapse:  9.969 sec. \n",
      "732 -th simulation finished, lapse:  11.139 sec. \n",
      "733 -th simulation finished, lapse:  8.572 sec. \n",
      "734 -th simulation finished, lapse:  11.502 sec. \n",
      "735 -th simulation finished, lapse:  7.387 sec. \n",
      "736 -th simulation finished, lapse:  7.89 sec. \n",
      "737 -th simulation finished, lapse:  8.872 sec. \n",
      "738 -th simulation finished, lapse:  10.071 sec. \n",
      "739 -th simulation finished, lapse:  7.813 sec. \n",
      "740 -th simulation finished, lapse:  12.555 sec. \n",
      "741 -th simulation finished, lapse:  11.897 sec. \n",
      "742 -th simulation finished, lapse:  10.735 sec. \n",
      "743 -th simulation finished, lapse:  10.331 sec. \n",
      "744 -th simulation finished, lapse:  7.846 sec. \n",
      "745 -th simulation finished, lapse:  8.264 sec. \n",
      "746 -th simulation finished, lapse:  10.992 sec. \n",
      "747 -th simulation finished, lapse:  9.689 sec. \n",
      "748 -th simulation finished, lapse:  9.585 sec. \n",
      "749 -th simulation finished, lapse:  6.725 sec. \n",
      "750 -th simulation finished, lapse:  10.395 sec. \n",
      "751 -th simulation finished, lapse:  11.108 sec. \n",
      "752 -th simulation finished, lapse:  7.683 sec. \n",
      "753 -th simulation finished, lapse:  10.287 sec. \n",
      "754 -th simulation finished, lapse:  7.876 sec. \n",
      "755 -th simulation finished, lapse:  10.543 sec. \n",
      "756 -th simulation finished, lapse:  6.148 sec. \n",
      "757 -th simulation finished, lapse:  8.13 sec. \n",
      "758 -th simulation finished, lapse:  9.349 sec. \n",
      "759 -th simulation finished, lapse:  10.641 sec. \n",
      "760 -th simulation finished, lapse:  8.308 sec. \n",
      "761 -th simulation finished, lapse:  12.704 sec. \n",
      "762 -th simulation finished, lapse:  11.072 sec. \n",
      "763 -th simulation finished, lapse:  12.781 sec. \n",
      "764 -th simulation finished, lapse:  8.702 sec. \n",
      "765 -th simulation finished, lapse:  10.869 sec. \n",
      "766 -th simulation finished, lapse:  8.62 sec. \n",
      "767 -th simulation finished, lapse:  9.429 sec. \n",
      "768 -th simulation finished, lapse:  7.542 sec. \n",
      "769 -th simulation finished, lapse:  10.163 sec. \n",
      "770 -th simulation finished, lapse:  10.415 sec. \n",
      "771 -th simulation finished, lapse:  9.706 sec. \n",
      "772 -th simulation finished, lapse:  8.816 sec. \n",
      "773 -th simulation finished, lapse:  9.623 sec. \n",
      "774 -th simulation finished, lapse:  9.281 sec. \n",
      "775 -th simulation finished, lapse:  9.301 sec. \n",
      "776 -th simulation finished, lapse:  10.23 sec. \n",
      "777 -th simulation finished, lapse:  9.976 sec. \n",
      "778 -th simulation finished, lapse:  9.916 sec. \n",
      "779 -th simulation finished, lapse:  8.552 sec. \n",
      "780 -th simulation finished, lapse:  8.705 sec. \n",
      "781 -th simulation finished, lapse:  9.726 sec. \n",
      "782 -th simulation finished, lapse:  12.065 sec. \n",
      "783 -th simulation finished, lapse:  11.1 sec. \n",
      "784 -th simulation finished, lapse:  10.638 sec. \n",
      "785 -th simulation finished, lapse:  9.594 sec. \n",
      "786 -th simulation finished, lapse:  8.411 sec. \n",
      "787 -th simulation finished, lapse:  7.629 sec. \n",
      "788 -th simulation finished, lapse:  12.387 sec. \n",
      "789 -th simulation finished, lapse:  9.929 sec. \n",
      "790 -th simulation finished, lapse:  8.369 sec. \n",
      "791 -th simulation finished, lapse:  10.41 sec. \n",
      "792 -th simulation finished, lapse:  8.322 sec. \n",
      "793 -th simulation finished, lapse:  8.883 sec. \n",
      "794 -th simulation finished, lapse:  8.569 sec. \n",
      "795 -th simulation finished, lapse:  9.459 sec. \n",
      "796 -th simulation finished, lapse:  7.648 sec. \n",
      "797 -th simulation finished, lapse:  11.28 sec. \n",
      "798 -th simulation finished, lapse:  7.309 sec. \n",
      "799 -th simulation finished, lapse:  9.494 sec. \n",
      "800 -th simulation finished, lapse:  13.694 sec. \n",
      "801 -th simulation finished, lapse:  10.75 sec. \n",
      "802 -th simulation finished, lapse:  11.559 sec. \n",
      "803 -th simulation finished, lapse:  10.12 sec. \n",
      "804 -th simulation finished, lapse:  8.427 sec. \n",
      "805 -th simulation finished, lapse:  9.808 sec. \n",
      "806 -th simulation finished, lapse:  9.828 sec. \n",
      "807 -th simulation finished, lapse:  10.769 sec. \n",
      "808 -th simulation finished, lapse:  8.611 sec. \n",
      "809 -th simulation finished, lapse:  6.656 sec. \n",
      "810 -th simulation finished, lapse:  11.622 sec. \n",
      "811 -th simulation finished, lapse:  6.706 sec. \n",
      "812 -th simulation finished, lapse:  8.528 sec. \n",
      "813 -th simulation finished, lapse:  9.925 sec. \n",
      "814 -th simulation finished, lapse:  10.69 sec. \n",
      "815 -th simulation finished, lapse:  11.499 sec. \n",
      "816 -th simulation finished, lapse:  7.348 sec. \n",
      "817 -th simulation finished, lapse:  9.351 sec. \n",
      "818 -th simulation finished, lapse:  10.701 sec. \n",
      "819 -th simulation finished, lapse:  9.592 sec. \n",
      "820 -th simulation finished, lapse:  6.038 sec. \n",
      "821 -th simulation finished, lapse:  8.24 sec. \n",
      "822 -th simulation finished, lapse:  8.64 sec. \n",
      "823 -th simulation finished, lapse:  9.642 sec. \n",
      "824 -th simulation finished, lapse:  6.758 sec. \n",
      "825 -th simulation finished, lapse:  10.837 sec. \n",
      "826 -th simulation finished, lapse:  11.417 sec. \n",
      "827 -th simulation finished, lapse:  8.251 sec. \n",
      "828 -th simulation finished, lapse:  10.824 sec. \n",
      "829 -th simulation finished, lapse:  10.529 sec. \n",
      "830 -th simulation finished, lapse:  11.382 sec. \n",
      "831 -th simulation finished, lapse:  10.441 sec. \n",
      "832 -th simulation finished, lapse:  7.791 sec. \n",
      "833 -th simulation finished, lapse:  10.235 sec. \n",
      "834 -th simulation finished, lapse:  11.884 sec. \n",
      "835 -th simulation finished, lapse:  14.037 sec. \n",
      "836 -th simulation finished, lapse:  8.879 sec. \n",
      "837 -th simulation finished, lapse:  11.284 sec. \n",
      "838 -th simulation finished, lapse:  8.453 sec. \n",
      "839 -th simulation finished, lapse:  7.939 sec. \n",
      "840 -th simulation finished, lapse:  9.649 sec. \n",
      "841 -th simulation finished, lapse:  9.703 sec. \n",
      "842 -th simulation finished, lapse:  9.349 sec. \n",
      "843 -th simulation finished, lapse:  12.285 sec. \n",
      "844 -th simulation finished, lapse:  7.785 sec. \n",
      "845 -th simulation finished, lapse:  8.427 sec. \n",
      "846 -th simulation finished, lapse:  10.22 sec. \n",
      "847 -th simulation finished, lapse:  8.71 sec. \n",
      "848 -th simulation finished, lapse:  6.734 sec. \n"
     ]
    },
    {
     "name": "stdout",
     "output_type": "stream",
     "text": [
      "849 -th simulation finished, lapse:  5.732 sec. \n",
      "850 -th simulation finished, lapse:  6.506 sec. \n",
      "851 -th simulation finished, lapse:  5.595 sec. \n",
      "852 -th simulation finished, lapse:  4.081 sec. \n",
      "853 -th simulation finished, lapse:  4.217 sec. \n",
      "854 -th simulation finished, lapse:  4.083 sec. \n",
      "855 -th simulation finished, lapse:  4.222 sec. \n",
      "856 -th simulation finished, lapse:  4.098 sec. \n",
      "857 -th simulation finished, lapse:  4.216 sec. \n",
      "858 -th simulation finished, lapse:  4.1 sec. \n",
      "859 -th simulation finished, lapse:  4.227 sec. \n",
      "860 -th simulation finished, lapse:  4.187 sec. \n",
      "861 -th simulation finished, lapse:  4.111 sec. \n",
      "862 -th simulation finished, lapse:  4.278 sec. \n",
      "863 -th simulation finished, lapse:  4.269 sec. \n",
      "864 -th simulation finished, lapse:  4.392 sec. \n",
      "865 -th simulation finished, lapse:  4.114 sec. \n",
      "866 -th simulation finished, lapse:  4.25 sec. \n",
      "867 -th simulation finished, lapse:  4.095 sec. \n",
      "868 -th simulation finished, lapse:  4.165 sec. \n",
      "869 -th simulation finished, lapse:  4.122 sec. \n",
      "870 -th simulation finished, lapse:  4.209 sec. \n",
      "871 -th simulation finished, lapse:  4.224 sec. \n",
      "872 -th simulation finished, lapse:  4.117 sec. \n",
      "873 -th simulation finished, lapse:  4.243 sec. \n",
      "874 -th simulation finished, lapse:  4.111 sec. \n",
      "875 -th simulation finished, lapse:  4.317 sec. \n",
      "876 -th simulation finished, lapse:  4.247 sec. \n",
      "877 -th simulation finished, lapse:  4.381 sec. \n",
      "878 -th simulation finished, lapse:  4.248 sec. \n",
      "879 -th simulation finished, lapse:  4.359 sec. \n",
      "880 -th simulation finished, lapse:  4.232 sec. \n",
      "881 -th simulation finished, lapse:  4.22 sec. \n",
      "882 -th simulation finished, lapse:  4.074 sec. \n",
      "883 -th simulation finished, lapse:  4.244 sec. \n",
      "884 -th simulation finished, lapse:  4.216 sec. \n",
      "885 -th simulation finished, lapse:  4.111 sec. \n",
      "886 -th simulation finished, lapse:  4.217 sec. \n",
      "887 -th simulation finished, lapse:  4.14 sec. \n",
      "888 -th simulation finished, lapse:  4.25 sec. \n",
      "889 -th simulation finished, lapse:  4.158 sec. \n",
      "890 -th simulation finished, lapse:  4.239 sec. \n",
      "891 -th simulation finished, lapse:  4.127 sec. \n",
      "892 -th simulation finished, lapse:  4.239 sec. \n",
      "893 -th simulation finished, lapse:  4.123 sec. \n",
      "894 -th simulation finished, lapse:  4.205 sec. \n",
      "895 -th simulation finished, lapse:  4.224 sec. \n",
      "896 -th simulation finished, lapse:  4.113 sec. \n",
      "897 -th simulation finished, lapse:  4.235 sec. \n",
      "898 -th simulation finished, lapse:  4.287 sec. \n",
      "899 -th simulation finished, lapse:  4.371 sec. \n",
      "900 -th simulation finished, lapse:  4.197 sec. \n",
      "901 -th simulation finished, lapse:  4.199 sec. \n",
      "902 -th simulation finished, lapse:  4.081 sec. \n",
      "903 -th simulation finished, lapse:  4.218 sec. \n",
      "904 -th simulation finished, lapse:  4.101 sec. \n",
      "905 -th simulation finished, lapse:  4.231 sec. \n",
      "906 -th simulation finished, lapse:  4.118 sec. \n",
      "907 -th simulation finished, lapse:  4.228 sec. \n",
      "908 -th simulation finished, lapse:  4.206 sec. \n",
      "909 -th simulation finished, lapse:  4.11 sec. \n",
      "910 -th simulation finished, lapse:  4.23 sec. \n",
      "911 -th simulation finished, lapse:  4.096 sec. \n",
      "912 -th simulation finished, lapse:  4.245 sec. \n",
      "913 -th simulation finished, lapse:  4.105 sec. \n",
      "914 -th simulation finished, lapse:  4.234 sec. \n",
      "915 -th simulation finished, lapse:  4.079 sec. \n",
      "916 -th simulation finished, lapse:  4.182 sec. \n",
      "917 -th simulation finished, lapse:  4.125 sec. \n",
      "918 -th simulation finished, lapse:  4.218 sec. \n",
      "919 -th simulation finished, lapse:  4.228 sec. \n",
      "920 -th simulation finished, lapse:  4.105 sec. \n",
      "921 -th simulation finished, lapse:  4.223 sec. \n",
      "922 -th simulation finished, lapse:  4.088 sec. \n",
      "923 -th simulation finished, lapse:  4.222 sec. \n",
      "924 -th simulation finished, lapse:  4.092 sec. \n",
      "925 -th simulation finished, lapse:  4.238 sec. \n",
      "926 -th simulation finished, lapse:  4.1 sec. \n",
      "927 -th simulation finished, lapse:  4.213 sec. \n",
      "928 -th simulation finished, lapse:  4.088 sec. \n",
      "929 -th simulation finished, lapse:  4.223 sec. \n",
      "930 -th simulation finished, lapse:  4.078 sec. \n",
      "931 -th simulation finished, lapse:  4.218 sec. \n",
      "932 -th simulation finished, lapse:  4.206 sec. \n",
      "933 -th simulation finished, lapse:  4.086 sec. \n",
      "934 -th simulation finished, lapse:  4.208 sec. \n",
      "935 -th simulation finished, lapse:  4.094 sec. \n",
      "936 -th simulation finished, lapse:  4.208 sec. \n",
      "937 -th simulation finished, lapse:  4.096 sec. \n",
      "938 -th simulation finished, lapse:  4.221 sec. \n",
      "939 -th simulation finished, lapse:  4.104 sec. \n",
      "940 -th simulation finished, lapse:  4.236 sec. \n",
      "941 -th simulation finished, lapse:  4.146 sec. \n",
      "942 -th simulation finished, lapse:  4.224 sec. \n",
      "943 -th simulation finished, lapse:  4.224 sec. \n",
      "944 -th simulation finished, lapse:  4.099 sec. \n",
      "945 -th simulation finished, lapse:  4.244 sec. \n",
      "946 -th simulation finished, lapse:  4.099 sec. \n",
      "947 -th simulation finished, lapse:  4.226 sec. \n",
      "948 -th simulation finished, lapse:  4.096 sec. \n",
      "949 -th simulation finished, lapse:  4.21 sec. \n",
      "950 -th simulation finished, lapse:  4.107 sec. \n",
      "951 -th simulation finished, lapse:  4.233 sec. \n",
      "952 -th simulation finished, lapse:  4.112 sec. \n",
      "953 -th simulation finished, lapse:  4.245 sec. \n",
      "954 -th simulation finished, lapse:  4.12 sec. \n",
      "955 -th simulation finished, lapse:  4.235 sec. \n",
      "956 -th simulation finished, lapse:  4.192 sec. \n",
      "957 -th simulation finished, lapse:  4.102 sec. \n",
      "958 -th simulation finished, lapse:  4.217 sec. \n",
      "959 -th simulation finished, lapse:  4.094 sec. \n",
      "960 -th simulation finished, lapse:  4.227 sec. \n",
      "961 -th simulation finished, lapse:  4.094 sec. \n",
      "962 -th simulation finished, lapse:  4.236 sec. \n",
      "963 -th simulation finished, lapse:  4.115 sec. \n",
      "964 -th simulation finished, lapse:  4.186 sec. \n",
      "965 -th simulation finished, lapse:  4.126 sec. \n",
      "966 -th simulation finished, lapse:  4.22 sec. \n",
      "967 -th simulation finished, lapse:  4.244 sec. \n",
      "968 -th simulation finished, lapse:  4.109 sec. \n",
      "969 -th simulation finished, lapse:  4.226 sec. \n",
      "970 -th simulation finished, lapse:  4.12 sec. \n",
      "971 -th simulation finished, lapse:  4.244 sec. \n",
      "972 -th simulation finished, lapse:  4.11 sec. \n",
      "973 -th simulation finished, lapse:  4.247 sec. \n",
      "974 -th simulation finished, lapse:  4.102 sec. \n",
      "975 -th simulation finished, lapse:  4.247 sec. \n",
      "976 -th simulation finished, lapse:  4.106 sec. \n",
      "977 -th simulation finished, lapse:  4.22 sec. \n",
      "978 -th simulation finished, lapse:  4.099 sec. \n",
      "979 -th simulation finished, lapse:  4.217 sec. \n",
      "980 -th simulation finished, lapse:  4.215 sec. \n",
      "981 -th simulation finished, lapse:  4.124 sec. \n",
      "982 -th simulation finished, lapse:  4.222 sec. \n",
      "983 -th simulation finished, lapse:  4.112 sec. \n",
      "984 -th simulation finished, lapse:  4.237 sec. \n",
      "985 -th simulation finished, lapse:  4.137 sec. \n",
      "986 -th simulation finished, lapse:  4.217 sec. \n",
      "987 -th simulation finished, lapse:  4.114 sec. \n",
      "988 -th simulation finished, lapse:  4.24 sec. \n",
      "989 -th simulation finished, lapse:  4.134 sec. \n",
      "990 -th simulation finished, lapse:  4.217 sec. \n",
      "991 -th simulation finished, lapse:  4.223 sec. \n",
      "992 -th simulation finished, lapse:  4.123 sec. \n",
      "993 -th simulation finished, lapse:  4.237 sec. \n",
      "994 -th simulation finished, lapse:  4.088 sec. \n",
      "995 -th simulation finished, lapse:  4.198 sec. \n",
      "996 -th simulation finished, lapse:  4.08 sec. \n",
      "997 -th simulation finished, lapse:  4.208 sec. \n",
      "998 -th simulation finished, lapse:  4.077 sec. \n",
      "999 -th simulation finished, lapse:  4.186 sec. \n",
      "1000 -th simulation finished, lapse:  4.093 sec. \n"
     ]
    }
   ],
   "source": [
    "for( i.sim in 1:num.sim ){\n",
    "    time.sim = proc.time()\n",
    "    \n",
    "    data = lapply(1:m, function(l){\n",
    "        n_l = n #floor(runif(1, n, 2*n))\n",
    "        return(array(apply(array(rnorm(p*q*n_l), c(p,q,n_l)), 3, function(x){\n",
    "            sqrtm(Sigma.T[[l]]) %*% x %*% sqrtm(Sigma.S[[l]])\n",
    "        }), c(p,q,n_l)))\n",
    "    })    \n",
    "    \n",
    "    est.T = est.temporal(data, order.T=5)\n",
    "    est.S = est.spatial(data, lambdas=1e-4)\n",
    "    inf.S = inf.single.edge(est.S$W.hat.S, est.T$S.hat.T, ns)\n",
    "    T.hat.sim[,,i.sim] = inf.S$T.hat\n",
    "    \n",
    "    cat(i.sim,'-th simulation finished, lapse: ',(proc.time()-time.sim)[3],'sec. \\n') \n",
    "    flush.console()\n",
    "}"
   ]
  },
  {
   "cell_type": "markdown",
   "metadata": {},
   "source": [
    "## empirical distribution of simulated test statistics"
   ]
  },
  {
   "cell_type": "code",
   "execution_count": 84,
   "metadata": {},
   "outputs": [],
   "source": [
    "T.hat.E.off = apply(T.hat.sim, 3, function(T.hat){ T.hat[E.mat.off] })\n",
    "l.inf.T.off = apply(T.hat.E.off, 2, function(T.hat){ max(abs(T.hat)) })"
   ]
  },
  {
   "cell_type": "code",
   "execution_count": 85,
   "metadata": {},
   "outputs": [],
   "source": [
    "l.inf.dT.off = apply(T.hat.E.off - T.S[E.mat.off],\n",
    "                     2, function(T.hat){ max(abs(T.hat)) })"
   ]
  },
  {
   "cell_type": "code",
   "execution_count": 86,
   "metadata": {},
   "outputs": [
    {
     "data": {
      "image/png": "[encoded data removed]",
      "text/plain": [
       "Plot with title “Histogram of l.inf.T.off”"
      ]
     },
     "metadata": {},
     "output_type": "display_data"
    }
   ],
   "source": [
    "hist(l.inf.T.off)"
   ]
  },
  {
   "cell_type": "code",
   "execution_count": 87,
   "metadata": {},
   "outputs": [],
   "source": [
    "T.hat.E.zero = apply(T.hat.sim, 3, function(T.hat){ T.hat[E.mat.zero] })\n",
    "l.inf.T.zero = apply(T.hat.E.zero, 2, function(T.hat){ max(abs(T.hat)) })"
   ]
  },
  {
   "cell_type": "code",
   "execution_count": 88,
   "metadata": {},
   "outputs": [
    {
     "data": {
      "image/png": "[encoded data removed]",
      "text/plain": [
       "Plot with title “Histogram of l.inf.T.zero”"
      ]
     },
     "metadata": {},
     "output_type": "display_data"
    }
   ],
   "source": [
    "hist(l.inf.T.zero)"
   ]
  },
  {
   "cell_type": "markdown",
   "metadata": {},
   "source": [
    "## comparison between simulation and bootstrap distributions"
   ]
  },
  {
   "cell_type": "code",
   "execution_count": 89,
   "metadata": {},
   "outputs": [
    {
     "data": {
      "image/png": "[encoded data removed]",
      "text/plain": [
       "Plot with title “simulation and bootstrap distributions”"
      ]
     },
     "metadata": {},
     "output_type": "display_data"
    }
   ],
   "source": [
    "plot(density(inf.S.multi.off$l.inf.Z), col='black',\n",
    "     main = 'simulation and bootstrap distributions',\n",
    "     xlab = expression(l[infinity]))\n",
    "lines(density(l.inf.dT.off), col='red')\n",
    "legend('topright',\n",
    "       legend=c('simulation','bootstrap'), \n",
    "       col=c('red','black'), lty=c(1,1))"
   ]
  },
  {
   "cell_type": "code",
   "execution_count": 90,
   "metadata": {},
   "outputs": [
    {
     "data": {
      "image/png": "[encoded data removed]",
      "text/plain": [
       "plot without title"
      ]
     },
     "metadata": {},
     "output_type": "display_data"
    }
   ],
   "source": [
    "qqplot(l.inf.dT.off, inf.S.multi.off$l.inf.Z,\n",
    "       xlab=expression(l[infinity](Delta~T[E[zero]])),\n",
    "       ylab=expression(l[infinity](zeta)))\n",
    "lines(l.inf.dT.off, l.inf.dT.off, col='red')"
   ]
  },
  {
   "cell_type": "code",
   "execution_count": 91,
   "metadata": {},
   "outputs": [
    {
     "data": {
      "image/png": "[encoded data removed]",
      "text/plain": [
       "Plot with title “simulation and bootstrap distributions”"
      ]
     },
     "metadata": {},
     "output_type": "display_data"
    }
   ],
   "source": [
    "plot(density(inf.S.multi.zero$l.inf.Z), col='black',\n",
    "     main = 'simulation and bootstrap distributions',\n",
    "     xlab = expression(l[infinity]))\n",
    "lines(density(l.inf.T.zero), col='red')\n",
    "legend('topright',\n",
    "       legend=c('simulation','bootstrap'), \n",
    "       col=c('red','black'), lty=c(1,1))"
   ]
  },
  {
   "cell_type": "code",
   "execution_count": 92,
   "metadata": {},
   "outputs": [
    {
     "data": {
      "image/png": "[encoded data removed]",
      "text/plain": [
       "plot without title"
      ]
     },
     "metadata": {},
     "output_type": "display_data"
    }
   ],
   "source": [
    "qqplot(l.inf.T.zero, inf.S.multi.zero$l.inf.Z,\n",
    "       xlab=expression(l[infinity](T[E[zero]])),\n",
    "       ylab=expression(l[infinity](zeta)))\n",
    "lines(l.inf.T.zero, l.inf.T.zero, col='red')"
   ]
  },
  {
   "cell_type": "code",
   "execution_count": null,
   "metadata": {},
   "outputs": [],
   "source": [
    "# save(Adj.S, Omega.S, Sigma.S, Omega.T, Sigma.T, \n",
    "#      inf.S.multi.off, inf.S.multi.zero, \n",
    "#      T.hat.sim, file='sim_random_multi.Rdata')"
   ]
  },
  {
   "cell_type": "markdown",
   "metadata": {},
   "source": [
    "# 7. Coverage study"
   ]
  },
  {
   "cell_type": "code",
   "execution_count": 93,
   "metadata": {},
   "outputs": [],
   "source": [
    "num.msim = 100"
   ]
  },
  {
   "cell_type": "markdown",
   "metadata": {},
   "source": [
    "## $E_\\text{off}$"
   ]
  },
  {
   "cell_type": "code",
   "execution_count": 94,
   "metadata": {},
   "outputs": [],
   "source": [
    "T.hat.E.sim = array(0, c(num.E.off,num.msim))\n",
    "l.inf.Z.sim = array(0, c(num.bst,num.msim))\n",
    "p.value.sim = rep(0, num.msim)"
   ]
  },
  {
   "cell_type": "code",
   "execution_count": 95,
   "metadata": {
    "scrolled": true
   },
   "outputs": [
    {
     "name": "stdout",
     "output_type": "stream",
     "text": [
      "1 -th simulation finished, lapse:  19.988 sec. \n",
      "2 -th simulation finished, lapse:  20.953 sec. \n",
      "3 -th simulation finished, lapse:  20.651 sec. \n",
      "4 -th simulation finished, lapse:  19.785 sec. \n",
      "5 -th simulation finished, lapse:  20.657 sec. \n",
      "6 -th simulation finished, lapse:  19.542 sec. \n",
      "7 -th simulation finished, lapse:  20.697 sec. \n",
      "8 -th simulation finished, lapse:  19.02 sec. \n",
      "9 -th simulation finished, lapse:  19.322 sec. \n",
      "10 -th simulation finished, lapse:  19.421 sec. \n",
      "11 -th simulation finished, lapse:  19.47 sec. \n",
      "12 -th simulation finished, lapse:  19.389 sec. \n",
      "13 -th simulation finished, lapse:  19.38 sec. \n",
      "14 -th simulation finished, lapse:  19.078 sec. \n",
      "15 -th simulation finished, lapse:  19.013 sec. \n",
      "16 -th simulation finished, lapse:  18.936 sec. \n",
      "17 -th simulation finished, lapse:  19.444 sec. \n",
      "18 -th simulation finished, lapse:  19.553 sec. \n",
      "19 -th simulation finished, lapse:  19.155 sec. \n",
      "20 -th simulation finished, lapse:  18.769 sec. \n",
      "21 -th simulation finished, lapse:  18.964 sec. \n",
      "22 -th simulation finished, lapse:  18.67 sec. \n",
      "23 -th simulation finished, lapse:  19.302 sec. \n",
      "24 -th simulation finished, lapse:  19.057 sec. \n",
      "25 -th simulation finished, lapse:  19.292 sec. \n",
      "26 -th simulation finished, lapse:  18.893 sec. \n",
      "27 -th simulation finished, lapse:  18.889 sec. \n",
      "28 -th simulation finished, lapse:  19.098 sec. \n",
      "29 -th simulation finished, lapse:  18.739 sec. \n",
      "30 -th simulation finished, lapse:  19.057 sec. \n",
      "31 -th simulation finished, lapse:  18.955 sec. \n",
      "32 -th simulation finished, lapse:  19.173 sec. \n",
      "33 -th simulation finished, lapse:  18.952 sec. \n",
      "34 -th simulation finished, lapse:  18.759 sec. \n",
      "35 -th simulation finished, lapse:  19.511 sec. \n",
      "36 -th simulation finished, lapse:  18.465 sec. \n",
      "37 -th simulation finished, lapse:  19.147 sec. \n",
      "38 -th simulation finished, lapse:  19.054 sec. \n",
      "39 -th simulation finished, lapse:  19.293 sec. \n",
      "40 -th simulation finished, lapse:  18.951 sec. \n",
      "41 -th simulation finished, lapse:  18.88 sec. \n",
      "42 -th simulation finished, lapse:  18.873 sec. \n",
      "43 -th simulation finished, lapse:  18.894 sec. \n",
      "44 -th simulation finished, lapse:  19.097 sec. \n",
      "45 -th simulation finished, lapse:  19.252 sec. \n",
      "46 -th simulation finished, lapse:  19.077 sec. \n",
      "47 -th simulation finished, lapse:  19.291 sec. \n",
      "48 -th simulation finished, lapse:  18.45 sec. \n",
      "49 -th simulation finished, lapse:  19.094 sec. \n",
      "50 -th simulation finished, lapse:  19.009 sec. \n",
      "51 -th simulation finished, lapse:  19.216 sec. \n",
      "52 -th simulation finished, lapse:  19.183 sec. \n",
      "53 -th simulation finished, lapse:  19.075 sec. \n",
      "54 -th simulation finished, lapse:  19.381 sec. \n",
      "55 -th simulation finished, lapse:  19.073 sec. \n",
      "56 -th simulation finished, lapse:  18.821 sec. \n",
      "57 -th simulation finished, lapse:  20.113 sec. \n",
      "58 -th simulation finished, lapse:  19.857 sec. \n",
      "59 -th simulation finished, lapse:  19.438 sec. \n",
      "60 -th simulation finished, lapse:  20.147 sec. \n",
      "61 -th simulation finished, lapse:  19.566 sec. \n",
      "62 -th simulation finished, lapse:  19.522 sec. \n",
      "63 -th simulation finished, lapse:  20.765 sec. \n",
      "64 -th simulation finished, lapse:  19.417 sec. \n",
      "65 -th simulation finished, lapse:  19.433 sec. \n",
      "66 -th simulation finished, lapse:  19.89 sec. \n",
      "67 -th simulation finished, lapse:  19.131 sec. \n",
      "68 -th simulation finished, lapse:  19.123 sec. \n",
      "69 -th simulation finished, lapse:  19.265 sec. \n",
      "70 -th simulation finished, lapse:  19.075 sec. \n",
      "71 -th simulation finished, lapse:  19.285 sec. \n",
      "72 -th simulation finished, lapse:  19.032 sec. \n",
      "73 -th simulation finished, lapse:  19.067 sec. \n",
      "74 -th simulation finished, lapse:  19.07 sec. \n",
      "75 -th simulation finished, lapse:  19.232 sec. \n",
      "76 -th simulation finished, lapse:  18.673 sec. \n",
      "77 -th simulation finished, lapse:  18.979 sec. \n",
      "78 -th simulation finished, lapse:  18.982 sec. \n",
      "79 -th simulation finished, lapse:  19.188 sec. \n",
      "80 -th simulation finished, lapse:  18.991 sec. \n",
      "81 -th simulation finished, lapse:  18.981 sec. \n",
      "82 -th simulation finished, lapse:  18.769 sec. \n",
      "83 -th simulation finished, lapse:  19.256 sec. \n",
      "84 -th simulation finished, lapse:  19.093 sec. \n",
      "85 -th simulation finished, lapse:  19.143 sec. \n",
      "86 -th simulation finished, lapse:  19.14 sec. \n",
      "87 -th simulation finished, lapse:  18.963 sec. \n",
      "88 -th simulation finished, lapse:  18.843 sec. \n",
      "89 -th simulation finished, lapse:  19.143 sec. \n",
      "90 -th simulation finished, lapse:  19.031 sec. \n",
      "91 -th simulation finished, lapse:  19.007 sec. \n",
      "92 -th simulation finished, lapse:  19 sec. \n",
      "93 -th simulation finished, lapse:  19.119 sec. \n",
      "94 -th simulation finished, lapse:  19.075 sec. \n",
      "95 -th simulation finished, lapse:  19.393 sec. \n",
      "96 -th simulation finished, lapse:  19.332 sec. \n",
      "97 -th simulation finished, lapse:  19.117 sec. \n",
      "98 -th simulation finished, lapse:  18.958 sec. \n",
      "99 -th simulation finished, lapse:  19.242 sec. \n",
      "100 -th simulation finished, lapse:  19.061 sec. \n"
     ]
    }
   ],
   "source": [
    "for( i.sim in 1:num.msim ){\n",
    "    time.sim = proc.time()\n",
    "    \n",
    "    data = lapply(1:m, function(l){\n",
    "        n_l = n #floor(runif(1, n, 2*n))\n",
    "        return(array(apply(array(rnorm(p*q*n_l), c(p,q,n_l)), 3, function(x){\n",
    "            sqrtm(Sigma.T[[l]]) %*% x %*% sqrtm(Sigma.S[[l]])\n",
    "        }), c(p,q,n_l)))\n",
    "    })    \n",
    "    \n",
    "    est.T = est.temporal(data, order.T=5)\n",
    "    est.S = est.spatial(data, lambdas=1e-4)\n",
    "    inf.S = inf.multiple.edge(est.S$W.hat.S, est.T$S.hat.T, ns,\n",
    "                              E.mat=E.mat.off, num.bst=num.bst)\n",
    "    \n",
    "    T.hat.E.sim[,i.sim] = inf.S$T.hat.E\n",
    "    l.inf.Z.sim[,i.sim] = inf.S$l.inf.Z\n",
    "    p.value.sim[i.sim] = inf.S$p.value\n",
    "    \n",
    "    cat(i.sim,'-th simulation finished, lapse: ',(proc.time()-time.sim)[3],'sec. \\n') \n",
    "    flush.console()\n",
    "}"
   ]
  },
  {
   "cell_type": "code",
   "execution_count": 52,
   "metadata": {},
   "outputs": [],
   "source": [
    "# l.inf.dT.sim = apply(T.hat.E.sim - T.S[E.mat.off],\n",
    "#                      2, function(T.hat){ max(abs(T.hat)) })"
   ]
  },
  {
   "cell_type": "code",
   "execution_count": 96,
   "metadata": {},
   "outputs": [],
   "source": [
    "q.Z.sim = apply(l.inf.Z.sim, 2, function(l){\n",
    "    quantile(l, c(0.925, 0.95, 0.975))\n",
    "})"
   ]
  },
  {
   "cell_type": "code",
   "execution_count": 97,
   "metadata": {},
   "outputs": [],
   "source": [
    "q.dT.sim = apply(q.Z.sim, 2, function(q){\n",
    "    sapply(q, function(x){ mean(l.inf.dT.off < x) })\n",
    "})"
   ]
  },
  {
   "cell_type": "code",
   "execution_count": 98,
   "metadata": {},
   "outputs": [
    {
     "data": {
      "text/html": [
       "<dl class=dl-horizontal>\n",
       "\t<dt>92.5%</dt>\n",
       "\t\t<dd>0.93461</dd>\n",
       "\t<dt>95%</dt>\n",
       "\t\t<dd>0.95564</dd>\n",
       "\t<dt>97.5%</dt>\n",
       "\t\t<dd>0.97648</dd>\n",
       "</dl>\n"
      ],
      "text/latex": [
       "\\begin{description*}\n",
       "\\item[92.5\\textbackslash{}\\%] 0.93461\n",
       "\\item[95\\textbackslash{}\\%] 0.95564\n",
       "\\item[97.5\\textbackslash{}\\%] 0.97648\n",
       "\\end{description*}\n"
      ],
      "text/markdown": [
       "92.5%\n",
       ":   0.9346195%\n",
       ":   0.9556497.5%\n",
       ":   0.97648\n",
       "\n"
      ],
      "text/plain": [
       "  92.5%     95%   97.5% \n",
       "0.93461 0.95564 0.97648 "
      ]
     },
     "metadata": {},
     "output_type": "display_data"
    }
   ],
   "source": [
    "apply(q.dT.sim, 1, mean)"
   ]
  },
  {
   "cell_type": "code",
   "execution_count": 99,
   "metadata": {},
   "outputs": [
    {
     "data": {
      "text/html": [
       "<dl class=dl-horizontal>\n",
       "\t<dt>92.5%</dt>\n",
       "\t\t<dd>0.00317787490139066</dd>\n",
       "\t<dt>95%</dt>\n",
       "\t\t<dd>0.00319886343452284</dd>\n",
       "\t<dt>97.5%</dt>\n",
       "\t\t<dd>0.00242662004617222</dd>\n",
       "</dl>\n"
      ],
      "text/latex": [
       "\\begin{description*}\n",
       "\\item[92.5\\textbackslash{}\\%] 0.00317787490139066\n",
       "\\item[95\\textbackslash{}\\%] 0.00319886343452284\n",
       "\\item[97.5\\textbackslash{}\\%] 0.00242662004617222\n",
       "\\end{description*}\n"
      ],
      "text/markdown": [
       "92.5%\n",
       ":   0.0031778749013906695%\n",
       ":   0.0031988634345228497.5%\n",
       ":   0.00242662004617222\n",
       "\n"
      ],
      "text/plain": [
       "      92.5%         95%       97.5% \n",
       "0.003177875 0.003198863 0.002426620 "
      ]
     },
     "metadata": {},
     "output_type": "display_data"
    }
   ],
   "source": [
    "apply(q.dT.sim, 1, sd)"
   ]
  },
  {
   "cell_type": "code",
   "execution_count": 103,
   "metadata": {},
   "outputs": [],
   "source": [
    "# save(Adj.S, Omega.S, Sigma.S, Omega.T, Sigma.T, \n",
    "#      E.mat.off, l.inf.dT.off, l.inf.Z.sim, p.value.sim,\n",
    "#      file='sim_random_multi_off.Rdata')"
   ]
  },
  {
   "cell_type": "markdown",
   "metadata": {},
   "source": [
    "## $E_\\text{zero}$"
   ]
  },
  {
   "cell_type": "code",
   "execution_count": 104,
   "metadata": {},
   "outputs": [],
   "source": [
    "T.hat.E.sim = array(0, c(num.E.zero,num.msim))\n",
    "l.inf.Z.sim = array(0, c(num.bst,num.msim))\n",
    "p.value.sim = rep(0, num.msim)"
   ]
  },
  {
   "cell_type": "code",
   "execution_count": 105,
   "metadata": {
    "scrolled": true
   },
   "outputs": [
    {
     "name": "stdout",
     "output_type": "stream",
     "text": [
      "1 -th simulation finished, lapse:  10.935 sec. \n",
      "2 -th simulation finished, lapse:  12.771 sec. \n",
      "3 -th simulation finished, lapse:  12.632 sec. \n",
      "4 -th simulation finished, lapse:  13.039 sec. \n",
      "5 -th simulation finished, lapse:  12.099 sec. \n",
      "6 -th simulation finished, lapse:  14.552 sec. \n",
      "7 -th simulation finished, lapse:  12.143 sec. \n",
      "8 -th simulation finished, lapse:  13.85 sec. \n",
      "9 -th simulation finished, lapse:  12.788 sec. \n",
      "10 -th simulation finished, lapse:  11.267 sec. \n",
      "11 -th simulation finished, lapse:  14.475 sec. \n",
      "12 -th simulation finished, lapse:  12.279 sec. \n",
      "13 -th simulation finished, lapse:  13.819 sec. \n",
      "14 -th simulation finished, lapse:  12.237 sec. \n",
      "15 -th simulation finished, lapse:  11.659 sec. \n",
      "16 -th simulation finished, lapse:  15.443 sec. \n",
      "17 -th simulation finished, lapse:  12.054 sec. \n",
      "18 -th simulation finished, lapse:  14.15 sec. \n",
      "19 -th simulation finished, lapse:  14.374 sec. \n",
      "20 -th simulation finished, lapse:  12.318 sec. \n",
      "21 -th simulation finished, lapse:  13.195 sec. \n",
      "22 -th simulation finished, lapse:  12.025 sec. \n",
      "23 -th simulation finished, lapse:  13.894 sec. \n",
      "24 -th simulation finished, lapse:  13.46 sec. \n",
      "25 -th simulation finished, lapse:  11.765 sec. \n",
      "26 -th simulation finished, lapse:  13.5 sec. \n",
      "27 -th simulation finished, lapse:  14.077 sec. \n",
      "28 -th simulation finished, lapse:  13.747 sec. \n",
      "29 -th simulation finished, lapse:  11.735 sec. \n",
      "30 -th simulation finished, lapse:  14.085 sec. \n",
      "31 -th simulation finished, lapse:  12.507 sec. \n",
      "32 -th simulation finished, lapse:  12.678 sec. \n",
      "33 -th simulation finished, lapse:  12.88 sec. \n",
      "34 -th simulation finished, lapse:  14.031 sec. \n",
      "35 -th simulation finished, lapse:  11.654 sec. \n",
      "36 -th simulation finished, lapse:  15.381 sec. \n",
      "37 -th simulation finished, lapse:  12.517 sec. \n",
      "38 -th simulation finished, lapse:  13.326 sec. \n",
      "39 -th simulation finished, lapse:  14.794 sec. \n",
      "40 -th simulation finished, lapse:  12.191 sec. \n",
      "41 -th simulation finished, lapse:  14.361 sec. \n",
      "42 -th simulation finished, lapse:  13.531 sec. \n",
      "43 -th simulation finished, lapse:  12.194 sec. \n",
      "44 -th simulation finished, lapse:  15.15 sec. \n",
      "45 -th simulation finished, lapse:  11.485 sec. \n",
      "46 -th simulation finished, lapse:  12.996 sec. \n",
      "47 -th simulation finished, lapse:  13.574 sec. \n",
      "48 -th simulation finished, lapse:  11.94 sec. \n",
      "49 -th simulation finished, lapse:  12.871 sec. \n",
      "50 -th simulation finished, lapse:  13.812 sec. \n",
      "51 -th simulation finished, lapse:  13.368 sec. \n",
      "52 -th simulation finished, lapse:  12.75 sec. \n",
      "53 -th simulation finished, lapse:  13.295 sec. \n",
      "54 -th simulation finished, lapse:  14.974 sec. \n",
      "55 -th simulation finished, lapse:  12.593 sec. \n",
      "56 -th simulation finished, lapse:  13.22 sec. \n",
      "57 -th simulation finished, lapse:  12.628 sec. \n",
      "58 -th simulation finished, lapse:  11.955 sec. \n",
      "59 -th simulation finished, lapse:  15.459 sec. \n",
      "60 -th simulation finished, lapse:  12.383 sec. \n",
      "61 -th simulation finished, lapse:  12.64 sec. \n",
      "62 -th simulation finished, lapse:  12.82 sec. \n",
      "63 -th simulation finished, lapse:  11.864 sec. \n",
      "64 -th simulation finished, lapse:  14.327 sec. \n",
      "65 -th simulation finished, lapse:  13.873 sec. \n",
      "66 -th simulation finished, lapse:  12.708 sec. \n",
      "67 -th simulation finished, lapse:  13.295 sec. \n",
      "68 -th simulation finished, lapse:  13.014 sec. \n",
      "69 -th simulation finished, lapse:  12.194 sec. \n",
      "70 -th simulation finished, lapse:  12.581 sec. \n",
      "71 -th simulation finished, lapse:  13.932 sec. \n",
      "72 -th simulation finished, lapse:  12.854 sec. \n",
      "73 -th simulation finished, lapse:  12.68 sec. \n",
      "74 -th simulation finished, lapse:  14.428 sec. \n",
      "75 -th simulation finished, lapse:  12.155 sec. \n",
      "76 -th simulation finished, lapse:  15.039 sec. \n",
      "77 -th simulation finished, lapse:  13.335 sec. \n",
      "78 -th simulation finished, lapse:  11.855 sec. \n",
      "79 -th simulation finished, lapse:  15.294 sec. \n",
      "80 -th simulation finished, lapse:  12.433 sec. \n",
      "81 -th simulation finished, lapse:  13.343 sec. \n",
      "82 -th simulation finished, lapse:  14.063 sec. \n",
      "83 -th simulation finished, lapse:  11.713 sec. \n",
      "84 -th simulation finished, lapse:  12.411 sec. \n",
      "85 -th simulation finished, lapse:  12.706 sec. \n",
      "86 -th simulation finished, lapse:  14.158 sec. \n",
      "87 -th simulation finished, lapse:  12.579 sec. \n",
      "88 -th simulation finished, lapse:  13.455 sec. \n",
      "89 -th simulation finished, lapse:  13.659 sec. \n",
      "90 -th simulation finished, lapse:  12.095 sec. \n",
      "91 -th simulation finished, lapse:  12.609 sec. \n",
      "92 -th simulation finished, lapse:  13.263 sec. \n",
      "93 -th simulation finished, lapse:  11.635 sec. \n",
      "94 -th simulation finished, lapse:  15.038 sec. \n",
      "95 -th simulation finished, lapse:  12.261 sec. \n",
      "96 -th simulation finished, lapse:  12.644 sec. \n",
      "97 -th simulation finished, lapse:  15.941 sec. \n",
      "98 -th simulation finished, lapse:  11.702 sec. \n",
      "99 -th simulation finished, lapse:  14.178 sec. \n",
      "100 -th simulation finished, lapse:  14.586 sec. \n",
      "101 -th simulation finished, lapse:  11.76 sec. \n",
      "102 -th simulation finished, lapse:  12.677 sec. \n",
      "103 -th simulation finished, lapse:  13.564 sec. \n",
      "104 -th simulation finished, lapse:  13.309 sec. \n",
      "105 -th simulation finished, lapse:  11.554 sec. \n",
      "106 -th simulation finished, lapse:  14.816 sec. \n",
      "107 -th simulation finished, lapse:  13.554 sec. \n",
      "108 -th simulation finished, lapse:  12.445 sec. \n",
      "109 -th simulation finished, lapse:  13.665 sec. \n",
      "110 -th simulation finished, lapse:  12.599 sec. \n",
      "111 -th simulation finished, lapse:  11.448 sec. \n",
      "112 -th simulation finished, lapse:  16.48 sec. \n",
      "113 -th simulation finished, lapse:  12.262 sec. \n",
      "114 -th simulation finished, lapse:  13.113 sec. \n",
      "115 -th simulation finished, lapse:  12.699 sec. \n",
      "116 -th simulation finished, lapse:  12.839 sec. \n",
      "117 -th simulation finished, lapse:  13.039 sec. \n",
      "118 -th simulation finished, lapse:  13.847 sec. \n",
      "119 -th simulation finished, lapse:  14.027 sec. \n",
      "120 -th simulation finished, lapse:  12.426 sec. \n",
      "121 -th simulation finished, lapse:  12.961 sec. \n",
      "122 -th simulation finished, lapse:  13.254 sec. \n",
      "123 -th simulation finished, lapse:  11.987 sec. \n",
      "124 -th simulation finished, lapse:  16.086 sec. \n",
      "125 -th simulation finished, lapse:  15.485 sec. \n",
      "126 -th simulation finished, lapse:  12.642 sec. \n",
      "127 -th simulation finished, lapse:  15.398 sec. \n",
      "128 -th simulation finished, lapse:  14.111 sec. \n",
      "129 -th simulation finished, lapse:  11.615 sec. \n",
      "130 -th simulation finished, lapse:  14.135 sec. \n",
      "131 -th simulation finished, lapse:  12.795 sec. \n",
      "132 -th simulation finished, lapse:  12.343 sec. \n",
      "133 -th simulation finished, lapse:  13.646 sec. \n",
      "134 -th simulation finished, lapse:  12.17 sec. \n",
      "135 -th simulation finished, lapse:  13.607 sec. \n",
      "136 -th simulation finished, lapse:  12.356 sec. \n",
      "137 -th simulation finished, lapse:  14.827 sec. \n",
      "138 -th simulation finished, lapse:  12.983 sec. \n",
      "139 -th simulation finished, lapse:  11.287 sec. \n",
      "140 -th simulation finished, lapse:  13.441 sec. \n",
      "141 -th simulation finished, lapse:  12 sec. \n",
      "142 -th simulation finished, lapse:  14.118 sec. \n",
      "143 -th simulation finished, lapse:  12.545 sec. \n",
      "144 -th simulation finished, lapse:  12.811 sec. \n",
      "145 -th simulation finished, lapse:  16.149 sec. \n",
      "146 -th simulation finished, lapse:  12.574 sec. \n",
      "147 -th simulation finished, lapse:  11.713 sec. \n",
      "148 -th simulation finished, lapse:  14.184 sec. \n",
      "149 -th simulation finished, lapse:  12.006 sec. \n",
      "150 -th simulation finished, lapse:  15.094 sec. \n",
      "151 -th simulation finished, lapse:  12.11 sec. \n",
      "152 -th simulation finished, lapse:  12.817 sec. \n",
      "153 -th simulation finished, lapse:  13.206 sec. \n",
      "154 -th simulation finished, lapse:  12.423 sec. \n",
      "155 -th simulation finished, lapse:  12.217 sec. \n",
      "156 -th simulation finished, lapse:  12.868 sec. \n",
      "157 -th simulation finished, lapse:  14.849 sec. \n",
      "158 -th simulation finished, lapse:  12.612 sec. \n",
      "159 -th simulation finished, lapse:  12.565 sec. \n",
      "160 -th simulation finished, lapse:  12.295 sec. \n",
      "161 -th simulation finished, lapse:  11.648 sec. \n",
      "162 -th simulation finished, lapse:  15.325 sec. \n",
      "163 -th simulation finished, lapse:  11.345 sec. \n",
      "164 -th simulation finished, lapse:  14.272 sec. \n",
      "165 -th simulation finished, lapse:  13.582 sec. \n",
      "166 -th simulation finished, lapse:  10.856 sec. \n",
      "167 -th simulation finished, lapse:  12.75 sec. \n"
     ]
    },
    {
     "name": "stdout",
     "output_type": "stream",
     "text": [
      "168 -th simulation finished, lapse:  12.266 sec. \n",
      "169 -th simulation finished, lapse:  10.813 sec. \n",
      "170 -th simulation finished, lapse:  13.017 sec. \n",
      "171 -th simulation finished, lapse:  11.423 sec. \n",
      "172 -th simulation finished, lapse:  11.387 sec. \n",
      "173 -th simulation finished, lapse:  12.318 sec. \n",
      "174 -th simulation finished, lapse:  11.308 sec. \n",
      "175 -th simulation finished, lapse:  11.542 sec. \n",
      "176 -th simulation finished, lapse:  12.348 sec. \n",
      "177 -th simulation finished, lapse:  11.463 sec. \n",
      "178 -th simulation finished, lapse:  11.479 sec. \n",
      "179 -th simulation finished, lapse:  11.716 sec. \n",
      "180 -th simulation finished, lapse:  11.434 sec. \n",
      "181 -th simulation finished, lapse:  12.23 sec. \n",
      "182 -th simulation finished, lapse:  11.576 sec. \n",
      "183 -th simulation finished, lapse:  11.175 sec. \n",
      "184 -th simulation finished, lapse:  12.531 sec. \n",
      "185 -th simulation finished, lapse:  11.653 sec. \n",
      "186 -th simulation finished, lapse:  11.118 sec. \n",
      "187 -th simulation finished, lapse:  12.182 sec. \n",
      "188 -th simulation finished, lapse:  11.729 sec. \n",
      "189 -th simulation finished, lapse:  10.696 sec. \n",
      "190 -th simulation finished, lapse:  12.184 sec. \n",
      "191 -th simulation finished, lapse:  11.71 sec. \n",
      "192 -th simulation finished, lapse:  10.96 sec. \n",
      "193 -th simulation finished, lapse:  11.681 sec. \n",
      "194 -th simulation finished, lapse:  11.546 sec. \n",
      "195 -th simulation finished, lapse:  11.599 sec. \n",
      "196 -th simulation finished, lapse:  11.646 sec. \n",
      "197 -th simulation finished, lapse:  11.371 sec. \n",
      "198 -th simulation finished, lapse:  11.533 sec. \n",
      "199 -th simulation finished, lapse:  11.612 sec. \n",
      "200 -th simulation finished, lapse:  11.806 sec. \n",
      "201 -th simulation finished, lapse:  11.916 sec. \n",
      "202 -th simulation finished, lapse:  11.271 sec. \n",
      "203 -th simulation finished, lapse:  11.63 sec. \n",
      "204 -th simulation finished, lapse:  12.498 sec. \n",
      "205 -th simulation finished, lapse:  11.186 sec. \n",
      "206 -th simulation finished, lapse:  12.062 sec. \n",
      "207 -th simulation finished, lapse:  10.966 sec. \n",
      "208 -th simulation finished, lapse:  10.612 sec. \n",
      "209 -th simulation finished, lapse:  13.187 sec. \n",
      "210 -th simulation finished, lapse:  11.426 sec. \n",
      "211 -th simulation finished, lapse:  11.056 sec. \n",
      "212 -th simulation finished, lapse:  11.467 sec. \n",
      "213 -th simulation finished, lapse:  11.74 sec. \n",
      "214 -th simulation finished, lapse:  11.532 sec. \n",
      "215 -th simulation finished, lapse:  12.71 sec. \n",
      "216 -th simulation finished, lapse:  11.239 sec. \n",
      "217 -th simulation finished, lapse:  11.529 sec. \n",
      "218 -th simulation finished, lapse:  12.655 sec. \n",
      "219 -th simulation finished, lapse:  10.577 sec. \n",
      "220 -th simulation finished, lapse:  11.73 sec. \n",
      "221 -th simulation finished, lapse:  12.344 sec. \n",
      "222 -th simulation finished, lapse:  11.107 sec. \n",
      "223 -th simulation finished, lapse:  12.253 sec. \n",
      "224 -th simulation finished, lapse:  11.938 sec. \n",
      "225 -th simulation finished, lapse:  11.321 sec. \n",
      "226 -th simulation finished, lapse:  11.142 sec. \n",
      "227 -th simulation finished, lapse:  11.444 sec. \n",
      "228 -th simulation finished, lapse:  11.739 sec. \n",
      "229 -th simulation finished, lapse:  12.009 sec. \n",
      "230 -th simulation finished, lapse:  10.757 sec. \n",
      "231 -th simulation finished, lapse:  12.147 sec. \n",
      "232 -th simulation finished, lapse:  11.776 sec. \n",
      "233 -th simulation finished, lapse:  11.506 sec. \n",
      "234 -th simulation finished, lapse:  12.361 sec. \n",
      "235 -th simulation finished, lapse:  11.847 sec. \n",
      "236 -th simulation finished, lapse:  11.808 sec. \n",
      "237 -th simulation finished, lapse:  11.989 sec. \n",
      "238 -th simulation finished, lapse:  11.593 sec. \n",
      "239 -th simulation finished, lapse:  10.714 sec. \n",
      "240 -th simulation finished, lapse:  12.791 sec. \n",
      "241 -th simulation finished, lapse:  11.55 sec. \n",
      "242 -th simulation finished, lapse:  10.513 sec. \n",
      "243 -th simulation finished, lapse:  12.786 sec. \n",
      "244 -th simulation finished, lapse:  11.614 sec. \n",
      "245 -th simulation finished, lapse:  11.202 sec. \n",
      "246 -th simulation finished, lapse:  11.803 sec. \n",
      "247 -th simulation finished, lapse:  11.702 sec. \n",
      "248 -th simulation finished, lapse:  11.355 sec. \n",
      "249 -th simulation finished, lapse:  10.706 sec. \n",
      "250 -th simulation finished, lapse:  11.508 sec. \n",
      "251 -th simulation finished, lapse:  12.267 sec. \n",
      "252 -th simulation finished, lapse:  11.355 sec. \n",
      "253 -th simulation finished, lapse:  11.159 sec. \n",
      "254 -th simulation finished, lapse:  11.677 sec. \n",
      "255 -th simulation finished, lapse:  11.71 sec. \n",
      "256 -th simulation finished, lapse:  11.96 sec. \n",
      "257 -th simulation finished, lapse:  11.248 sec. \n",
      "258 -th simulation finished, lapse:  11.765 sec. \n",
      "259 -th simulation finished, lapse:  13.384 sec. \n",
      "260 -th simulation finished, lapse:  11.792 sec. \n",
      "261 -th simulation finished, lapse:  11.494 sec. \n",
      "262 -th simulation finished, lapse:  11.841 sec. \n",
      "263 -th simulation finished, lapse:  11.274 sec. \n",
      "264 -th simulation finished, lapse:  11.479 sec. \n",
      "265 -th simulation finished, lapse:  13.182 sec. \n",
      "266 -th simulation finished, lapse:  11.253 sec. \n",
      "267 -th simulation finished, lapse:  10.681 sec. \n",
      "268 -th simulation finished, lapse:  12.316 sec. \n",
      "269 -th simulation finished, lapse:  11.453 sec. \n",
      "270 -th simulation finished, lapse:  11.231 sec. \n",
      "271 -th simulation finished, lapse:  12.766 sec. \n",
      "272 -th simulation finished, lapse:  11.684 sec. \n",
      "273 -th simulation finished, lapse:  11.438 sec. \n",
      "274 -th simulation finished, lapse:  11.741 sec. \n",
      "275 -th simulation finished, lapse:  10.491 sec. \n",
      "276 -th simulation finished, lapse:  11.862 sec. \n",
      "277 -th simulation finished, lapse:  12.098 sec. \n",
      "278 -th simulation finished, lapse:  10.809 sec. \n",
      "279 -th simulation finished, lapse:  12.349 sec. \n",
      "280 -th simulation finished, lapse:  11.744 sec. \n",
      "281 -th simulation finished, lapse:  10.837 sec. \n",
      "282 -th simulation finished, lapse:  11.601 sec. \n",
      "283 -th simulation finished, lapse:  11.312 sec. \n",
      "284 -th simulation finished, lapse:  11.093 sec. \n",
      "285 -th simulation finished, lapse:  11.387 sec. \n",
      "286 -th simulation finished, lapse:  11.668 sec. \n",
      "287 -th simulation finished, lapse:  12.531 sec. \n",
      "288 -th simulation finished, lapse:  11.516 sec. \n",
      "289 -th simulation finished, lapse:  11.101 sec. \n",
      "290 -th simulation finished, lapse:  12.65 sec. \n",
      "291 -th simulation finished, lapse:  11.917 sec. \n",
      "292 -th simulation finished, lapse:  11.171 sec. \n",
      "293 -th simulation finished, lapse:  13.032 sec. \n",
      "294 -th simulation finished, lapse:  11.438 sec. \n",
      "295 -th simulation finished, lapse:  12.808 sec. \n",
      "296 -th simulation finished, lapse:  16.504 sec. \n",
      "297 -th simulation finished, lapse:  12.177 sec. \n",
      "298 -th simulation finished, lapse:  12.106 sec. \n",
      "299 -th simulation finished, lapse:  14.66 sec. \n",
      "300 -th simulation finished, lapse:  12.183 sec. \n",
      "301 -th simulation finished, lapse:  13.029 sec. \n",
      "302 -th simulation finished, lapse:  12.443 sec. \n",
      "303 -th simulation finished, lapse:  11.147 sec. \n",
      "304 -th simulation finished, lapse:  11.463 sec. \n",
      "305 -th simulation finished, lapse:  11.306 sec. \n",
      "306 -th simulation finished, lapse:  10.899 sec. \n",
      "307 -th simulation finished, lapse:  11.41 sec. \n",
      "308 -th simulation finished, lapse:  12.937 sec. \n",
      "309 -th simulation finished, lapse:  12.635 sec. \n"
     ]
    }
   ],
   "source": [
    "for( i.sim in 1:num.msim ){\n",
    "    time.sim = proc.time()\n",
    "    \n",
    "    data = lapply(1:m, function(l){\n",
    "        n_l = n #floor(runif(1, n, 2*n))\n",
    "        return(array(apply(array(rnorm(p*q*n_l), c(p,q,n_l)), 3, function(x){\n",
    "            sqrtm(Sigma.T[[l]]) %*% x %*% sqrtm(Sigma.S[[l]])\n",
    "        }), c(p,q,n_l)))\n",
    "    })    \n",
    "    \n",
    "    est.T = est.temporal(data, order.T=5)\n",
    "    est.S = est.spatial(data, lambdas=1e-4)\n",
    "    inf.S = inf.multiple.edge(est.S$W.hat.S, est.T$S.hat.T, ns,\n",
    "                              E.mat=E.mat.zero, num.bst=num.bst)\n",
    "    \n",
    "    T.hat.E.sim[,i.sim] = inf.S$T.hat.E\n",
    "    l.inf.Z.sim[,i.sim] = inf.S$l.inf.Z\n",
    "    p.value.sim[i.sim] = inf.S$p.value\n",
    "    \n",
    "    cat(i.sim,'-th simulation finished, lapse: ',(proc.time()-time.sim)[3],'sec. \\n') \n",
    "    flush.console()\n",
    "}"
   ]
  },
  {
   "cell_type": "code",
   "execution_count": null,
   "metadata": {},
   "outputs": [],
   "source": [
    "# l.inf.dT.sim = apply(T.hat.E.sim - T.S[E.mat.off],\n",
    "#                      2, function(T.hat){ max(abs(T.hat)) })"
   ]
  },
  {
   "cell_type": "code",
   "execution_count": 107,
   "metadata": {},
   "outputs": [],
   "source": [
    "q.Z.sim = apply(l.inf.Z.sim, 2, function(l){\n",
    "    quantile(l, c(0.925, 0.95, 0.975))\n",
    "})"
   ]
  },
  {
   "cell_type": "code",
   "execution_count": 108,
   "metadata": {},
   "outputs": [],
   "source": [
    "q.dT.sim = apply(q.Z.sim, 2, function(q){\n",
    "    sapply(q, function(x){ mean(l.inf.T.zero < x) })\n",
    "})"
   ]
  },
  {
   "cell_type": "code",
   "execution_count": 109,
   "metadata": {},
   "outputs": [
    {
     "data": {
      "text/html": [
       "<dl class=dl-horizontal>\n",
       "\t<dt>92.5%</dt>\n",
       "\t\t<dd>0.93786</dd>\n",
       "\t<dt>95%</dt>\n",
       "\t\t<dd>0.95452</dd>\n",
       "\t<dt>97.5%</dt>\n",
       "\t\t<dd>0.97748</dd>\n",
       "</dl>\n"
      ],
      "text/latex": [
       "\\begin{description*}\n",
       "\\item[92.5\\textbackslash{}\\%] 0.93786\n",
       "\\item[95\\textbackslash{}\\%] 0.95452\n",
       "\\item[97.5\\textbackslash{}\\%] 0.97748\n",
       "\\end{description*}\n"
      ],
      "text/markdown": [
       "92.5%\n",
       ":   0.9378695%\n",
       ":   0.9545297.5%\n",
       ":   0.97748\n",
       "\n"
      ],
      "text/plain": [
       "  92.5%     95%   97.5% \n",
       "0.93786 0.95452 0.97748 "
      ]
     },
     "metadata": {},
     "output_type": "display_data"
    }
   ],
   "source": [
    "apply(q.dT.sim, 1, mean)"
   ]
  },
  {
   "cell_type": "code",
   "execution_count": 110,
   "metadata": {},
   "outputs": [
    {
     "data": {
      "text/html": [
       "<dl class=dl-horizontal>\n",
       "\t<dt>92.5%</dt>\n",
       "\t\t<dd>0.0031972842011035</dd>\n",
       "\t<dt>95%</dt>\n",
       "\t\t<dd>0.0043681121826716</dd>\n",
       "\t<dt>97.5%</dt>\n",
       "\t\t<dd>0.00233324675164039</dd>\n",
       "</dl>\n"
      ],
      "text/latex": [
       "\\begin{description*}\n",
       "\\item[92.5\\textbackslash{}\\%] 0.0031972842011035\n",
       "\\item[95\\textbackslash{}\\%] 0.0043681121826716\n",
       "\\item[97.5\\textbackslash{}\\%] 0.00233324675164039\n",
       "\\end{description*}\n"
      ],
      "text/markdown": [
       "92.5%\n",
       ":   0.003197284201103595%\n",
       ":   0.004368112182671697.5%\n",
       ":   0.00233324675164039\n",
       "\n"
      ],
      "text/plain": [
       "      92.5%         95%       97.5% \n",
       "0.003197284 0.004368112 0.002333247 "
      ]
     },
     "metadata": {},
     "output_type": "display_data"
    }
   ],
   "source": [
    "apply(q.dT.sim, 1, sd)"
   ]
  },
  {
   "cell_type": "code",
   "execution_count": 111,
   "metadata": {},
   "outputs": [],
   "source": [
    "# save(Adj.S, Omega.S, Sigma.S, Omega.T, Sigma.T, \n",
    "#      E.mat.zero, l.inf.T.zero, l.inf.Z.sim, p.value.sim,\n",
    "#      file='sim_random_multi_zero.Rdata')"
   ]
  }
 ],
 "metadata": {
  "kernelspec": {
   "display_name": "R",
   "language": "R",
   "name": "ir"
  },
  "language_info": {
   "codemirror_mode": "r",
   "file_extension": ".r",
   "mimetype": "text/x-r-source",
   "name": "R",
   "pygments_lexer": "r",
   "version": "3.6.1"
  }
 },
 "nbformat": 4,
 "nbformat_minor": 5
}
