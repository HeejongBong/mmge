{
 "cells": [
  {
   "cell_type": "code",
   "execution_count": 1,
   "id": "0f11ecf0",
   "metadata": {},
   "outputs": [
    {
     "name": "stderr",
     "output_type": "stream",
     "text": [
      "Loading required package: Matrix\n",
      "\n",
      "\n",
      "Attaching package: ‘expm’\n",
      "\n",
      "\n",
      "The following object is masked from ‘package:Matrix’:\n",
      "\n",
      "    expm\n",
      "\n",
      "\n",
      "Loading required package: spam\n",
      "\n",
      "Spam version 2.9-1 (2022-08-07) is loaded.\n",
      "Type 'help( Spam)' or 'demo( spam)' for a short introduction \n",
      "and overview of this package.\n",
      "Help for individual functions is also obtained by adding the\n",
      "suffix '.spam' to the function name, e.g. 'help( chol.spam)'.\n",
      "\n",
      "\n",
      "Attaching package: ‘spam’\n",
      "\n",
      "\n",
      "The following object is masked from ‘package:Matrix’:\n",
      "\n",
      "    det\n",
      "\n",
      "\n",
      "The following objects are masked from ‘package:base’:\n",
      "\n",
      "    backsolve, forwardsolve\n",
      "\n",
      "\n",
      "Loading required package: viridis\n",
      "\n",
      "Loading required package: viridisLite\n",
      "\n",
      "\n",
      "Try help(fields) to get started.\n",
      "\n",
      "\n",
      "Attaching package: ‘scales’\n",
      "\n",
      "\n",
      "The following object is masked from ‘package:viridis’:\n",
      "\n",
      "    viridis_pal\n",
      "\n",
      "\n"
     ]
    }
   ],
   "source": [
    "library(mmge)\n",
    "library(expm)\n",
    "library(fields)\n",
    "library(scales)\n",
    "library(MASS)"
   ]
  },
  {
   "cell_type": "code",
   "execution_count": 2,
   "id": "6b8c81f9",
   "metadata": {},
   "outputs": [
    {
     "name": "stderr",
     "output_type": "stream",
     "text": [
      "Reloading attached mmge\n",
      "\n"
     ]
    }
   ],
   "source": [
    "devtools::reload(pkg=\".\")"
   ]
  },
  {
   "cell_type": "markdown",
   "id": "0a86cd8e",
   "metadata": {},
   "source": [
    "# 0. Load data from MAT files"
   ]
  },
  {
   "cell_type": "code",
   "execution_count": 3,
   "id": "6abf4cca",
   "metadata": {},
   "outputs": [
    {
     "name": "stderr",
     "output_type": "stream",
     "text": [
      "R.matlab v3.7.0 (2022-08-25 21:52:34 UTC) successfully loaded. See ?R.matlab for help.\n",
      "\n",
      "\n",
      "Attaching package: ‘R.matlab’\n",
      "\n",
      "\n",
      "The following objects are masked from ‘package:base’:\n",
      "\n",
      "    getOption, isOpen\n",
      "\n",
      "\n"
     ]
    }
   ],
   "source": [
    "library(R.matlab)"
   ]
  },
  {
   "cell_type": "code",
   "execution_count": 4,
   "id": "f2925586",
   "metadata": {},
   "outputs": [],
   "source": [
    "data_dir = '~/_datasets/Smith_LFPs_raw/'"
   ]
  },
  {
   "cell_type": "code",
   "execution_count": 5,
   "id": "656d01a4",
   "metadata": {},
   "outputs": [],
   "source": [
    "data_names = list('Pe160503', 'Pe160505', 'Pe160506',\n",
    "                  'Pe160507', 'Pe160508')"
   ]
  },
  {
   "cell_type": "code",
   "execution_count": 6,
   "id": "65b01f3b",
   "metadata": {},
   "outputs": [],
   "source": [
    "t0 = 201; t1 = 250"
   ]
  },
  {
   "cell_type": "code",
   "execution_count": 7,
   "id": "2d3d122a",
   "metadata": {},
   "outputs": [],
   "source": [
    "map = readMat(paste0(data_dir,'maps.mat'))$map[[1]]"
   ]
  },
  {
   "cell_type": "code",
   "execution_count": null,
   "id": "eaa71bf7",
   "metadata": {},
   "outputs": [],
   "source": [
    "data = lapply(data_names, function(dname){\n",
    "    return(aperm(\n",
    "        readMat(paste0(data_dir,dname,'_lfp.mat'))$pfc[,t0:t1,],\n",
    "        c(2,3,1)))\n",
    "})"
   ]
  },
  {
   "cell_type": "code",
   "execution_count": null,
   "id": "88bd1b83",
   "metadata": {},
   "outputs": [],
   "source": [
    "# save(data, map, file='Smith_LFPs_pfc_que.RData')"
   ]
  },
  {
   "cell_type": "markdown",
   "id": "ab78a7ef",
   "metadata": {},
   "source": [
    "# 1. load data"
   ]
  },
  {
   "cell_type": "code",
   "execution_count": 23,
   "id": "545a2df2",
   "metadata": {},
   "outputs": [],
   "source": [
    "load('Smith_LFPs_pfc_que.RData')"
   ]
  },
  {
   "cell_type": "code",
   "execution_count": null,
   "id": "cbadcfb8",
   "metadata": {},
   "outputs": [],
   "source": [
    "data = lapply(data, function(d){\n",
    "    return(d[seq(1,dim(d)[1],5),,])\n",
    "})"
   ]
  },
  {
   "cell_type": "code",
   "execution_count": null,
   "id": "42c29675",
   "metadata": {},
   "outputs": [],
   "source": [
    "data = lapply(data, function(d){\n",
    "    mean_d = apply(d, c(1,2), mean)\n",
    "    std_d = apply(d, c(1,2), sd)\n",
    "    return((d-c(mean_d))/c(std_d))\n",
    "})"
   ]
  },
  {
   "cell_type": "code",
   "execution_count": null,
   "id": "ef045f02",
   "metadata": {},
   "outputs": [],
   "source": [
    "m = length(data)\n",
    "p = dim(data[[1]])[1]\n",
    "q = dim(data[[1]])[2]"
   ]
  },
  {
   "cell_type": "code",
   "execution_count": null,
   "id": "795cc6cc",
   "metadata": {},
   "outputs": [],
   "source": [
    "c(m, p, q)"
   ]
  },
  {
   "cell_type": "code",
   "execution_count": null,
   "id": "7d5c4e87",
   "metadata": {},
   "outputs": [],
   "source": [
    "ns = unlist(lapply(data, function(x){dim(x)[3]}))"
   ]
  },
  {
   "cell_type": "code",
   "execution_count": null,
   "id": "67e0bd67",
   "metadata": {},
   "outputs": [],
   "source": [
    "ns"
   ]
  },
  {
   "cell_type": "code",
   "execution_count": null,
   "id": "e8047c04",
   "metadata": {},
   "outputs": [],
   "source": [
    "sess.id = unlist(lapply(1:m, function(l){rep(l,ns[l])}))"
   ]
  },
  {
   "cell_type": "markdown",
   "id": "e5a3c1c3",
   "metadata": {},
   "source": [
    "# 1. estimation"
   ]
  },
  {
   "cell_type": "code",
   "execution_count": null,
   "id": "9a168f04",
   "metadata": {},
   "outputs": [],
   "source": [
    "ld = 1e-2"
   ]
  },
  {
   "cell_type": "code",
   "execution_count": null,
   "id": "f0d4f4b2",
   "metadata": {},
   "outputs": [],
   "source": [
    "est.T = est.temporal(data, order.T=5)"
   ]
  },
  {
   "cell_type": "code",
   "execution_count": null,
   "id": "48f6c497",
   "metadata": {},
   "outputs": [],
   "source": [
    "est.S = est.spatial(data, lambdas=1e-2, verbose=TRUE)"
   ]
  },
  {
   "cell_type": "code",
   "execution_count": null,
   "id": "4f3f4719",
   "metadata": {},
   "outputs": [],
   "source": [
    "inf.S = inf.single.edge(est.S$W.hat.S, est.T$S.hat.T, ns)"
   ]
  },
  {
   "cell_type": "code",
   "execution_count": null,
   "id": "f5001a6a",
   "metadata": {},
   "outputs": [],
   "source": [
    "# save(est.T, est.S, inf.S, file='result_pfc_que.RData')"
   ]
  },
  {
   "cell_type": "markdown",
   "id": "8ce1aa79",
   "metadata": {},
   "source": [
    "# 2. connectivity strength vs. distance"
   ]
  },
  {
   "cell_type": "code",
   "execution_count": null,
   "id": "a362095e",
   "metadata": {},
   "outputs": [],
   "source": [
    "dists = matrix(0, nrow=q*(q-1)/2)\n",
    "ps =  matrix(0, nrow=q*(q-1)/2)"
   ]
  },
  {
   "cell_type": "code",
   "execution_count": null,
   "id": "1d4f2f87",
   "metadata": {},
   "outputs": [],
   "source": [
    "k=1\n",
    "for (i in 1:(q-1)){\n",
    "    for (j in (i+1):q){\n",
    "        pos1 = which(map==i, arr.ind = T)\n",
    "        pos2 = which(map==j, arr.ind = T)\n",
    "        \n",
    "        dists[k] = sqrt((pos1[1]-pos2[1])^2+(pos1[2]-pos2[2])^2)*400\n",
    "        ps[k] = abs(inf.S$T.hat[i,j,1]/sum(sqrt(ns*p/m)))\n",
    "        \n",
    "        k = k+1\n",
    "    }\n",
    "}"
   ]
  },
  {
   "cell_type": "code",
   "execution_count": null,
   "id": "3525bf39",
   "metadata": {},
   "outputs": [],
   "source": [
    "uds = sort(unique(dists))\n",
    "meanps = matrix(0, nrow=length(uds), ncol=1)\n",
    "nsamples = matrix(0, nrow=length(uds), ncol=1)\n",
    "for (i in 1:length(uds)){\n",
    "    ud = uds[i]\n",
    "    ids = which(dists==ud, arr.ind = T)\n",
    "    \n",
    "    meanps[i] = mean(abs(ps[ids]))\n",
    "    nsamples[i] = sum(dim(ids)[1])\n",
    "}"
   ]
  },
  {
   "cell_type": "code",
   "execution_count": null,
   "id": "5a946dff",
   "metadata": {},
   "outputs": [],
   "source": [
    "plot(uds, (meanps), xlim = c(400, 3000), log='y', xlab = 'L2 Distance(micrometer)', ylab = 'Test Stats', cex.lab=1.5, lwd=1)\n",
    "lo <- loess(meanps~uds, span = 0.4)\n",
    "lines(uds,predict(lo), col='red', lwd=1, lty=2)"
   ]
  },
  {
   "cell_type": "markdown",
   "id": "3406e7fd",
   "metadata": {},
   "source": [
    "# 3. connectivity strength heatmap"
   ]
  },
  {
   "cell_type": "code",
   "execution_count": null,
   "id": "1651fcc4",
   "metadata": {},
   "outputs": [],
   "source": [
    "maps_amp = matrix(NA, nrow=10*11, ncol=10*11)"
   ]
  },
  {
   "cell_type": "code",
   "execution_count": null,
   "id": "dd1e76e2",
   "metadata": {},
   "outputs": [],
   "source": [
    "for(i in 1:q){\n",
    "    amp = sum(abs(inf.S$T.hat[i,,1]/sum(sqrt(ns*p/m))))-1\n",
    "    ind = which(map==i, arr.ind=TRUE)\n",
    "    maps_amp[ind[1]*10, ind[2]*10] = amp\n",
    "}"
   ]
  },
  {
   "cell_type": "code",
   "execution_count": null,
   "id": "7655eeb2",
   "metadata": {},
   "outputs": [],
   "source": [
    "is = image.smooth(maps_amp, theta=10)\n",
    "is$x = is$x[10:100]\n",
    "is$y = is$y[10:100]\n",
    "is$z = is$z[10:100,10:100]\n",
    "is$x = 40*(is$x-10)\n",
    "is$y = 40*(is$y-10)"
   ]
  },
  {
   "cell_type": "code",
   "execution_count": null,
   "id": "e308cb63",
   "metadata": {},
   "outputs": [],
   "source": [
    "par(cex.axis=1.5)\n",
    "image.plot(is, zlim=c(0,4.5))\n",
    "for (i in 1:10){\n",
    "  for (j in 1:10){\n",
    "    points((i-1)*400, (j-1)*400, pch=16, lwd=0.5, col=alpha('black',0.3))\n",
    "  }\n",
    "  abline(h =i*400,, col=alpha('black',0.3))\n",
    "  abline(v =i*400,, col=alpha('black',0.3)) \n",
    "}"
   ]
  },
  {
   "cell_type": "code",
   "execution_count": null,
   "id": "056c6615",
   "metadata": {},
   "outputs": [],
   "source": []
  }
 ],
 "metadata": {
  "kernelspec": {
   "display_name": "R",
   "language": "R",
   "name": "ir"
  },
  "language_info": {
   "codemirror_mode": "r",
   "file_extension": ".r",
   "mimetype": "text/x-r-source",
   "name": "R",
   "pygments_lexer": "r",
   "version": "3.6.1"
  }
 },
 "nbformat": 4,
 "nbformat_minor": 5
}
