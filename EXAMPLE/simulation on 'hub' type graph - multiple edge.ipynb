{
 "cells": [
  {
   "cell_type": "code",
   "execution_count": 1,
   "metadata": {},
   "outputs": [
    {
     "name": "stderr",
     "output_type": "stream",
     "text": [
      "Loading required package: Matrix\n",
      "\n",
      "Attaching package: ‘expm’\n",
      "\n",
      "The following object is masked from ‘package:Matrix’:\n",
      "\n",
      "    expm\n",
      "\n"
     ]
    }
   ],
   "source": [
    "library(mmge)\n",
    "library(expm)\n",
    "library(MASS)"
   ]
  },
  {
   "cell_type": "code",
   "execution_count": 2,
   "metadata": {},
   "outputs": [
    {
     "name": "stderr",
     "output_type": "stream",
     "text": [
      "ℹ Reloading attached mmge\n"
     ]
    }
   ],
   "source": [
    "devtools::reload(pkg=\".\")"
   ]
  },
  {
   "cell_type": "markdown",
   "metadata": {},
   "source": [
    "# 1. generate shared graph structure"
   ]
  },
  {
   "cell_type": "code",
   "execution_count": 3,
   "metadata": {},
   "outputs": [],
   "source": [
    "m = 5\n",
    "n = 5\n",
    "p = 100\n",
    "q = 30"
   ]
  },
  {
   "cell_type": "code",
   "execution_count": 4,
   "metadata": {},
   "outputs": [],
   "source": [
    "g = ceiling(q/10)"
   ]
  },
  {
   "cell_type": "code",
   "execution_count": 5,
   "metadata": {},
   "outputs": [],
   "source": [
    "g.ind = sort(sample(g, q, replace=TRUE))"
   ]
  },
  {
   "cell_type": "code",
   "execution_count": 6,
   "metadata": {},
   "outputs": [],
   "source": [
    "Adj.S = matrix(0, q, q)\n",
    "for(i in 1:g){\n",
    "    tmp = which(g.ind==i)\n",
    "    Adj.S[tmp[1],tmp[-1]] = 1\n",
    "}\n",
    "Adj.S = Adj.S + t(Adj.S)"
   ]
  },
  {
   "cell_type": "markdown",
   "metadata": {},
   "source": [
    "# 2. generate precision matrices"
   ]
  },
  {
   "cell_type": "markdown",
   "metadata": {},
   "source": [
    "## spatial precision matrix"
   ]
  },
  {
   "cell_type": "code",
   "execution_count": 8,
   "metadata": {},
   "outputs": [],
   "source": [
    "power.S = 0.3"
   ]
  },
  {
   "cell_type": "code",
   "execution_count": 9,
   "metadata": {},
   "outputs": [],
   "source": [
    "Omega.S = lapply(rep(0,m), function(x){\n",
    "    Omega = matrix(0,q,q)\n",
    "    Omega[upper.tri(Omega)] = (\n",
    "        - runif(q*(q-1)/2, 0, power.S) * Adj.S[upper.tri(Adj.S)])\n",
    "    Omega = Omega + t(Omega)\n",
    "    if(min(eigen(Omega)$values)<0){\n",
    "        Omega = Omega - 2*min(eigen(Omega)$values)*diag(q)\n",
    "    }\n",
    "    return(Omega)\n",
    "})\n",
    "Sigma.S = lapply(Omega.S, solve)"
   ]
  },
  {
   "cell_type": "code",
   "execution_count": 10,
   "metadata": {},
   "outputs": [],
   "source": [
    "Rho.S = lapply(Omega.S, function(x){\n",
    "    dgWh.S = array(rep(diag(x), q), c(q,q))\n",
    "    return(x / aperm(sqrt(dgWh.S), c(2,1)) / sqrt(dgWh.S))\n",
    "})"
   ]
  },
  {
   "cell_type": "code",
   "execution_count": 11,
   "metadata": {},
   "outputs": [
    {
     "data": {
      "image/png": "[encoded data removed]",
      "text/plain": [
       "plot without title"
      ]
     },
     "metadata": {},
     "output_type": "display_data"
    },
    {
     "data": {
      "image/png": "[encoded data removed]",
      "text/plain": [
       "plot without title"
      ]
     },
     "metadata": {},
     "output_type": "display_data"
    },
    {
     "data": {
      "image/png": "[encoded data removed]",
      "text/plain": [
       "plot without title"
      ]
     },
     "metadata": {},
     "output_type": "display_data"
    }
   ],
   "source": [
    "options(repr.plot.width=4, repr.plot.height=4)\n",
    "imshow(Adj.S)\n",
    "imshow(Omega.S[[1]])\n",
    "imshow(Sigma.S[[1]])"
   ]
  },
  {
   "cell_type": "markdown",
   "metadata": {},
   "source": [
    "## temporal precision matrix"
   ]
  },
  {
   "cell_type": "code",
   "execution_count": 12,
   "metadata": {},
   "outputs": [],
   "source": [
    "power.T = 0.2\n",
    "decay.T = 1"
   ]
  },
  {
   "cell_type": "code",
   "execution_count": 13,
   "metadata": {},
   "outputs": [],
   "source": [
    "beta.T = power.T * abs(outer(1:p,1:p,FUN='-'))**(-1-decay.T)\n",
    "beta.T[upper.tri(beta.T, diag=TRUE)] = 0"
   ]
  },
  {
   "cell_type": "code",
   "execution_count": 14,
   "metadata": {},
   "outputs": [],
   "source": [
    "Omega.T = lapply(rep(0, m), function(x){\n",
    "    t(diag(p)-beta.T) %*% (diag(p)-beta.T)})\n",
    "Sigma.T = lapply(Omega.T, solve)"
   ]
  },
  {
   "cell_type": "code",
   "execution_count": 15,
   "metadata": {},
   "outputs": [],
   "source": [
    "Omega.T = lapply(1:m, function(l){\n",
    "  Omega.T[[l]] * sum(diag(Sigma.T[[l]])) / p  \n",
    "})\n",
    "\n",
    "Sigma.T = lapply(1:m, function(l){\n",
    "  Sigma.T[[l]] * p / sum(diag(Sigma.T[[l]]))\n",
    "})"
   ]
  },
  {
   "cell_type": "code",
   "execution_count": 16,
   "metadata": {},
   "outputs": [
    {
     "data": {
      "image/png": "[encoded data removed]",
      "text/plain": [
       "plot without title"
      ]
     },
     "metadata": {},
     "output_type": "display_data"
    },
    {
     "data": {
      "image/png": "[encoded data removed]",
      "text/plain": [
       "plot without title"
      ]
     },
     "metadata": {},
     "output_type": "display_data"
    },
    {
     "data": {
      "image/png": "[encoded data removed]",
      "text/plain": [
       "plot without title"
      ]
     },
     "metadata": {},
     "output_type": "display_data"
    }
   ],
   "source": [
    "options(repr.plot.width=4, repr.plot.height=4)\n",
    "imshow(beta.T)\n",
    "imshow(Omega.T[[1]])\n",
    "imshow(Sigma.T[[1]])"
   ]
  },
  {
   "cell_type": "markdown",
   "metadata": {},
   "source": [
    "# 3. simulation data according to MGGM"
   ]
  },
  {
   "cell_type": "code",
   "execution_count": 17,
   "metadata": {},
   "outputs": [],
   "source": [
    "data = lapply(1:m, function(l){\n",
    "    n_l = n #floor(runif(1, n, 2*n))\n",
    "    return(array(apply(array(rnorm(p*q*n_l), c(p,q,n_l)), 3, function(x){\n",
    "        sqrtm(Sigma.T[[l]]) %*% x %*% sqrtm(Sigma.S[[l]])\n",
    "    }), c(p,q,n_l)))\n",
    "})"
   ]
  },
  {
   "cell_type": "code",
   "execution_count": 18,
   "metadata": {},
   "outputs": [],
   "source": [
    "ns = sapply(data, function(x){dim(x)[3]})"
   ]
  },
  {
   "cell_type": "code",
   "execution_count": 19,
   "metadata": {},
   "outputs": [],
   "source": [
    "sess.id = c(sapply(1:m, function(l){rep(l,ns[l])}))"
   ]
  },
  {
   "cell_type": "code",
   "execution_count": 20,
   "metadata": {},
   "outputs": [],
   "source": [
    "T.S = Reduce(f = \"+\", lapply(1:m, function(l){\n",
    "    sqrt(ns[l] * p / m) * Rho.S[[l]]\n",
    "}), accumulate=FALSE)"
   ]
  },
  {
   "cell_type": "markdown",
   "metadata": {},
   "source": [
    "# 4. estimation by the proposed method"
   ]
  },
  {
   "cell_type": "code",
   "execution_count": 21,
   "metadata": {},
   "outputs": [],
   "source": [
    "est.T = est.temporal(data, order.T=5)"
   ]
  },
  {
   "cell_type": "code",
   "execution_count": 22,
   "metadata": {},
   "outputs": [],
   "source": [
    "est.S = est.spatial(data, lambdas=1e-4)"
   ]
  },
  {
   "cell_type": "markdown",
   "metadata": {},
   "source": [
    "# 5. global test for multiple edges"
   ]
  },
  {
   "cell_type": "code",
   "execution_count": 23,
   "metadata": {},
   "outputs": [],
   "source": [
    "num.bst = 3000"
   ]
  },
  {
   "cell_type": "markdown",
   "metadata": {},
   "source": [
    "## 5.1. $E_\\text{off}$"
   ]
  },
  {
   "cell_type": "code",
   "execution_count": 24,
   "metadata": {},
   "outputs": [],
   "source": [
    "E.mat.off = (diag(q) == 0)\n",
    "E.mat.off[lower.tri(E.mat.off, diag = TRUE)] = 0\n",
    "E.mat.off = E.mat.off != 0\n",
    "num.E.off = sum(1*E.mat.off)\n",
    "Cov.T.E.off = cov.multiple.edge(Omega.S, Sigma.T, ns, E.mat = E.mat.off)"
   ]
  },
  {
   "cell_type": "code",
   "execution_count": 25,
   "metadata": {},
   "outputs": [],
   "source": [
    "inf.S.multi.off = inf.multiple.edge(est.S$W.hat.S, est.T$S.hat.T, ns,\n",
    "                                E.mat = E.mat.off, num.bst=num.bst)"
   ]
  },
  {
   "cell_type": "markdown",
   "metadata": {},
   "source": [
    "### error distribution of test statistic estimate"
   ]
  },
  {
   "cell_type": "code",
   "execution_count": 26,
   "metadata": {},
   "outputs": [
    {
     "data": {
      "image/png": "[encoded data removed]",
      "text/plain": [
       "Plot with title “distribution of estimate error”"
      ]
     },
     "metadata": {},
     "output_type": "display_data"
    }
   ],
   "source": [
    "hist(inf.S.multi.off$T.hat.E[,1] - T.S[E.mat.off], \n",
    "     main = 'distribution of estimate error',\n",
    "     xlab = 'test statistics error')"
   ]
  },
  {
   "cell_type": "markdown",
   "metadata": {},
   "source": [
    "### bootstrap distribution"
   ]
  },
  {
   "cell_type": "code",
   "execution_count": 27,
   "metadata": {},
   "outputs": [
    {
     "data": {
      "image/png": "[encoded data removed]",
      "text/plain": [
       "Plot with title “bootstrap distribution”"
      ]
     },
     "metadata": {},
     "output_type": "display_data"
    }
   ],
   "source": [
    "hist(inf.S.multi.off$l.inf.Z,\n",
    "     main = 'bootstrap distribution',\n",
    "     xlab = expression(l[infinity](zeta)), xlim = c(2.5, 7), xaxt=\"n\")\n",
    "abline(v = max(abs(inf.S.multi.off$T.hat.E[,1])), col='red')\n",
    "axis(side=1, at=c(2, 3, 4, 5, 6, 7))"
   ]
  },
  {
   "cell_type": "markdown",
   "metadata": {},
   "source": [
    "### p-value"
   ]
  },
  {
   "cell_type": "code",
   "execution_count": 28,
   "metadata": {
    "scrolled": true
   },
   "outputs": [
    {
     "data": {
      "text/html": [
       "0"
      ],
      "text/latex": [
       "0"
      ],
      "text/markdown": [
       "0"
      ],
      "text/plain": [
       "[1] 0"
      ]
     },
     "metadata": {},
     "output_type": "display_data"
    }
   ],
   "source": [
    "inf.S.multi.off$p.value"
   ]
  },
  {
   "cell_type": "markdown",
   "metadata": {},
   "source": [
    "## $E_\\text{zero}$"
   ]
  },
  {
   "cell_type": "code",
   "execution_count": 29,
   "metadata": {},
   "outputs": [],
   "source": [
    "E.mat.zero = !Adj.S\n",
    "diag(E.mat.zero) = FALSE\n",
    "E.mat.zero[lower.tri(E.mat.zero, diag = TRUE)] = 0\n",
    "E.mat.zero = E.mat.zero != 0\n",
    "num.E.zero = sum(1*E.mat.zero)\n",
    "Cov.T.E.zero = cov.multiple.edge(Omega.S, Sigma.T, ns, E.mat = E.mat.zero)"
   ]
  },
  {
   "cell_type": "code",
   "execution_count": 30,
   "metadata": {},
   "outputs": [],
   "source": [
    "inf.S.multi.zero = inf.multiple.edge(est.S$W.hat.S, est.T$S.hat.T, ns,\n",
    "                                     E.mat = E.mat.zero, num.bst=num.bst)"
   ]
  },
  {
   "cell_type": "markdown",
   "metadata": {},
   "source": [
    "### error distribution of test statistic estimate"
   ]
  },
  {
   "cell_type": "code",
   "execution_count": 31,
   "metadata": {},
   "outputs": [
    {
     "data": {
      "image/png": "[encoded data removed]",
      "text/plain": [
       "Plot with title “distribution of estimate error”"
      ]
     },
     "metadata": {},
     "output_type": "display_data"
    }
   ],
   "source": [
    "hist(inf.S.multi.zero$T.hat.E[,1] - T.S[E.mat.zero], \n",
    "     main = 'distribution of estimate error',\n",
    "     xlab = 'test statistics error')"
   ]
  },
  {
   "cell_type": "markdown",
   "metadata": {},
   "source": [
    "### bootstrap distribution"
   ]
  },
  {
   "cell_type": "code",
   "execution_count": 32,
   "metadata": {},
   "outputs": [
    {
     "data": {
      "image/png": "[encoded data removed]",
      "text/plain": [
       "Plot with title “bootstrap distribution”"
      ]
     },
     "metadata": {},
     "output_type": "display_data"
    }
   ],
   "source": [
    "hist(inf.S.multi.zero$l.inf.Z,\n",
    "     main = 'bootstrap distribution',\n",
    "     xlab = expression(l[infinity](zeta)), xlim = c(2.5, 7), xaxt=\"n\")\n",
    "abline(v = max(abs(inf.S.multi.zero$T.hat.E[,1])), col='red')\n",
    "axis(side=1, at=c(2, 3, 4, 5, 6, 7))"
   ]
  },
  {
   "cell_type": "markdown",
   "metadata": {},
   "source": [
    "### p-value"
   ]
  },
  {
   "cell_type": "code",
   "execution_count": 33,
   "metadata": {
    "scrolled": true
   },
   "outputs": [
    {
     "data": {
      "text/html": [
       "0.886666666666667"
      ],
      "text/latex": [
       "0.886666666666667"
      ],
      "text/markdown": [
       "0.886666666666667"
      ],
      "text/plain": [
       "[1] 0.8866667"
      ]
     },
     "metadata": {},
     "output_type": "display_data"
    }
   ],
   "source": [
    "inf.S.multi.zero$p.value"
   ]
  },
  {
   "cell_type": "markdown",
   "metadata": {},
   "source": [
    "# 6. iterate simulation for empirical distirbution of test statistic"
   ]
  },
  {
   "cell_type": "code",
   "execution_count": 34,
   "metadata": {},
   "outputs": [],
   "source": [
    "num.sim = 1000"
   ]
  },
  {
   "cell_type": "code",
   "execution_count": 35,
   "metadata": {},
   "outputs": [],
   "source": [
    "T.hat.sim = array(0, c(q,q,num.sim))"
   ]
  },
  {
   "cell_type": "code",
   "execution_count": 37,
   "metadata": {
    "scrolled": true
   },
   "outputs": [
    {
     "name": "stdout",
     "output_type": "stream",
     "text": [
      "1 -th simulation finished, lapse:  5.053 sec. \n",
      "2 -th simulation finished, lapse:  6.881 sec. \n",
      "3 -th simulation finished, lapse:  5.301 sec. \n",
      "4 -th simulation finished, lapse:  9.415 sec. \n",
      "5 -th simulation finished, lapse:  7.058 sec. \n",
      "6 -th simulation finished, lapse:  7.404 sec. \n",
      "7 -th simulation finished, lapse:  10.995 sec. \n",
      "8 -th simulation finished, lapse:  6.393 sec. \n",
      "9 -th simulation finished, lapse:  10.987 sec. \n",
      "10 -th simulation finished, lapse:  6.758 sec. \n",
      "11 -th simulation finished, lapse:  7.391 sec. \n",
      "12 -th simulation finished, lapse:  7.065 sec. \n",
      "13 -th simulation finished, lapse:  7.678 sec. \n",
      "14 -th simulation finished, lapse:  8.402 sec. \n",
      "15 -th simulation finished, lapse:  7.926 sec. \n",
      "16 -th simulation finished, lapse:  7.24 sec. \n",
      "17 -th simulation finished, lapse:  8.705 sec. \n",
      "18 -th simulation finished, lapse:  6.78 sec. \n",
      "19 -th simulation finished, lapse:  9.096 sec. \n",
      "20 -th simulation finished, lapse:  5.733 sec. \n",
      "21 -th simulation finished, lapse:  10.203 sec. \n",
      "22 -th simulation finished, lapse:  9.229 sec. \n",
      "23 -th simulation finished, lapse:  9.036 sec. \n",
      "24 -th simulation finished, lapse:  8.274 sec. \n",
      "25 -th simulation finished, lapse:  6.234 sec. \n",
      "26 -th simulation finished, lapse:  11.165 sec. \n",
      "27 -th simulation finished, lapse:  5.775 sec. \n",
      "28 -th simulation finished, lapse:  9.845 sec. \n",
      "29 -th simulation finished, lapse:  6.475 sec. \n",
      "30 -th simulation finished, lapse:  6.849 sec. \n",
      "31 -th simulation finished, lapse:  8.743 sec. \n",
      "32 -th simulation finished, lapse:  8.232 sec. \n",
      "33 -th simulation finished, lapse:  11.418 sec. \n",
      "34 -th simulation finished, lapse:  7.721 sec. \n",
      "35 -th simulation finished, lapse:  7.374 sec. \n",
      "36 -th simulation finished, lapse:  7.742 sec. \n",
      "37 -th simulation finished, lapse:  7.751 sec. \n",
      "38 -th simulation finished, lapse:  11.44 sec. \n",
      "39 -th simulation finished, lapse:  5.851 sec. \n",
      "40 -th simulation finished, lapse:  10.697 sec. \n",
      "41 -th simulation finished, lapse:  7.555 sec. \n",
      "42 -th simulation finished, lapse:  12.877 sec. \n",
      "43 -th simulation finished, lapse:  6.178 sec. \n",
      "44 -th simulation finished, lapse:  8.287 sec. \n",
      "45 -th simulation finished, lapse:  10.12 sec. \n",
      "46 -th simulation finished, lapse:  7.694 sec. \n",
      "47 -th simulation finished, lapse:  7.156 sec. \n",
      "48 -th simulation finished, lapse:  7.238 sec. \n",
      "49 -th simulation finished, lapse:  10.989 sec. \n",
      "50 -th simulation finished, lapse:  5.82 sec. \n",
      "51 -th simulation finished, lapse:  9.09 sec. \n",
      "52 -th simulation finished, lapse:  6.298 sec. \n",
      "53 -th simulation finished, lapse:  6.26 sec. \n",
      "54 -th simulation finished, lapse:  9.444 sec. \n",
      "55 -th simulation finished, lapse:  8.291 sec. \n",
      "56 -th simulation finished, lapse:  11.19 sec. \n",
      "57 -th simulation finished, lapse:  6.665 sec. \n",
      "58 -th simulation finished, lapse:  9.301 sec. \n",
      "59 -th simulation finished, lapse:  6.536 sec. \n",
      "60 -th simulation finished, lapse:  9.605 sec. \n",
      "61 -th simulation finished, lapse:  8.019 sec. \n",
      "62 -th simulation finished, lapse:  6.247 sec. \n",
      "63 -th simulation finished, lapse:  10.013 sec. \n",
      "64 -th simulation finished, lapse:  7.513 sec. \n",
      "65 -th simulation finished, lapse:  10.16 sec. \n",
      "66 -th simulation finished, lapse:  8.107 sec. \n",
      "67 -th simulation finished, lapse:  8.101 sec. \n",
      "68 -th simulation finished, lapse:  5.945 sec. \n",
      "69 -th simulation finished, lapse:  6.735 sec. \n",
      "70 -th simulation finished, lapse:  9.676 sec. \n",
      "71 -th simulation finished, lapse:  7.483 sec. \n",
      "72 -th simulation finished, lapse:  10.437 sec. \n",
      "73 -th simulation finished, lapse:  5.424 sec. \n",
      "74 -th simulation finished, lapse:  7.577 sec. \n",
      "75 -th simulation finished, lapse:  6.546 sec. \n",
      "76 -th simulation finished, lapse:  8.679 sec. \n",
      "77 -th simulation finished, lapse:  8.275 sec. \n",
      "78 -th simulation finished, lapse:  6.349 sec. \n",
      "79 -th simulation finished, lapse:  7.346 sec. \n",
      "80 -th simulation finished, lapse:  8.252 sec. \n",
      "81 -th simulation finished, lapse:  7.746 sec. \n",
      "82 -th simulation finished, lapse:  8.552 sec. \n",
      "83 -th simulation finished, lapse:  6.594 sec. \n",
      "84 -th simulation finished, lapse:  8.42 sec. \n",
      "85 -th simulation finished, lapse:  7.37 sec. \n",
      "86 -th simulation finished, lapse:  9.783 sec. \n",
      "87 -th simulation finished, lapse:  8.796 sec. \n",
      "88 -th simulation finished, lapse:  11.356 sec. \n",
      "89 -th simulation finished, lapse:  7.692 sec. \n",
      "90 -th simulation finished, lapse:  9.972 sec. \n",
      "91 -th simulation finished, lapse:  6.741 sec. \n",
      "92 -th simulation finished, lapse:  12.698 sec. \n",
      "93 -th simulation finished, lapse:  7.579 sec. \n",
      "94 -th simulation finished, lapse:  10.276 sec. \n",
      "95 -th simulation finished, lapse:  7.05 sec. \n",
      "96 -th simulation finished, lapse:  10.212 sec. \n",
      "97 -th simulation finished, lapse:  7.17 sec. \n",
      "98 -th simulation finished, lapse:  9.952 sec. \n",
      "99 -th simulation finished, lapse:  9.301 sec. \n",
      "100 -th simulation finished, lapse:  6.728 sec. \n",
      "101 -th simulation finished, lapse:  7.61 sec. \n",
      "102 -th simulation finished, lapse:  9.273 sec. \n",
      "103 -th simulation finished, lapse:  7.97 sec. \n",
      "104 -th simulation finished, lapse:  9.14 sec. \n",
      "105 -th simulation finished, lapse:  8.052 sec. \n",
      "106 -th simulation finished, lapse:  7.262 sec. \n",
      "107 -th simulation finished, lapse:  9.708 sec. \n",
      "108 -th simulation finished, lapse:  8.438 sec. \n",
      "109 -th simulation finished, lapse:  10.089 sec. \n",
      "110 -th simulation finished, lapse:  7.514 sec. \n",
      "111 -th simulation finished, lapse:  7.698 sec. \n",
      "112 -th simulation finished, lapse:  6.888 sec. \n",
      "113 -th simulation finished, lapse:  5.415 sec. \n",
      "114 -th simulation finished, lapse:  6.147 sec. \n",
      "115 -th simulation finished, lapse:  5.945 sec. \n",
      "116 -th simulation finished, lapse:  5.022 sec. \n",
      "117 -th simulation finished, lapse:  6.093 sec. \n",
      "118 -th simulation finished, lapse:  6.078 sec. \n",
      "119 -th simulation finished, lapse:  6.736 sec. \n",
      "120 -th simulation finished, lapse:  6.908 sec. \n",
      "121 -th simulation finished, lapse:  5.76 sec. \n",
      "122 -th simulation finished, lapse:  6.9 sec. \n",
      "123 -th simulation finished, lapse:  6.871 sec. \n",
      "124 -th simulation finished, lapse:  6.445 sec. \n",
      "125 -th simulation finished, lapse:  6.247 sec. \n",
      "126 -th simulation finished, lapse:  6.413 sec. \n",
      "127 -th simulation finished, lapse:  5.907 sec. \n",
      "128 -th simulation finished, lapse:  5.957 sec. \n",
      "129 -th simulation finished, lapse:  5.833 sec. \n",
      "130 -th simulation finished, lapse:  6.859 sec. \n",
      "131 -th simulation finished, lapse:  5.047 sec. \n",
      "132 -th simulation finished, lapse:  5.891 sec. \n",
      "133 -th simulation finished, lapse:  7.191 sec. \n",
      "134 -th simulation finished, lapse:  6.408 sec. \n",
      "135 -th simulation finished, lapse:  5.812 sec. \n",
      "136 -th simulation finished, lapse:  6.691 sec. \n",
      "137 -th simulation finished, lapse:  6.391 sec. \n",
      "138 -th simulation finished, lapse:  6.362 sec. \n",
      "139 -th simulation finished, lapse:  6.087 sec. \n",
      "140 -th simulation finished, lapse:  5.585 sec. \n",
      "141 -th simulation finished, lapse:  6.264 sec. \n",
      "142 -th simulation finished, lapse:  6.91 sec. \n",
      "143 -th simulation finished, lapse:  4.736 sec. \n",
      "144 -th simulation finished, lapse:  6.828 sec. \n",
      "145 -th simulation finished, lapse:  7.265 sec. \n",
      "146 -th simulation finished, lapse:  6.145 sec. \n",
      "147 -th simulation finished, lapse:  6.285 sec. \n",
      "148 -th simulation finished, lapse:  6.024 sec. \n",
      "149 -th simulation finished, lapse:  6.23 sec. \n",
      "150 -th simulation finished, lapse:  6.402 sec. \n",
      "151 -th simulation finished, lapse:  5.331 sec. \n",
      "152 -th simulation finished, lapse:  6.507 sec. \n",
      "153 -th simulation finished, lapse:  5.917 sec. \n",
      "154 -th simulation finished, lapse:  4.955 sec. \n",
      "155 -th simulation finished, lapse:  5.789 sec. \n",
      "156 -th simulation finished, lapse:  5.376 sec. \n",
      "157 -th simulation finished, lapse:  6.602 sec. \n",
      "158 -th simulation finished, lapse:  5.125 sec. \n",
      "159 -th simulation finished, lapse:  6.02 sec. \n",
      "160 -th simulation finished, lapse:  5.444 sec. \n",
      "161 -th simulation finished, lapse:  5.426 sec. \n",
      "162 -th simulation finished, lapse:  5.392 sec. \n",
      "163 -th simulation finished, lapse:  5.96 sec. \n",
      "164 -th simulation finished, lapse:  5.88 sec. \n",
      "165 -th simulation finished, lapse:  5.95 sec. \n",
      "166 -th simulation finished, lapse:  6.177 sec. \n",
      "167 -th simulation finished, lapse:  5.854 sec. \n",
      "168 -th simulation finished, lapse:  5.794 sec. \n",
      "169 -th simulation finished, lapse:  6.11 sec. \n",
      "170 -th simulation finished, lapse:  6.023 sec. \n"
     ]
    },
    {
     "name": "stdout",
     "output_type": "stream",
     "text": [
      "171 -th simulation finished, lapse:  6.641 sec. \n",
      "172 -th simulation finished, lapse:  5.226 sec. \n",
      "173 -th simulation finished, lapse:  5.944 sec. \n",
      "174 -th simulation finished, lapse:  5.785 sec. \n",
      "175 -th simulation finished, lapse:  6.97 sec. \n",
      "176 -th simulation finished, lapse:  10.105 sec. \n",
      "177 -th simulation finished, lapse:  8.223 sec. \n",
      "178 -th simulation finished, lapse:  12.805 sec. \n",
      "179 -th simulation finished, lapse:  12.171 sec. \n",
      "180 -th simulation finished, lapse:  13.201 sec. \n",
      "181 -th simulation finished, lapse:  8.592 sec. \n",
      "182 -th simulation finished, lapse:  10.937 sec. \n",
      "183 -th simulation finished, lapse:  10.206 sec. \n",
      "184 -th simulation finished, lapse:  10.257 sec. \n",
      "185 -th simulation finished, lapse:  10.386 sec. \n",
      "186 -th simulation finished, lapse:  9.504 sec. \n",
      "187 -th simulation finished, lapse:  7.106 sec. \n",
      "188 -th simulation finished, lapse:  12.206 sec. \n",
      "189 -th simulation finished, lapse:  7.153 sec. \n",
      "190 -th simulation finished, lapse:  9.176 sec. \n",
      "191 -th simulation finished, lapse:  11.526 sec. \n",
      "192 -th simulation finished, lapse:  12.472 sec. \n",
      "193 -th simulation finished, lapse:  10.721 sec. \n",
      "194 -th simulation finished, lapse:  10.66 sec. \n",
      "195 -th simulation finished, lapse:  9.919 sec. \n",
      "196 -th simulation finished, lapse:  12.412 sec. \n",
      "197 -th simulation finished, lapse:  10.156 sec. \n",
      "198 -th simulation finished, lapse:  9.685 sec. \n",
      "199 -th simulation finished, lapse:  12.293 sec. \n",
      "200 -th simulation finished, lapse:  10.305 sec. \n",
      "201 -th simulation finished, lapse:  10.457 sec. \n",
      "202 -th simulation finished, lapse:  11.131 sec. \n",
      "203 -th simulation finished, lapse:  9.311 sec. \n",
      "204 -th simulation finished, lapse:  7.782 sec. \n",
      "205 -th simulation finished, lapse:  9.148 sec. \n",
      "206 -th simulation finished, lapse:  9.777 sec. \n",
      "207 -th simulation finished, lapse:  7.989 sec. \n",
      "208 -th simulation finished, lapse:  8.133 sec. \n",
      "209 -th simulation finished, lapse:  6.733 sec. \n",
      "210 -th simulation finished, lapse:  6.454 sec. \n",
      "211 -th simulation finished, lapse:  9.858 sec. \n",
      "212 -th simulation finished, lapse:  9.759 sec. \n",
      "213 -th simulation finished, lapse:  10.118 sec. \n",
      "214 -th simulation finished, lapse:  7.602 sec. \n",
      "215 -th simulation finished, lapse:  12.353 sec. \n",
      "216 -th simulation finished, lapse:  9.267 sec. \n",
      "217 -th simulation finished, lapse:  7.631 sec. \n",
      "218 -th simulation finished, lapse:  7.646 sec. \n",
      "219 -th simulation finished, lapse:  8.529 sec. \n",
      "220 -th simulation finished, lapse:  10.958 sec. \n",
      "221 -th simulation finished, lapse:  11.291 sec. \n",
      "222 -th simulation finished, lapse:  9.214 sec. \n",
      "223 -th simulation finished, lapse:  8.886 sec. \n",
      "224 -th simulation finished, lapse:  10.578 sec. \n",
      "225 -th simulation finished, lapse:  9.182 sec. \n",
      "226 -th simulation finished, lapse:  10.048 sec. \n",
      "227 -th simulation finished, lapse:  10.214 sec. \n",
      "228 -th simulation finished, lapse:  11.125 sec. \n",
      "229 -th simulation finished, lapse:  8.118 sec. \n",
      "230 -th simulation finished, lapse:  12.846 sec. \n",
      "231 -th simulation finished, lapse:  9.832 sec. \n",
      "232 -th simulation finished, lapse:  8.681 sec. \n",
      "233 -th simulation finished, lapse:  11.794 sec. \n",
      "234 -th simulation finished, lapse:  10.699 sec. \n",
      "235 -th simulation finished, lapse:  12.215 sec. \n",
      "236 -th simulation finished, lapse:  8.908 sec. \n",
      "237 -th simulation finished, lapse:  7.76 sec. \n",
      "238 -th simulation finished, lapse:  8.463 sec. \n",
      "239 -th simulation finished, lapse:  12.148 sec. \n",
      "240 -th simulation finished, lapse:  8.455 sec. \n",
      "241 -th simulation finished, lapse:  8.147 sec. \n",
      "242 -th simulation finished, lapse:  10.507 sec. \n",
      "243 -th simulation finished, lapse:  11.189 sec. \n",
      "244 -th simulation finished, lapse:  10.261 sec. \n",
      "245 -th simulation finished, lapse:  8.807 sec. \n",
      "246 -th simulation finished, lapse:  10.84 sec. \n",
      "247 -th simulation finished, lapse:  9.187 sec. \n",
      "248 -th simulation finished, lapse:  10.228 sec. \n",
      "249 -th simulation finished, lapse:  11.647 sec. \n",
      "250 -th simulation finished, lapse:  9.543 sec. \n",
      "251 -th simulation finished, lapse:  8.505 sec. \n",
      "252 -th simulation finished, lapse:  9.16 sec. \n",
      "253 -th simulation finished, lapse:  10.008 sec. \n",
      "254 -th simulation finished, lapse:  9.976 sec. \n",
      "255 -th simulation finished, lapse:  13.61 sec. \n",
      "256 -th simulation finished, lapse:  8.791 sec. \n",
      "257 -th simulation finished, lapse:  8.734 sec. \n",
      "258 -th simulation finished, lapse:  10.1 sec. \n",
      "259 -th simulation finished, lapse:  10.076 sec. \n",
      "260 -th simulation finished, lapse:  8.458 sec. \n",
      "261 -th simulation finished, lapse:  10.185 sec. \n",
      "262 -th simulation finished, lapse:  12.866 sec. \n",
      "263 -th simulation finished, lapse:  8.447 sec. \n",
      "264 -th simulation finished, lapse:  7.425 sec. \n",
      "265 -th simulation finished, lapse:  10.577 sec. \n",
      "266 -th simulation finished, lapse:  12.576 sec. \n",
      "267 -th simulation finished, lapse:  10.06 sec. \n",
      "268 -th simulation finished, lapse:  5.93 sec. \n",
      "269 -th simulation finished, lapse:  8.218 sec. \n",
      "270 -th simulation finished, lapse:  9.379 sec. \n",
      "271 -th simulation finished, lapse:  10.976 sec. \n",
      "272 -th simulation finished, lapse:  10.15 sec. \n",
      "273 -th simulation finished, lapse:  10.29 sec. \n",
      "274 -th simulation finished, lapse:  12.349 sec. \n",
      "275 -th simulation finished, lapse:  12.66 sec. \n",
      "276 -th simulation finished, lapse:  10.156 sec. \n",
      "277 -th simulation finished, lapse:  8.446 sec. \n",
      "278 -th simulation finished, lapse:  7.029 sec. \n",
      "279 -th simulation finished, lapse:  12.179 sec. \n",
      "280 -th simulation finished, lapse:  11.875 sec. \n",
      "281 -th simulation finished, lapse:  9.319 sec. \n",
      "282 -th simulation finished, lapse:  9.298 sec. \n",
      "283 -th simulation finished, lapse:  9.377 sec. \n",
      "284 -th simulation finished, lapse:  8.1 sec. \n",
      "285 -th simulation finished, lapse:  11.999 sec. \n",
      "286 -th simulation finished, lapse:  13.467 sec. \n",
      "287 -th simulation finished, lapse:  9.33 sec. \n",
      "288 -th simulation finished, lapse:  12.883 sec. \n",
      "289 -th simulation finished, lapse:  10.249 sec. \n",
      "290 -th simulation finished, lapse:  11.864 sec. \n",
      "291 -th simulation finished, lapse:  9.168 sec. \n",
      "292 -th simulation finished, lapse:  8.074 sec. \n",
      "293 -th simulation finished, lapse:  10.546 sec. \n",
      "294 -th simulation finished, lapse:  12.409 sec. \n",
      "295 -th simulation finished, lapse:  8.898 sec. \n",
      "296 -th simulation finished, lapse:  9.011 sec. \n",
      "297 -th simulation finished, lapse:  7.577 sec. \n",
      "298 -th simulation finished, lapse:  9.237 sec. \n",
      "299 -th simulation finished, lapse:  9.079 sec. \n",
      "300 -th simulation finished, lapse:  11.499 sec. \n",
      "301 -th simulation finished, lapse:  12.573 sec. \n",
      "302 -th simulation finished, lapse:  7.326 sec. \n",
      "303 -th simulation finished, lapse:  11.95 sec. \n",
      "304 -th simulation finished, lapse:  9.713 sec. \n",
      "305 -th simulation finished, lapse:  7.827 sec. \n",
      "306 -th simulation finished, lapse:  9.97 sec. \n",
      "307 -th simulation finished, lapse:  9.033 sec. \n",
      "308 -th simulation finished, lapse:  11.251 sec. \n",
      "309 -th simulation finished, lapse:  8.717 sec. \n",
      "310 -th simulation finished, lapse:  12.342 sec. \n",
      "311 -th simulation finished, lapse:  11.354 sec. \n",
      "312 -th simulation finished, lapse:  11.42 sec. \n",
      "313 -th simulation finished, lapse:  10.941 sec. \n",
      "314 -th simulation finished, lapse:  9.676 sec. \n",
      "315 -th simulation finished, lapse:  10.974 sec. \n",
      "316 -th simulation finished, lapse:  10.478 sec. \n",
      "317 -th simulation finished, lapse:  7.999 sec. \n",
      "318 -th simulation finished, lapse:  11.138 sec. \n",
      "319 -th simulation finished, lapse:  11.097 sec. \n",
      "320 -th simulation finished, lapse:  9.532 sec. \n",
      "321 -th simulation finished, lapse:  7.381 sec. \n",
      "322 -th simulation finished, lapse:  13.35 sec. \n",
      "323 -th simulation finished, lapse:  9.115 sec. \n",
      "324 -th simulation finished, lapse:  13.174 sec. \n",
      "325 -th simulation finished, lapse:  10.947 sec. \n",
      "326 -th simulation finished, lapse:  13.506 sec. \n",
      "327 -th simulation finished, lapse:  7.626 sec. \n",
      "328 -th simulation finished, lapse:  7.849 sec. \n",
      "329 -th simulation finished, lapse:  8.776 sec. \n",
      "330 -th simulation finished, lapse:  8.792 sec. \n",
      "331 -th simulation finished, lapse:  11.825 sec. \n",
      "332 -th simulation finished, lapse:  7.48 sec. \n",
      "333 -th simulation finished, lapse:  8.929 sec. \n",
      "334 -th simulation finished, lapse:  10.522 sec. \n",
      "335 -th simulation finished, lapse:  12.819 sec. \n",
      "336 -th simulation finished, lapse:  9.056 sec. \n"
     ]
    },
    {
     "name": "stdout",
     "output_type": "stream",
     "text": [
      "337 -th simulation finished, lapse:  10.954 sec. \n",
      "338 -th simulation finished, lapse:  11.163 sec. \n",
      "339 -th simulation finished, lapse:  10.477 sec. \n",
      "340 -th simulation finished, lapse:  11.222 sec. \n",
      "341 -th simulation finished, lapse:  14.649 sec. \n",
      "342 -th simulation finished, lapse:  10.22 sec. \n",
      "343 -th simulation finished, lapse:  10.342 sec. \n",
      "344 -th simulation finished, lapse:  10.537 sec. \n",
      "345 -th simulation finished, lapse:  9.497 sec. \n",
      "346 -th simulation finished, lapse:  8.696 sec. \n",
      "347 -th simulation finished, lapse:  10.716 sec. \n",
      "348 -th simulation finished, lapse:  11.229 sec. \n",
      "349 -th simulation finished, lapse:  9.766 sec. \n",
      "350 -th simulation finished, lapse:  9.283 sec. \n",
      "351 -th simulation finished, lapse:  13.552 sec. \n",
      "352 -th simulation finished, lapse:  9.062 sec. \n",
      "353 -th simulation finished, lapse:  8.138 sec. \n",
      "354 -th simulation finished, lapse:  14.247 sec. \n",
      "355 -th simulation finished, lapse:  11.948 sec. \n",
      "356 -th simulation finished, lapse:  8.793 sec. \n",
      "357 -th simulation finished, lapse:  7.727 sec. \n",
      "358 -th simulation finished, lapse:  10.326 sec. \n",
      "359 -th simulation finished, lapse:  8.129 sec. \n",
      "360 -th simulation finished, lapse:  10.093 sec. \n",
      "361 -th simulation finished, lapse:  8.157 sec. \n",
      "362 -th simulation finished, lapse:  9.544 sec. \n",
      "363 -th simulation finished, lapse:  8.855 sec. \n",
      "364 -th simulation finished, lapse:  8.076 sec. \n",
      "365 -th simulation finished, lapse:  10.378 sec. \n",
      "366 -th simulation finished, lapse:  8.837 sec. \n",
      "367 -th simulation finished, lapse:  6.786 sec. \n",
      "368 -th simulation finished, lapse:  9.222 sec. \n",
      "369 -th simulation finished, lapse:  11.199 sec. \n",
      "370 -th simulation finished, lapse:  10.551 sec. \n",
      "371 -th simulation finished, lapse:  8.743 sec. \n",
      "372 -th simulation finished, lapse:  9.953 sec. \n",
      "373 -th simulation finished, lapse:  12.134 sec. \n",
      "374 -th simulation finished, lapse:  8.037 sec. \n",
      "375 -th simulation finished, lapse:  11.606 sec. \n",
      "376 -th simulation finished, lapse:  10.115 sec. \n",
      "377 -th simulation finished, lapse:  9.107 sec. \n",
      "378 -th simulation finished, lapse:  10.194 sec. \n",
      "379 -th simulation finished, lapse:  12.403 sec. \n",
      "380 -th simulation finished, lapse:  8.942 sec. \n",
      "381 -th simulation finished, lapse:  8.042 sec. \n",
      "382 -th simulation finished, lapse:  8.992 sec. \n",
      "383 -th simulation finished, lapse:  10.839 sec. \n",
      "384 -th simulation finished, lapse:  12.322 sec. \n",
      "385 -th simulation finished, lapse:  12.248 sec. \n",
      "386 -th simulation finished, lapse:  11.816 sec. \n",
      "387 -th simulation finished, lapse:  9.04 sec. \n",
      "388 -th simulation finished, lapse:  8.757 sec. \n",
      "389 -th simulation finished, lapse:  10.904 sec. \n",
      "390 -th simulation finished, lapse:  10.904 sec. \n",
      "391 -th simulation finished, lapse:  11.716 sec. \n",
      "392 -th simulation finished, lapse:  10.302 sec. \n",
      "393 -th simulation finished, lapse:  10.999 sec. \n",
      "394 -th simulation finished, lapse:  12.116 sec. \n",
      "395 -th simulation finished, lapse:  10.316 sec. \n",
      "396 -th simulation finished, lapse:  9.259 sec. \n",
      "397 -th simulation finished, lapse:  12.419 sec. \n",
      "398 -th simulation finished, lapse:  8.581 sec. \n",
      "399 -th simulation finished, lapse:  8.379 sec. \n",
      "400 -th simulation finished, lapse:  9.504 sec. \n",
      "401 -th simulation finished, lapse:  9.608 sec. \n",
      "402 -th simulation finished, lapse:  10.257 sec. \n",
      "403 -th simulation finished, lapse:  11.269 sec. \n",
      "404 -th simulation finished, lapse:  8.407 sec. \n",
      "405 -th simulation finished, lapse:  9.55 sec. \n",
      "406 -th simulation finished, lapse:  9.101 sec. \n",
      "407 -th simulation finished, lapse:  10.166 sec. \n",
      "408 -th simulation finished, lapse:  7.616 sec. \n",
      "409 -th simulation finished, lapse:  13.647 sec. \n",
      "410 -th simulation finished, lapse:  10.786 sec. \n",
      "411 -th simulation finished, lapse:  9.998 sec. \n",
      "412 -th simulation finished, lapse:  11.274 sec. \n",
      "413 -th simulation finished, lapse:  6.906 sec. \n",
      "414 -th simulation finished, lapse:  10.358 sec. \n",
      "415 -th simulation finished, lapse:  9.685 sec. \n",
      "416 -th simulation finished, lapse:  11.211 sec. \n",
      "417 -th simulation finished, lapse:  9.108 sec. \n",
      "418 -th simulation finished, lapse:  11.427 sec. \n",
      "419 -th simulation finished, lapse:  9.224 sec. \n",
      "420 -th simulation finished, lapse:  8.671 sec. \n",
      "421 -th simulation finished, lapse:  6.548 sec. \n",
      "422 -th simulation finished, lapse:  8.335 sec. \n",
      "423 -th simulation finished, lapse:  13.07 sec. \n",
      "424 -th simulation finished, lapse:  9.932 sec. \n",
      "425 -th simulation finished, lapse:  10.271 sec. \n",
      "426 -th simulation finished, lapse:  8.661 sec. \n",
      "427 -th simulation finished, lapse:  11.852 sec. \n",
      "428 -th simulation finished, lapse:  10.673 sec. \n",
      "429 -th simulation finished, lapse:  9.489 sec. \n",
      "430 -th simulation finished, lapse:  11.85 sec. \n",
      "431 -th simulation finished, lapse:  9.802 sec. \n",
      "432 -th simulation finished, lapse:  9.024 sec. \n",
      "433 -th simulation finished, lapse:  12.349 sec. \n",
      "434 -th simulation finished, lapse:  10.972 sec. \n",
      "435 -th simulation finished, lapse:  8.011 sec. \n",
      "436 -th simulation finished, lapse:  12.464 sec. \n",
      "437 -th simulation finished, lapse:  6.914 sec. \n",
      "438 -th simulation finished, lapse:  11.786 sec. \n",
      "439 -th simulation finished, lapse:  8.074 sec. \n",
      "440 -th simulation finished, lapse:  9.945 sec. \n",
      "441 -th simulation finished, lapse:  8.343 sec. \n",
      "442 -th simulation finished, lapse:  10.732 sec. \n",
      "443 -th simulation finished, lapse:  8.898 sec. \n",
      "444 -th simulation finished, lapse:  10.556 sec. \n",
      "445 -th simulation finished, lapse:  9.556 sec. \n",
      "446 -th simulation finished, lapse:  11.702 sec. \n",
      "447 -th simulation finished, lapse:  8.588 sec. \n",
      "448 -th simulation finished, lapse:  12.576 sec. \n",
      "449 -th simulation finished, lapse:  10.065 sec. \n",
      "450 -th simulation finished, lapse:  13.12 sec. \n",
      "451 -th simulation finished, lapse:  10.811 sec. \n",
      "452 -th simulation finished, lapse:  7.667 sec. \n",
      "453 -th simulation finished, lapse:  11.491 sec. \n",
      "454 -th simulation finished, lapse:  12.462 sec. \n",
      "455 -th simulation finished, lapse:  9.527 sec. \n",
      "456 -th simulation finished, lapse:  7.142 sec. \n",
      "457 -th simulation finished, lapse:  8.339 sec. \n",
      "458 -th simulation finished, lapse:  13.055 sec. \n",
      "459 -th simulation finished, lapse:  11.963 sec. \n",
      "460 -th simulation finished, lapse:  15.071 sec. \n",
      "461 -th simulation finished, lapse:  8.162 sec. \n",
      "462 -th simulation finished, lapse:  10.844 sec. \n",
      "463 -th simulation finished, lapse:  13.516 sec. \n",
      "464 -th simulation finished, lapse:  9.863 sec. \n",
      "465 -th simulation finished, lapse:  9.296 sec. \n",
      "466 -th simulation finished, lapse:  9.22 sec. \n",
      "467 -th simulation finished, lapse:  9.467 sec. \n",
      "468 -th simulation finished, lapse:  7.855 sec. \n",
      "469 -th simulation finished, lapse:  14.201 sec. \n",
      "470 -th simulation finished, lapse:  10.766 sec. \n",
      "471 -th simulation finished, lapse:  10.108 sec. \n",
      "472 -th simulation finished, lapse:  7.032 sec. \n",
      "473 -th simulation finished, lapse:  8.801 sec. \n",
      "474 -th simulation finished, lapse:  7.301 sec. \n",
      "475 -th simulation finished, lapse:  9.934 sec. \n",
      "476 -th simulation finished, lapse:  11.917 sec. \n",
      "477 -th simulation finished, lapse:  9.461 sec. \n",
      "478 -th simulation finished, lapse:  8.321 sec. \n",
      "479 -th simulation finished, lapse:  12.051 sec. \n",
      "480 -th simulation finished, lapse:  11.368 sec. \n",
      "481 -th simulation finished, lapse:  8.903 sec. \n",
      "482 -th simulation finished, lapse:  11.224 sec. \n",
      "483 -th simulation finished, lapse:  9.899 sec. \n",
      "484 -th simulation finished, lapse:  11.289 sec. \n",
      "485 -th simulation finished, lapse:  11.822 sec. \n",
      "486 -th simulation finished, lapse:  9.67 sec. \n",
      "487 -th simulation finished, lapse:  7.792 sec. \n",
      "488 -th simulation finished, lapse:  11.155 sec. \n",
      "489 -th simulation finished, lapse:  7.837 sec. \n",
      "490 -th simulation finished, lapse:  11.11 sec. \n",
      "491 -th simulation finished, lapse:  8.397 sec. \n",
      "492 -th simulation finished, lapse:  9.16 sec. \n",
      "493 -th simulation finished, lapse:  9.897 sec. \n",
      "494 -th simulation finished, lapse:  7.293 sec. \n",
      "495 -th simulation finished, lapse:  8.818 sec. \n",
      "496 -th simulation finished, lapse:  11.621 sec. \n",
      "497 -th simulation finished, lapse:  10.369 sec. \n",
      "498 -th simulation finished, lapse:  14.678 sec. \n",
      "499 -th simulation finished, lapse:  10.384 sec. \n",
      "500 -th simulation finished, lapse:  8.168 sec. \n",
      "501 -th simulation finished, lapse:  9.139 sec. \n",
      "502 -th simulation finished, lapse:  13.124 sec. \n"
     ]
    },
    {
     "name": "stdout",
     "output_type": "stream",
     "text": [
      "503 -th simulation finished, lapse:  13.108 sec. \n",
      "504 -th simulation finished, lapse:  7.827 sec. \n",
      "505 -th simulation finished, lapse:  11.589 sec. \n",
      "506 -th simulation finished, lapse:  9.81 sec. \n",
      "507 -th simulation finished, lapse:  9.287 sec. \n",
      "508 -th simulation finished, lapse:  8.211 sec. \n",
      "509 -th simulation finished, lapse:  9.298 sec. \n",
      "510 -th simulation finished, lapse:  8.203 sec. \n",
      "511 -th simulation finished, lapse:  9.585 sec. \n",
      "512 -th simulation finished, lapse:  7.403 sec. \n",
      "513 -th simulation finished, lapse:  11.543 sec. \n",
      "514 -th simulation finished, lapse:  10.285 sec. \n",
      "515 -th simulation finished, lapse:  10.427 sec. \n",
      "516 -th simulation finished, lapse:  11.264 sec. \n",
      "517 -th simulation finished, lapse:  10.495 sec. \n",
      "518 -th simulation finished, lapse:  8.654 sec. \n",
      "519 -th simulation finished, lapse:  11.531 sec. \n",
      "520 -th simulation finished, lapse:  8.934 sec. \n",
      "521 -th simulation finished, lapse:  10.741 sec. \n",
      "522 -th simulation finished, lapse:  11.116 sec. \n",
      "523 -th simulation finished, lapse:  9.94 sec. \n",
      "524 -th simulation finished, lapse:  10.884 sec. \n",
      "525 -th simulation finished, lapse:  9.592 sec. \n",
      "526 -th simulation finished, lapse:  7.565 sec. \n",
      "527 -th simulation finished, lapse:  8.583 sec. \n",
      "528 -th simulation finished, lapse:  8.707 sec. \n",
      "529 -th simulation finished, lapse:  11.655 sec. \n",
      "530 -th simulation finished, lapse:  10.239 sec. \n",
      "531 -th simulation finished, lapse:  11.482 sec. \n",
      "532 -th simulation finished, lapse:  8.639 sec. \n",
      "533 -th simulation finished, lapse:  12.407 sec. \n",
      "534 -th simulation finished, lapse:  11.653 sec. \n",
      "535 -th simulation finished, lapse:  8.718 sec. \n",
      "536 -th simulation finished, lapse:  9.444 sec. \n",
      "537 -th simulation finished, lapse:  10.972 sec. \n",
      "538 -th simulation finished, lapse:  12.134 sec. \n",
      "539 -th simulation finished, lapse:  10.308 sec. \n",
      "540 -th simulation finished, lapse:  10.144 sec. \n",
      "541 -th simulation finished, lapse:  10.58 sec. \n",
      "542 -th simulation finished, lapse:  9.523 sec. \n",
      "543 -th simulation finished, lapse:  9.315 sec. \n",
      "544 -th simulation finished, lapse:  8.25 sec. \n",
      "545 -th simulation finished, lapse:  12.75 sec. \n",
      "546 -th simulation finished, lapse:  8.562 sec. \n",
      "547 -th simulation finished, lapse:  8.891 sec. \n",
      "548 -th simulation finished, lapse:  7.677 sec. \n",
      "549 -th simulation finished, lapse:  10.353 sec. \n",
      "550 -th simulation finished, lapse:  10.474 sec. \n",
      "551 -th simulation finished, lapse:  8.021 sec. \n",
      "552 -th simulation finished, lapse:  12.751 sec. \n",
      "553 -th simulation finished, lapse:  13.148 sec. \n",
      "554 -th simulation finished, lapse:  11.276 sec. \n",
      "555 -th simulation finished, lapse:  11.261 sec. \n",
      "556 -th simulation finished, lapse:  7.408 sec. \n",
      "557 -th simulation finished, lapse:  12.019 sec. \n",
      "558 -th simulation finished, lapse:  11.9 sec. \n",
      "559 -th simulation finished, lapse:  8.53 sec. \n",
      "560 -th simulation finished, lapse:  8.396 sec. \n",
      "561 -th simulation finished, lapse:  9.641 sec. \n",
      "562 -th simulation finished, lapse:  9.809 sec. \n",
      "563 -th simulation finished, lapse:  8.487 sec. \n",
      "564 -th simulation finished, lapse:  11.402 sec. \n",
      "565 -th simulation finished, lapse:  11.853 sec. \n",
      "566 -th simulation finished, lapse:  8.741 sec. \n",
      "567 -th simulation finished, lapse:  12.1 sec. \n",
      "568 -th simulation finished, lapse:  13.029 sec. \n",
      "569 -th simulation finished, lapse:  11.924 sec. \n",
      "570 -th simulation finished, lapse:  9.345 sec. \n",
      "571 -th simulation finished, lapse:  8.139 sec. \n",
      "572 -th simulation finished, lapse:  8.7 sec. \n",
      "573 -th simulation finished, lapse:  11.39 sec. \n",
      "574 -th simulation finished, lapse:  10.938 sec. \n",
      "575 -th simulation finished, lapse:  9.789 sec. \n",
      "576 -th simulation finished, lapse:  13.978 sec. \n",
      "577 -th simulation finished, lapse:  9.7 sec. \n",
      "578 -th simulation finished, lapse:  10.363 sec. \n",
      "579 -th simulation finished, lapse:  10.114 sec. \n",
      "580 -th simulation finished, lapse:  11.836 sec. \n",
      "581 -th simulation finished, lapse:  10.794 sec. \n",
      "582 -th simulation finished, lapse:  9.523 sec. \n",
      "583 -th simulation finished, lapse:  11.551 sec. \n",
      "584 -th simulation finished, lapse:  12.051 sec. \n",
      "585 -th simulation finished, lapse:  10.705 sec. \n",
      "586 -th simulation finished, lapse:  8.637 sec. \n",
      "587 -th simulation finished, lapse:  11.338 sec. \n",
      "588 -th simulation finished, lapse:  10.275 sec. \n",
      "589 -th simulation finished, lapse:  8.162 sec. \n",
      "590 -th simulation finished, lapse:  8.404 sec. \n",
      "591 -th simulation finished, lapse:  13.153 sec. \n",
      "592 -th simulation finished, lapse:  7.948 sec. \n",
      "593 -th simulation finished, lapse:  7.913 sec. \n",
      "594 -th simulation finished, lapse:  8.996 sec. \n",
      "595 -th simulation finished, lapse:  8.745 sec. \n",
      "596 -th simulation finished, lapse:  9.028 sec. \n",
      "597 -th simulation finished, lapse:  8.763 sec. \n",
      "598 -th simulation finished, lapse:  9.177 sec. \n",
      "599 -th simulation finished, lapse:  11.768 sec. \n",
      "600 -th simulation finished, lapse:  10.525 sec. \n",
      "601 -th simulation finished, lapse:  9.519 sec. \n",
      "602 -th simulation finished, lapse:  9.89 sec. \n",
      "603 -th simulation finished, lapse:  11.246 sec. \n",
      "604 -th simulation finished, lapse:  12.069 sec. \n",
      "605 -th simulation finished, lapse:  11.628 sec. \n",
      "606 -th simulation finished, lapse:  8.39 sec. \n",
      "607 -th simulation finished, lapse:  11.683 sec. \n",
      "608 -th simulation finished, lapse:  8.826 sec. \n",
      "609 -th simulation finished, lapse:  7.884 sec. \n",
      "610 -th simulation finished, lapse:  8.841 sec. \n",
      "611 -th simulation finished, lapse:  10.707 sec. \n",
      "612 -th simulation finished, lapse:  12.208 sec. \n",
      "613 -th simulation finished, lapse:  11.616 sec. \n",
      "614 -th simulation finished, lapse:  6.734 sec. \n",
      "615 -th simulation finished, lapse:  8.134 sec. \n",
      "616 -th simulation finished, lapse:  8.39 sec. \n",
      "617 -th simulation finished, lapse:  8.567 sec. \n",
      "618 -th simulation finished, lapse:  9.795 sec. \n",
      "619 -th simulation finished, lapse:  8.774 sec. \n",
      "620 -th simulation finished, lapse:  8.203 sec. \n",
      "621 -th simulation finished, lapse:  7.899 sec. \n",
      "622 -th simulation finished, lapse:  12.051 sec. \n",
      "623 -th simulation finished, lapse:  11.517 sec. \n",
      "624 -th simulation finished, lapse:  10.914 sec. \n",
      "625 -th simulation finished, lapse:  11.38 sec. \n",
      "626 -th simulation finished, lapse:  10.736 sec. \n",
      "627 -th simulation finished, lapse:  10.373 sec. \n",
      "638 -th simulation finished, lapse:  12.395 sec. \n",
      "639 -th simulation finished, lapse:  9.483 sec. \n",
      "640 -th simulation finished, lapse:  10.779 sec. \n",
      "641 -th simulation finished, lapse:  11.991 sec. \n",
      "642 -th simulation finished, lapse:  9.059 sec. \n",
      "643 -th simulation finished, lapse:  8.757 sec. \n",
      "644 -th simulation finished, lapse:  10.98 sec. \n",
      "645 -th simulation finished, lapse:  8.941 sec. \n",
      "646 -th simulation finished, lapse:  9.894 sec. \n",
      "647 -th simulation finished, lapse:  11.551 sec. \n",
      "648 -th simulation finished, lapse:  9.509 sec. \n",
      "649 -th simulation finished, lapse:  11.511 sec. \n",
      "650 -th simulation finished, lapse:  6.923 sec. \n",
      "651 -th simulation finished, lapse:  10.742 sec. \n",
      "652 -th simulation finished, lapse:  8.797 sec. \n",
      "653 -th simulation finished, lapse:  9.599 sec. \n",
      "654 -th simulation finished, lapse:  9.123 sec. \n",
      "655 -th simulation finished, lapse:  10.53 sec. \n",
      "656 -th simulation finished, lapse:  10.707 sec. \n",
      "657 -th simulation finished, lapse:  11.028 sec. \n",
      "658 -th simulation finished, lapse:  9.173 sec. \n",
      "659 -th simulation finished, lapse:  13.082 sec. \n",
      "660 -th simulation finished, lapse:  10.039 sec. \n",
      "661 -th simulation finished, lapse:  12.762 sec. \n",
      "662 -th simulation finished, lapse:  9.947 sec. \n",
      "663 -th simulation finished, lapse:  10.2 sec. \n",
      "664 -th simulation finished, lapse:  7.414 sec. \n",
      "665 -th simulation finished, lapse:  11.268 sec. \n",
      "666 -th simulation finished, lapse:  11.041 sec. \n",
      "667 -th simulation finished, lapse:  10.256 sec. \n",
      "668 -th simulation finished, lapse:  10.226 sec. \n",
      "669 -th simulation finished, lapse:  6.728 sec. \n",
      "670 -th simulation finished, lapse:  9.094 sec. \n",
      "671 -th simulation finished, lapse:  7.697 sec. \n",
      "672 -th simulation finished, lapse:  8.793 sec. \n",
      "673 -th simulation finished, lapse:  11.869 sec. \n",
      "674 -th simulation finished, lapse:  13.527 sec. \n",
      "675 -th simulation finished, lapse:  13.17 sec. \n",
      "676 -th simulation finished, lapse:  12.815 sec. \n",
      "677 -th simulation finished, lapse:  6.803 sec. \n",
      "678 -th simulation finished, lapse:  12.378 sec. \n"
     ]
    },
    {
     "name": "stdout",
     "output_type": "stream",
     "text": [
      "679 -th simulation finished, lapse:  10.046 sec. \n",
      "680 -th simulation finished, lapse:  9.668 sec. \n",
      "681 -th simulation finished, lapse:  10.889 sec. \n",
      "682 -th simulation finished, lapse:  13.711 sec. \n",
      "683 -th simulation finished, lapse:  13.575 sec. \n",
      "684 -th simulation finished, lapse:  9.441 sec. \n",
      "685 -th simulation finished, lapse:  9.312 sec. \n",
      "686 -th simulation finished, lapse:  8.516 sec. \n",
      "687 -th simulation finished, lapse:  10.6 sec. \n",
      "688 -th simulation finished, lapse:  10.519 sec. \n",
      "689 -th simulation finished, lapse:  8.64 sec. \n",
      "690 -th simulation finished, lapse:  9.421 sec. \n",
      "691 -th simulation finished, lapse:  10.334 sec. \n",
      "692 -th simulation finished, lapse:  11.08 sec. \n",
      "693 -th simulation finished, lapse:  10.517 sec. \n",
      "694 -th simulation finished, lapse:  11.289 sec. \n",
      "695 -th simulation finished, lapse:  11.112 sec. \n",
      "696 -th simulation finished, lapse:  10.033 sec. \n",
      "697 -th simulation finished, lapse:  12.736 sec. \n",
      "698 -th simulation finished, lapse:  9.366 sec. \n",
      "699 -th simulation finished, lapse:  13.404 sec. \n",
      "700 -th simulation finished, lapse:  8.538 sec. \n",
      "701 -th simulation finished, lapse:  10.684 sec. \n",
      "702 -th simulation finished, lapse:  8.821 sec. \n",
      "703 -th simulation finished, lapse:  8.98 sec. \n",
      "704 -th simulation finished, lapse:  7.7 sec. \n",
      "705 -th simulation finished, lapse:  10.849 sec. \n",
      "706 -th simulation finished, lapse:  8.125 sec. \n",
      "707 -th simulation finished, lapse:  11.426 sec. \n",
      "708 -th simulation finished, lapse:  9.918 sec. \n",
      "709 -th simulation finished, lapse:  9.74 sec. \n",
      "710 -th simulation finished, lapse:  10.681 sec. \n",
      "711 -th simulation finished, lapse:  11.917 sec. \n",
      "712 -th simulation finished, lapse:  9.946 sec. \n",
      "713 -th simulation finished, lapse:  10.313 sec. \n",
      "714 -th simulation finished, lapse:  7.641 sec. \n",
      "715 -th simulation finished, lapse:  10.961 sec. \n",
      "716 -th simulation finished, lapse:  7.851 sec. \n",
      "717 -th simulation finished, lapse:  6.702 sec. \n",
      "718 -th simulation finished, lapse:  12.462 sec. \n",
      "719 -th simulation finished, lapse:  12.011 sec. \n",
      "720 -th simulation finished, lapse:  9.848 sec. \n",
      "721 -th simulation finished, lapse:  10.821 sec. \n",
      "722 -th simulation finished, lapse:  8.531 sec. \n",
      "723 -th simulation finished, lapse:  9.065 sec. \n",
      "724 -th simulation finished, lapse:  9.624 sec. \n",
      "725 -th simulation finished, lapse:  9.217 sec. \n",
      "726 -th simulation finished, lapse:  11.546 sec. \n",
      "727 -th simulation finished, lapse:  8.811 sec. \n",
      "728 -th simulation finished, lapse:  9.914 sec. \n",
      "729 -th simulation finished, lapse:  8.839 sec. \n",
      "730 -th simulation finished, lapse:  8.144 sec. \n",
      "731 -th simulation finished, lapse:  11.813 sec. \n",
      "732 -th simulation finished, lapse:  10.565 sec. \n",
      "733 -th simulation finished, lapse:  12.271 sec. \n",
      "734 -th simulation finished, lapse:  8.951 sec. \n",
      "735 -th simulation finished, lapse:  10.192 sec. \n",
      "736 -th simulation finished, lapse:  12.54 sec. \n",
      "737 -th simulation finished, lapse:  12.138 sec. \n",
      "738 -th simulation finished, lapse:  11.175 sec. \n",
      "739 -th simulation finished, lapse:  8.613 sec. \n",
      "740 -th simulation finished, lapse:  8.76 sec. \n",
      "741 -th simulation finished, lapse:  12.249 sec. \n",
      "742 -th simulation finished, lapse:  9.848 sec. \n",
      "743 -th simulation finished, lapse:  6.584 sec. \n",
      "744 -th simulation finished, lapse:  7.605 sec. \n",
      "745 -th simulation finished, lapse:  10.058 sec. \n",
      "746 -th simulation finished, lapse:  9.18 sec. \n",
      "747 -th simulation finished, lapse:  8.664 sec. \n",
      "748 -th simulation finished, lapse:  11.594 sec. \n",
      "749 -th simulation finished, lapse:  11.741 sec. \n",
      "750 -th simulation finished, lapse:  9.627 sec. \n",
      "751 -th simulation finished, lapse:  8.855 sec. \n",
      "752 -th simulation finished, lapse:  14.518 sec. \n",
      "753 -th simulation finished, lapse:  8.535 sec. \n",
      "754 -th simulation finished, lapse:  8.382 sec. \n",
      "755 -th simulation finished, lapse:  8.684 sec. \n",
      "756 -th simulation finished, lapse:  8.765 sec. \n",
      "757 -th simulation finished, lapse:  10.363 sec. \n",
      "758 -th simulation finished, lapse:  8.44 sec. \n",
      "759 -th simulation finished, lapse:  6.522 sec. \n",
      "760 -th simulation finished, lapse:  13.51 sec. \n",
      "761 -th simulation finished, lapse:  8.383 sec. \n",
      "762 -th simulation finished, lapse:  10.695 sec. \n",
      "763 -th simulation finished, lapse:  9.894 sec. \n",
      "764 -th simulation finished, lapse:  11.15 sec. \n",
      "765 -th simulation finished, lapse:  8.196 sec. \n",
      "766 -th simulation finished, lapse:  7.112 sec. \n",
      "767 -th simulation finished, lapse:  10.82 sec. \n",
      "768 -th simulation finished, lapse:  9.792 sec. \n",
      "769 -th simulation finished, lapse:  10.557 sec. \n",
      "770 -th simulation finished, lapse:  8.959 sec. \n",
      "771 -th simulation finished, lapse:  7.784 sec. \n",
      "772 -th simulation finished, lapse:  10.624 sec. \n",
      "773 -th simulation finished, lapse:  9.604 sec. \n",
      "774 -th simulation finished, lapse:  8.505 sec. \n",
      "775 -th simulation finished, lapse:  8.43 sec. \n",
      "776 -th simulation finished, lapse:  9.277 sec. \n",
      "777 -th simulation finished, lapse:  8.679 sec. \n",
      "778 -th simulation finished, lapse:  11.787 sec. \n",
      "779 -th simulation finished, lapse:  10.101 sec. \n",
      "780 -th simulation finished, lapse:  9.712 sec. \n",
      "781 -th simulation finished, lapse:  7.641 sec. \n",
      "782 -th simulation finished, lapse:  11.084 sec. \n",
      "783 -th simulation finished, lapse:  8.33 sec. \n",
      "784 -th simulation finished, lapse:  13.736 sec. \n",
      "785 -th simulation finished, lapse:  9.673 sec. \n",
      "786 -th simulation finished, lapse:  10.688 sec. \n",
      "787 -th simulation finished, lapse:  9.701 sec. \n",
      "788 -th simulation finished, lapse:  12.506 sec. \n",
      "789 -th simulation finished, lapse:  11.344 sec. \n",
      "790 -th simulation finished, lapse:  9.378 sec. \n",
      "791 -th simulation finished, lapse:  7.885 sec. \n",
      "792 -th simulation finished, lapse:  9.847 sec. \n",
      "793 -th simulation finished, lapse:  14.552 sec. \n",
      "794 -th simulation finished, lapse:  9.272 sec. \n",
      "795 -th simulation finished, lapse:  9.031 sec. \n",
      "796 -th simulation finished, lapse:  10.921 sec. \n",
      "797 -th simulation finished, lapse:  11.546 sec. \n",
      "798 -th simulation finished, lapse:  9.814 sec. \n",
      "799 -th simulation finished, lapse:  9.222 sec. \n",
      "800 -th simulation finished, lapse:  12.566 sec. \n",
      "801 -th simulation finished, lapse:  10.723 sec. \n",
      "802 -th simulation finished, lapse:  10.469 sec. \n",
      "803 -th simulation finished, lapse:  11.405 sec. \n",
      "804 -th simulation finished, lapse:  9.849 sec. \n",
      "805 -th simulation finished, lapse:  10.892 sec. \n",
      "806 -th simulation finished, lapse:  12.966 sec. \n",
      "807 -th simulation finished, lapse:  10.845 sec. \n",
      "808 -th simulation finished, lapse:  8.809 sec. \n",
      "809 -th simulation finished, lapse:  10.871 sec. \n",
      "810 -th simulation finished, lapse:  8.679 sec. \n",
      "811 -th simulation finished, lapse:  10.96 sec. \n",
      "812 -th simulation finished, lapse:  9.688 sec. \n",
      "813 -th simulation finished, lapse:  8.534 sec. \n",
      "814 -th simulation finished, lapse:  11.052 sec. \n",
      "815 -th simulation finished, lapse:  8.642 sec. \n",
      "816 -th simulation finished, lapse:  11.538 sec. \n",
      "817 -th simulation finished, lapse:  10.436 sec. \n",
      "818 -th simulation finished, lapse:  9.902 sec. \n",
      "819 -th simulation finished, lapse:  8.46 sec. \n",
      "820 -th simulation finished, lapse:  11.912 sec. \n",
      "821 -th simulation finished, lapse:  13.253 sec. \n",
      "822 -th simulation finished, lapse:  10.179 sec. \n",
      "823 -th simulation finished, lapse:  8.145 sec. \n",
      "824 -th simulation finished, lapse:  11.564 sec. \n",
      "825 -th simulation finished, lapse:  11.384 sec. \n",
      "826 -th simulation finished, lapse:  8.867 sec. \n",
      "827 -th simulation finished, lapse:  9.395 sec. \n",
      "828 -th simulation finished, lapse:  8.569 sec. \n",
      "829 -th simulation finished, lapse:  9.455 sec. \n",
      "830 -th simulation finished, lapse:  12.58 sec. \n",
      "831 -th simulation finished, lapse:  7.675 sec. \n",
      "832 -th simulation finished, lapse:  8.11 sec. \n",
      "833 -th simulation finished, lapse:  10.163 sec. \n",
      "834 -th simulation finished, lapse:  11.706 sec. \n",
      "835 -th simulation finished, lapse:  11.055 sec. \n",
      "836 -th simulation finished, lapse:  9.066 sec. \n",
      "837 -th simulation finished, lapse:  11.276 sec. \n",
      "838 -th simulation finished, lapse:  7.24 sec. \n",
      "839 -th simulation finished, lapse:  10.312 sec. \n",
      "840 -th simulation finished, lapse:  10.681 sec. \n",
      "841 -th simulation finished, lapse:  10.281 sec. \n",
      "842 -th simulation finished, lapse:  11.486 sec. \n",
      "843 -th simulation finished, lapse:  7.909 sec. \n",
      "844 -th simulation finished, lapse:  9.371 sec. \n",
      "845 -th simulation finished, lapse:  9.979 sec. \n"
     ]
    },
    {
     "name": "stdout",
     "output_type": "stream",
     "text": [
      "846 -th simulation finished, lapse:  13.725 sec. \n",
      "847 -th simulation finished, lapse:  11.383 sec. \n",
      "848 -th simulation finished, lapse:  10.429 sec. \n",
      "849 -th simulation finished, lapse:  9.796 sec. \n",
      "850 -th simulation finished, lapse:  11.801 sec. \n",
      "851 -th simulation finished, lapse:  11.63 sec. \n",
      "852 -th simulation finished, lapse:  11.941 sec. \n",
      "853 -th simulation finished, lapse:  9.988 sec. \n",
      "854 -th simulation finished, lapse:  7.598 sec. \n",
      "855 -th simulation finished, lapse:  9.568 sec. \n",
      "856 -th simulation finished, lapse:  9.85 sec. \n",
      "857 -th simulation finished, lapse:  8.974 sec. \n",
      "858 -th simulation finished, lapse:  5.664 sec. \n",
      "859 -th simulation finished, lapse:  8.088 sec. \n",
      "860 -th simulation finished, lapse:  11.135 sec. \n",
      "861 -th simulation finished, lapse:  13.906 sec. \n",
      "862 -th simulation finished, lapse:  10.515 sec. \n",
      "863 -th simulation finished, lapse:  6.776 sec. \n",
      "864 -th simulation finished, lapse:  9.103 sec. \n",
      "865 -th simulation finished, lapse:  12.533 sec. \n",
      "866 -th simulation finished, lapse:  7.023 sec. \n",
      "867 -th simulation finished, lapse:  10.355 sec. \n",
      "868 -th simulation finished, lapse:  9.703 sec. \n",
      "869 -th simulation finished, lapse:  9.472 sec. \n",
      "870 -th simulation finished, lapse:  11.695 sec. \n",
      "871 -th simulation finished, lapse:  10.955 sec. \n",
      "872 -th simulation finished, lapse:  8.374 sec. \n",
      "873 -th simulation finished, lapse:  12.701 sec. \n",
      "874 -th simulation finished, lapse:  10.656 sec. \n",
      "875 -th simulation finished, lapse:  8.049 sec. \n",
      "876 -th simulation finished, lapse:  12.133 sec. \n",
      "877 -th simulation finished, lapse:  12.343 sec. \n",
      "878 -th simulation finished, lapse:  9.129 sec. \n",
      "879 -th simulation finished, lapse:  8.629 sec. \n",
      "880 -th simulation finished, lapse:  8.587 sec. \n",
      "881 -th simulation finished, lapse:  14.311 sec. \n",
      "882 -th simulation finished, lapse:  9.76 sec. \n",
      "883 -th simulation finished, lapse:  10.293 sec. \n",
      "884 -th simulation finished, lapse:  9.358 sec. \n",
      "885 -th simulation finished, lapse:  11.354 sec. \n",
      "886 -th simulation finished, lapse:  10.359 sec. \n",
      "887 -th simulation finished, lapse:  9.02 sec. \n",
      "888 -th simulation finished, lapse:  9.349 sec. \n",
      "889 -th simulation finished, lapse:  9.553 sec. \n",
      "890 -th simulation finished, lapse:  6.181 sec. \n",
      "891 -th simulation finished, lapse:  10.869 sec. \n",
      "892 -th simulation finished, lapse:  10.182 sec. \n",
      "893 -th simulation finished, lapse:  10.072 sec. \n",
      "894 -th simulation finished, lapse:  9.73 sec. \n",
      "895 -th simulation finished, lapse:  8.183 sec. \n",
      "896 -th simulation finished, lapse:  8.899 sec. \n",
      "897 -th simulation finished, lapse:  9.997 sec. \n",
      "898 -th simulation finished, lapse:  8.987 sec. \n",
      "899 -th simulation finished, lapse:  8.154 sec. \n",
      "900 -th simulation finished, lapse:  9.079 sec. \n",
      "901 -th simulation finished, lapse:  9.775 sec. \n",
      "902 -th simulation finished, lapse:  12.015 sec. \n",
      "903 -th simulation finished, lapse:  11.399 sec. \n",
      "904 -th simulation finished, lapse:  9.606 sec. \n",
      "905 -th simulation finished, lapse:  9.451 sec. \n",
      "906 -th simulation finished, lapse:  12.78 sec. \n",
      "907 -th simulation finished, lapse:  6.055 sec. \n",
      "908 -th simulation finished, lapse:  8.513 sec. \n",
      "909 -th simulation finished, lapse:  9.597 sec. \n",
      "910 -th simulation finished, lapse:  11.1 sec. \n",
      "911 -th simulation finished, lapse:  9.842 sec. \n",
      "912 -th simulation finished, lapse:  9.862 sec. \n",
      "913 -th simulation finished, lapse:  11.695 sec. \n",
      "914 -th simulation finished, lapse:  9.66 sec. \n",
      "915 -th simulation finished, lapse:  9.443 sec. \n",
      "916 -th simulation finished, lapse:  9.197 sec. \n",
      "917 -th simulation finished, lapse:  8.186 sec. \n",
      "918 -th simulation finished, lapse:  9.873 sec. \n",
      "919 -th simulation finished, lapse:  9.097 sec. \n",
      "920 -th simulation finished, lapse:  8.731 sec. \n",
      "921 -th simulation finished, lapse:  12.591 sec. \n",
      "922 -th simulation finished, lapse:  7.763 sec. \n",
      "923 -th simulation finished, lapse:  9.369 sec. \n",
      "924 -th simulation finished, lapse:  8.885 sec. \n",
      "925 -th simulation finished, lapse:  8.795 sec. \n",
      "926 -th simulation finished, lapse:  11.725 sec. \n",
      "927 -th simulation finished, lapse:  11.671 sec. \n",
      "928 -th simulation finished, lapse:  7.399 sec. \n",
      "929 -th simulation finished, lapse:  11.728 sec. \n",
      "930 -th simulation finished, lapse:  12.181 sec. \n",
      "931 -th simulation finished, lapse:  11.053 sec. \n",
      "932 -th simulation finished, lapse:  9.707 sec. \n",
      "933 -th simulation finished, lapse:  10.201 sec. \n",
      "934 -th simulation finished, lapse:  10.067 sec. \n",
      "935 -th simulation finished, lapse:  10.599 sec. \n",
      "936 -th simulation finished, lapse:  11.552 sec. \n",
      "937 -th simulation finished, lapse:  8.325 sec. \n",
      "938 -th simulation finished, lapse:  9.755 sec. \n",
      "939 -th simulation finished, lapse:  10.894 sec. \n",
      "940 -th simulation finished, lapse:  9.563 sec. \n",
      "941 -th simulation finished, lapse:  13.012 sec. \n",
      "942 -th simulation finished, lapse:  8.877 sec. \n",
      "943 -th simulation finished, lapse:  11.476 sec. \n",
      "944 -th simulation finished, lapse:  9.11 sec. \n",
      "945 -th simulation finished, lapse:  9.059 sec. \n",
      "946 -th simulation finished, lapse:  9.454 sec. \n",
      "947 -th simulation finished, lapse:  10.184 sec. \n",
      "948 -th simulation finished, lapse:  10.438 sec. \n",
      "949 -th simulation finished, lapse:  7.607 sec. \n",
      "950 -th simulation finished, lapse:  9.491 sec. \n",
      "951 -th simulation finished, lapse:  8.251 sec. \n",
      "952 -th simulation finished, lapse:  12.201 sec. \n",
      "953 -th simulation finished, lapse:  10.232 sec. \n",
      "954 -th simulation finished, lapse:  11.56 sec. \n",
      "955 -th simulation finished, lapse:  8.997 sec. \n",
      "956 -th simulation finished, lapse:  9.179 sec. \n",
      "957 -th simulation finished, lapse:  8.997 sec. \n",
      "958 -th simulation finished, lapse:  10.216 sec. \n",
      "959 -th simulation finished, lapse:  11.091 sec. \n",
      "960 -th simulation finished, lapse:  9.809 sec. \n",
      "961 -th simulation finished, lapse:  7.526 sec. \n",
      "962 -th simulation finished, lapse:  9.642 sec. \n",
      "963 -th simulation finished, lapse:  9.222 sec. \n",
      "964 -th simulation finished, lapse:  8.379 sec. \n",
      "965 -th simulation finished, lapse:  10.771 sec. \n",
      "966 -th simulation finished, lapse:  12.452 sec. \n",
      "967 -th simulation finished, lapse:  11.854 sec. \n",
      "968 -th simulation finished, lapse:  10.039 sec. \n",
      "969 -th simulation finished, lapse:  11.758 sec. \n",
      "970 -th simulation finished, lapse:  8.915 sec. \n",
      "971 -th simulation finished, lapse:  8.832 sec. \n",
      "972 -th simulation finished, lapse:  8.896 sec. \n",
      "973 -th simulation finished, lapse:  7.064 sec. \n",
      "974 -th simulation finished, lapse:  9.608 sec. \n",
      "975 -th simulation finished, lapse:  10.309 sec. \n",
      "976 -th simulation finished, lapse:  10.097 sec. \n",
      "977 -th simulation finished, lapse:  10.682 sec. \n",
      "978 -th simulation finished, lapse:  6.005 sec. \n",
      "979 -th simulation finished, lapse:  6.873 sec. \n",
      "980 -th simulation finished, lapse:  11.249 sec. \n",
      "981 -th simulation finished, lapse:  10.414 sec. \n",
      "982 -th simulation finished, lapse:  8.224 sec. \n",
      "983 -th simulation finished, lapse:  8.81 sec. \n",
      "984 -th simulation finished, lapse:  9.342 sec. \n",
      "985 -th simulation finished, lapse:  8.048 sec. \n",
      "986 -th simulation finished, lapse:  9.386 sec. \n",
      "987 -th simulation finished, lapse:  10.252 sec. \n",
      "988 -th simulation finished, lapse:  9.236 sec. \n",
      "989 -th simulation finished, lapse:  8.794 sec. \n",
      "990 -th simulation finished, lapse:  8.969 sec. \n",
      "991 -th simulation finished, lapse:  10.528 sec. \n",
      "992 -th simulation finished, lapse:  9.981 sec. \n",
      "993 -th simulation finished, lapse:  10.839 sec. \n",
      "994 -th simulation finished, lapse:  11.404 sec. \n",
      "995 -th simulation finished, lapse:  8.562 sec. \n",
      "996 -th simulation finished, lapse:  12.415 sec. \n",
      "997 -th simulation finished, lapse:  5.52 sec. \n",
      "998 -th simulation finished, lapse:  4.891 sec. \n",
      "999 -th simulation finished, lapse:  6.099 sec. \n",
      "1000 -th simulation finished, lapse:  4.705 sec. \n"
     ]
    }
   ],
   "source": [
    "for( i.sim in 1:num.sim ){\n",
    "    time.sim = proc.time()\n",
    "    \n",
    "    data = lapply(1:m, function(l){\n",
    "        n_l = n #floor(runif(1, n, 2*n))\n",
    "        return(array(apply(array(rnorm(p*q*n_l), c(p,q,n_l)), 3, function(x){\n",
    "            sqrtm(Sigma.T[[l]]) %*% x %*% sqrtm(Sigma.S[[l]])\n",
    "        }), c(p,q,n_l)))\n",
    "    })    \n",
    "    \n",
    "    est.T = est.temporal(data, order.T=5)\n",
    "    est.S = est.spatial(data, lambdas=1e-4)\n",
    "    inf.S = inf.single.edge(est.S$W.hat.S, est.T$S.hat.T, ns)\n",
    "    T.hat.sim[,,i.sim] = inf.S$T.hat\n",
    "    \n",
    "    cat(i.sim,'-th simulation finished, lapse: ',(proc.time()-time.sim)[3],'sec. \\n') \n",
    "    flush.console()\n",
    "}"
   ]
  },
  {
   "cell_type": "markdown",
   "metadata": {},
   "source": [
    "## empirical distribution of simulated test statistics"
   ]
  },
  {
   "cell_type": "code",
   "execution_count": 38,
   "metadata": {},
   "outputs": [],
   "source": [
    "T.hat.E.off = apply(T.hat.sim, 3, function(T.hat){ T.hat[E.mat.off] })\n",
    "l.inf.T.off = apply(T.hat.E.off, 2, function(T.hat){ max(abs(T.hat)) })"
   ]
  },
  {
   "cell_type": "code",
   "execution_count": 39,
   "metadata": {},
   "outputs": [],
   "source": [
    "l.inf.dT.off = apply(T.hat.E.off - T.S[E.mat.off],\n",
    "                     2, function(T.hat){ max(abs(T.hat)) })"
   ]
  },
  {
   "cell_type": "code",
   "execution_count": 40,
   "metadata": {},
   "outputs": [
    {
     "data": {
      "image/png": "[encoded data removed]",
      "text/plain": [
       "Plot with title “Histogram of l.inf.T.off”"
      ]
     },
     "metadata": {},
     "output_type": "display_data"
    }
   ],
   "source": [
    "hist(l.inf.T.off)"
   ]
  },
  {
   "cell_type": "code",
   "execution_count": 41,
   "metadata": {},
   "outputs": [],
   "source": [
    "T.hat.E.zero = apply(T.hat.sim, 3, function(T.hat){ T.hat[E.mat.zero] })\n",
    "l.inf.T.zero = apply(T.hat.E.zero, 2, function(T.hat){ max(abs(T.hat)) })"
   ]
  },
  {
   "cell_type": "code",
   "execution_count": 42,
   "metadata": {},
   "outputs": [
    {
     "data": {
      "image/png": "[encoded data removed]",
      "text/plain": [
       "Plot with title “Histogram of l.inf.T.zero”"
      ]
     },
     "metadata": {},
     "output_type": "display_data"
    }
   ],
   "source": [
    "hist(l.inf.T.zero)"
   ]
  },
  {
   "cell_type": "markdown",
   "metadata": {},
   "source": [
    "## comparison between simulation and bootstrap distributions"
   ]
  },
  {
   "cell_type": "code",
   "execution_count": 43,
   "metadata": {},
   "outputs": [
    {
     "data": {
      "image/png": "[encoded data removed]",
      "text/plain": [
       "Plot with title “simulation and bootstrap distributions”"
      ]
     },
     "metadata": {},
     "output_type": "display_data"
    }
   ],
   "source": [
    "plot(density(inf.S.multi.off$l.inf.Z), col='black',\n",
    "     main = 'simulation and bootstrap distributions',\n",
    "     xlab = expression(l[infinity]))\n",
    "lines(density(l.inf.dT.off), col='red')\n",
    "legend('topright',\n",
    "       legend=c('simulation','bootstrap'), \n",
    "       col=c('red','black'), lty=c(1,1))"
   ]
  },
  {
   "cell_type": "code",
   "execution_count": 44,
   "metadata": {},
   "outputs": [
    {
     "data": {
      "image/png": "[encoded data removed]",
      "text/plain": [
       "plot without title"
      ]
     },
     "metadata": {},
     "output_type": "display_data"
    }
   ],
   "source": [
    "qqplot(l.inf.dT.off, inf.S.multi.off$l.inf.Z,\n",
    "       xlab=expression(l[infinity](Delta~T[E[zero]])),\n",
    "       ylab=expression(l[infinity](zeta)))\n",
    "lines(l.inf.dT.off, l.inf.dT.off, col='red')"
   ]
  },
  {
   "cell_type": "code",
   "execution_count": 45,
   "metadata": {},
   "outputs": [
    {
     "data": {
      "image/png": "[encoded data removed]",
      "text/plain": [
       "Plot with title “simulation and bootstrap distributions”"
      ]
     },
     "metadata": {},
     "output_type": "display_data"
    }
   ],
   "source": [
    "plot(density(inf.S.multi.zero$l.inf.Z), col='black',\n",
    "     main = 'simulation and bootstrap distributions',\n",
    "     xlab = expression(l[infinity]))\n",
    "lines(density(l.inf.T.zero), col='red')\n",
    "legend('topright',\n",
    "       legend=c('simulation','bootstrap'), \n",
    "       col=c('red','black'), lty=c(1,1))"
   ]
  },
  {
   "cell_type": "code",
   "execution_count": 46,
   "metadata": {},
   "outputs": [
    {
     "data": {
      "image/png": "[encoded data removed]",
      "text/plain": [
       "plot without title"
      ]
     },
     "metadata": {},
     "output_type": "display_data"
    }
   ],
   "source": [
    "qqplot(l.inf.T.zero, inf.S.multi.zero$l.inf.Z,\n",
    "       xlab=expression(l[infinity](T[E[zero]])),\n",
    "       ylab=expression(l[infinity](zeta)))\n",
    "lines(l.inf.T.zero, l.inf.T.zero, col='red')"
   ]
  },
  {
   "cell_type": "code",
   "execution_count": 47,
   "metadata": {},
   "outputs": [],
   "source": [
    "# save(Adj.S, Omega.S, Sigma.S, Omega.T, Sigma.T, \n",
    "#      inf.S.multi.off, inf.S.multi.zero, \n",
    "#      T.hat.sim, file='sim_hub_multi.Rdata')"
   ]
  },
  {
   "cell_type": "markdown",
   "metadata": {},
   "source": [
    "# 7. Coverage study"
   ]
  },
  {
   "cell_type": "code",
   "execution_count": 48,
   "metadata": {},
   "outputs": [],
   "source": [
    "num.msim = 100"
   ]
  },
  {
   "cell_type": "markdown",
   "metadata": {},
   "source": [
    "## $E_\\text{off}$"
   ]
  },
  {
   "cell_type": "code",
   "execution_count": 49,
   "metadata": {},
   "outputs": [],
   "source": [
    "T.hat.E.sim = array(0, c(num.E.off,num.msim))\n",
    "l.inf.Z.sim = array(0, c(num.bst,num.msim))\n",
    "p.value.sim = rep(0, num.msim)"
   ]
  },
  {
   "cell_type": "code",
   "execution_count": 50,
   "metadata": {
    "scrolled": true
   },
   "outputs": [
    {
     "name": "stdout",
     "output_type": "stream",
     "text": [
      "1 -th simulation finished, lapse:  18.88 sec. \n",
      "2 -th simulation finished, lapse:  20.886 sec. \n",
      "3 -th simulation finished, lapse:  20.579 sec. \n",
      "4 -th simulation finished, lapse:  20.942 sec. \n",
      "5 -th simulation finished, lapse:  19.769 sec. \n",
      "6 -th simulation finished, lapse:  20.031 sec. \n",
      "7 -th simulation finished, lapse:  20.709 sec. \n",
      "8 -th simulation finished, lapse:  20.124 sec. \n",
      "9 -th simulation finished, lapse:  19.935 sec. \n",
      "10 -th simulation finished, lapse:  20.21 sec. \n",
      "11 -th simulation finished, lapse:  19.924 sec. \n",
      "12 -th simulation finished, lapse:  20.56 sec. \n",
      "13 -th simulation finished, lapse:  20.103 sec. \n",
      "14 -th simulation finished, lapse:  19.386 sec. \n",
      "15 -th simulation finished, lapse:  19.265 sec. \n",
      "16 -th simulation finished, lapse:  19.956 sec. \n",
      "17 -th simulation finished, lapse:  18.936 sec. \n",
      "18 -th simulation finished, lapse:  19.395 sec. \n",
      "19 -th simulation finished, lapse:  19.577 sec. \n",
      "20 -th simulation finished, lapse:  18.997 sec. \n",
      "21 -th simulation finished, lapse:  18.912 sec. \n",
      "22 -th simulation finished, lapse:  19.485 sec. \n",
      "23 -th simulation finished, lapse:  19.262 sec. \n",
      "24 -th simulation finished, lapse:  19.4 sec. \n",
      "25 -th simulation finished, lapse:  19.862 sec. \n",
      "26 -th simulation finished, lapse:  18.94 sec. \n",
      "27 -th simulation finished, lapse:  19.198 sec. \n",
      "28 -th simulation finished, lapse:  19.8 sec. \n",
      "29 -th simulation finished, lapse:  19.19 sec. \n",
      "30 -th simulation finished, lapse:  19.053 sec. \n",
      "31 -th simulation finished, lapse:  19.718 sec. \n",
      "32 -th simulation finished, lapse:  19.035 sec. \n",
      "33 -th simulation finished, lapse:  18.913 sec. \n",
      "34 -th simulation finished, lapse:  19.417 sec. \n",
      "35 -th simulation finished, lapse:  18.839 sec. \n",
      "36 -th simulation finished, lapse:  19.238 sec. \n",
      "37 -th simulation finished, lapse:  19.811 sec. \n",
      "38 -th simulation finished, lapse:  19.073 sec. \n",
      "39 -th simulation finished, lapse:  18.915 sec. \n",
      "40 -th simulation finished, lapse:  19.505 sec. \n",
      "41 -th simulation finished, lapse:  19.103 sec. \n",
      "42 -th simulation finished, lapse:  19.419 sec. \n",
      "43 -th simulation finished, lapse:  19.543 sec. \n",
      "44 -th simulation finished, lapse:  19.166 sec. \n",
      "45 -th simulation finished, lapse:  19.024 sec. \n",
      "46 -th simulation finished, lapse:  19.788 sec. \n",
      "47 -th simulation finished, lapse:  18.896 sec. \n",
      "48 -th simulation finished, lapse:  19.239 sec. \n",
      "49 -th simulation finished, lapse:  19.635 sec. \n",
      "50 -th simulation finished, lapse:  19.07 sec. \n",
      "51 -th simulation finished, lapse:  18.938 sec. \n",
      "52 -th simulation finished, lapse:  19.507 sec. \n",
      "53 -th simulation finished, lapse:  19.499 sec. \n",
      "54 -th simulation finished, lapse:  19.443 sec. \n",
      "55 -th simulation finished, lapse:  19.332 sec. \n",
      "56 -th simulation finished, lapse:  19.112 sec. \n",
      "57 -th simulation finished, lapse:  19.889 sec. \n",
      "58 -th simulation finished, lapse:  21.764 sec. \n",
      "59 -th simulation finished, lapse:  19.604 sec. \n",
      "60 -th simulation finished, lapse:  20.206 sec. \n",
      "61 -th simulation finished, lapse:  20.069 sec. \n",
      "62 -th simulation finished, lapse:  20.956 sec. \n",
      "63 -th simulation finished, lapse:  20.513 sec. \n",
      "64 -th simulation finished, lapse:  20.916 sec. \n",
      "65 -th simulation finished, lapse:  20.951 sec. \n",
      "66 -th simulation finished, lapse:  20.884 sec. \n",
      "67 -th simulation finished, lapse:  19.922 sec. \n",
      "68 -th simulation finished, lapse:  19.382 sec. \n",
      "69 -th simulation finished, lapse:  19.334 sec. \n",
      "70 -th simulation finished, lapse:  19.627 sec. \n",
      "71 -th simulation finished, lapse:  19.221 sec. \n",
      "72 -th simulation finished, lapse:  19.084 sec. \n",
      "73 -th simulation finished, lapse:  19.667 sec. \n",
      "74 -th simulation finished, lapse:  19.386 sec. \n",
      "75 -th simulation finished, lapse:  18.899 sec. \n",
      "76 -th simulation finished, lapse:  19.549 sec. \n",
      "77 -th simulation finished, lapse:  18.898 sec. \n",
      "78 -th simulation finished, lapse:  19.401 sec. \n",
      "79 -th simulation finished, lapse:  19.609 sec. \n",
      "80 -th simulation finished, lapse:  19.182 sec. \n",
      "81 -th simulation finished, lapse:  19.223 sec. \n",
      "82 -th simulation finished, lapse:  19.484 sec. \n",
      "83 -th simulation finished, lapse:  18.934 sec. \n",
      "84 -th simulation finished, lapse:  19.014 sec. \n",
      "85 -th simulation finished, lapse:  19.297 sec. \n",
      "86 -th simulation finished, lapse:  19.135 sec. \n",
      "87 -th simulation finished, lapse:  19.283 sec. \n",
      "88 -th simulation finished, lapse:  19.752 sec. \n",
      "89 -th simulation finished, lapse:  19.008 sec. \n",
      "90 -th simulation finished, lapse:  19.043 sec. \n",
      "91 -th simulation finished, lapse:  19.696 sec. \n",
      "92 -th simulation finished, lapse:  19.059 sec. \n",
      "93 -th simulation finished, lapse:  19.128 sec. \n",
      "94 -th simulation finished, lapse:  19.604 sec. \n",
      "95 -th simulation finished, lapse:  19.319 sec. \n",
      "96 -th simulation finished, lapse:  19.512 sec. \n",
      "97 -th simulation finished, lapse:  19.558 sec. \n",
      "98 -th simulation finished, lapse:  19.326 sec. \n",
      "99 -th simulation finished, lapse:  19.063 sec. \n",
      "100 -th simulation finished, lapse:  19.567 sec. \n"
     ]
    }
   ],
   "source": [
    "for( i.sim in 1:num.msim ){\n",
    "    time.sim = proc.time()\n",
    "    \n",
    "    data = lapply(1:m, function(l){\n",
    "        n_l = n #floor(runif(1, n, 2*n))\n",
    "        return(array(apply(array(rnorm(p*q*n_l), c(p,q,n_l)), 3, function(x){\n",
    "            sqrtm(Sigma.T[[l]]) %*% x %*% sqrtm(Sigma.S[[l]])\n",
    "        }), c(p,q,n_l)))\n",
    "    })    \n",
    "    \n",
    "    est.T = est.temporal(data, order.T=5)\n",
    "    est.S = est.spatial(data, lambdas=1e-4)\n",
    "    inf.S = inf.multiple.edge(est.S$W.hat.S, est.T$S.hat.T, ns,\n",
    "                              E.mat=E.mat.off, num.bst=num.bst)\n",
    "    \n",
    "    T.hat.E.sim[,i.sim] = inf.S$T.hat.E\n",
    "    l.inf.Z.sim[,i.sim] = inf.S$l.inf.Z\n",
    "    p.value.sim[i.sim] = inf.S$p.value\n",
    "    \n",
    "    cat(i.sim,'-th simulation finished, lapse: ',(proc.time()-time.sim)[3],'sec. \\n') \n",
    "    flush.console()\n",
    "}"
   ]
  },
  {
   "cell_type": "code",
   "execution_count": 52,
   "metadata": {},
   "outputs": [],
   "source": [
    "# l.inf.dT.sim = apply(T.hat.E.sim - T.S[E.mat.off],\n",
    "#                      2, function(T.hat){ max(abs(T.hat)) })"
   ]
  },
  {
   "cell_type": "code",
   "execution_count": 51,
   "metadata": {},
   "outputs": [],
   "source": [
    "q.Z.sim = apply(l.inf.Z.sim, 2, function(l){\n",
    "    quantile(l, c(0.925, 0.95, 0.975))\n",
    "})"
   ]
  },
  {
   "cell_type": "code",
   "execution_count": 52,
   "metadata": {},
   "outputs": [],
   "source": [
    "q.dT.sim = apply(q.Z.sim, 2, function(q){\n",
    "    sapply(q, function(x){ mean(l.inf.dT.off < x) })\n",
    "})"
   ]
  },
  {
   "cell_type": "code",
   "execution_count": 53,
   "metadata": {},
   "outputs": [
    {
     "data": {
      "text/html": [
       "<dl class=dl-horizontal>\n",
       "\t<dt>92.5%</dt>\n",
       "\t\t<dd>0.93758</dd>\n",
       "\t<dt>95%</dt>\n",
       "\t\t<dd>0.9569</dd>\n",
       "\t<dt>97.5%</dt>\n",
       "\t\t<dd>0.97746</dd>\n",
       "</dl>\n"
      ],
      "text/latex": [
       "\\begin{description*}\n",
       "\\item[92.5\\textbackslash{}\\%] 0.93758\n",
       "\\item[95\\textbackslash{}\\%] 0.9569\n",
       "\\item[97.5\\textbackslash{}\\%] 0.97746\n",
       "\\end{description*}\n"
      ],
      "text/markdown": [
       "92.5%\n",
       ":   0.9375895%\n",
       ":   0.956997.5%\n",
       ":   0.97746\n",
       "\n"
      ],
      "text/plain": [
       "  92.5%     95%   97.5% \n",
       "0.93758 0.95690 0.97746 "
      ]
     },
     "metadata": {},
     "output_type": "display_data"
    }
   ],
   "source": [
    "apply(q.dT.sim, 1, mean)"
   ]
  },
  {
   "cell_type": "code",
   "execution_count": 54,
   "metadata": {},
   "outputs": [
    {
     "data": {
      "text/html": [
       "<dl class=dl-horizontal>\n",
       "\t<dt>92.5%</dt>\n",
       "\t\t<dd>0.00433258734837658</dd>\n",
       "\t<dt>95%</dt>\n",
       "\t\t<dd>0.0037403073389628</dd>\n",
       "\t<dt>97.5%</dt>\n",
       "\t\t<dd>0.00357154862713076</dd>\n",
       "</dl>\n"
      ],
      "text/latex": [
       "\\begin{description*}\n",
       "\\item[92.5\\textbackslash{}\\%] 0.00433258734837658\n",
       "\\item[95\\textbackslash{}\\%] 0.0037403073389628\n",
       "\\item[97.5\\textbackslash{}\\%] 0.00357154862713076\n",
       "\\end{description*}\n"
      ],
      "text/markdown": [
       "92.5%\n",
       ":   0.0043325873483765895%\n",
       ":   0.003740307338962897.5%\n",
       ":   0.00357154862713076\n",
       "\n"
      ],
      "text/plain": [
       "      92.5%         95%       97.5% \n",
       "0.004332587 0.003740307 0.003571549 "
      ]
     },
     "metadata": {},
     "output_type": "display_data"
    }
   ],
   "source": [
    "apply(q.dT.sim, 1, sd)"
   ]
  },
  {
   "cell_type": "code",
   "execution_count": 56,
   "metadata": {},
   "outputs": [],
   "source": [
    "# save(Adj.S, Omega.S, Sigma.S, Omega.T, Sigma.T, \n",
    "#      E.mat.off, l.inf.dT.off, l.inf.Z.sim, p.value.sim,\n",
    "#      file='sim_hub_multi_off.Rdata')"
   ]
  },
  {
   "cell_type": "markdown",
   "metadata": {},
   "source": [
    "## $E_\\text{zero}$"
   ]
  },
  {
   "cell_type": "code",
   "execution_count": 57,
   "metadata": {},
   "outputs": [],
   "source": [
    "T.hat.E.sim = array(0, c(num.E.zero,num.msim))\n",
    "l.inf.Z.sim = array(0, c(num.bst,num.msim))\n",
    "p.value.sim = rep(0, num.msim)"
   ]
  },
  {
   "cell_type": "code",
   "execution_count": 58,
   "metadata": {
    "scrolled": true
   },
   "outputs": [
    {
     "name": "stdout",
     "output_type": "stream",
     "text": [
      "1 -th simulation finished, lapse:  18.048 sec. \n",
      "2 -th simulation finished, lapse:  21.449 sec. \n",
      "3 -th simulation finished, lapse:  19.118 sec. \n",
      "4 -th simulation finished, lapse:  20.927 sec. \n",
      "5 -th simulation finished, lapse:  22.134 sec. \n",
      "6 -th simulation finished, lapse:  19.36 sec. \n",
      "7 -th simulation finished, lapse:  21.542 sec. \n",
      "8 -th simulation finished, lapse:  21.541 sec. \n",
      "9 -th simulation finished, lapse:  20.429 sec. \n",
      "10 -th simulation finished, lapse:  24.041 sec. \n",
      "11 -th simulation finished, lapse:  20.332 sec. \n",
      "12 -th simulation finished, lapse:  22.072 sec. \n",
      "13 -th simulation finished, lapse:  20.983 sec. \n",
      "14 -th simulation finished, lapse:  18.966 sec. \n",
      "15 -th simulation finished, lapse:  20.629 sec. \n",
      "16 -th simulation finished, lapse:  19.402 sec. \n",
      "17 -th simulation finished, lapse:  19.331 sec. \n",
      "18 -th simulation finished, lapse:  18.459 sec. \n",
      "19 -th simulation finished, lapse:  21.002 sec. \n",
      "20 -th simulation finished, lapse:  18.019 sec. \n",
      "21 -th simulation finished, lapse:  22.807 sec. \n",
      "22 -th simulation finished, lapse:  19.811 sec. \n",
      "23 -th simulation finished, lapse:  21.274 sec. \n",
      "24 -th simulation finished, lapse:  19.33 sec. \n",
      "25 -th simulation finished, lapse:  21.539 sec. \n",
      "26 -th simulation finished, lapse:  21.295 sec. \n",
      "27 -th simulation finished, lapse:  19.808 sec. \n",
      "28 -th simulation finished, lapse:  22.368 sec. \n",
      "29 -th simulation finished, lapse:  19.247 sec. \n",
      "30 -th simulation finished, lapse:  19.989 sec. \n",
      "31 -th simulation finished, lapse:  19.447 sec. \n",
      "32 -th simulation finished, lapse:  19.481 sec. \n",
      "33 -th simulation finished, lapse:  18.071 sec. \n",
      "34 -th simulation finished, lapse:  20.86 sec. \n",
      "35 -th simulation finished, lapse:  19.665 sec. \n",
      "36 -th simulation finished, lapse:  19.819 sec. \n",
      "37 -th simulation finished, lapse:  20.48 sec. \n",
      "38 -th simulation finished, lapse:  21.8 sec. \n",
      "39 -th simulation finished, lapse:  19.109 sec. \n",
      "40 -th simulation finished, lapse:  19.839 sec. \n",
      "41 -th simulation finished, lapse:  18.901 sec. \n",
      "42 -th simulation finished, lapse:  20.909 sec. \n",
      "43 -th simulation finished, lapse:  18.962 sec. \n",
      "44 -th simulation finished, lapse:  21.016 sec. \n",
      "45 -th simulation finished, lapse:  19.467 sec. \n",
      "46 -th simulation finished, lapse:  20.195 sec. \n",
      "47 -th simulation finished, lapse:  18.241 sec. \n",
      "48 -th simulation finished, lapse:  20.674 sec. \n",
      "49 -th simulation finished, lapse:  21.608 sec. \n",
      "50 -th simulation finished, lapse:  20.933 sec. \n",
      "51 -th simulation finished, lapse:  21.85 sec. \n",
      "52 -th simulation finished, lapse:  19.075 sec. \n",
      "53 -th simulation finished, lapse:  20.467 sec. \n",
      "54 -th simulation finished, lapse:  18.412 sec. \n",
      "55 -th simulation finished, lapse:  20.461 sec. \n",
      "56 -th simulation finished, lapse:  18.476 sec. \n",
      "57 -th simulation finished, lapse:  20.999 sec. \n",
      "58 -th simulation finished, lapse:  18.465 sec. \n",
      "59 -th simulation finished, lapse:  20.54 sec. \n",
      "60 -th simulation finished, lapse:  19.426 sec. \n",
      "61 -th simulation finished, lapse:  21.186 sec. \n",
      "62 -th simulation finished, lapse:  18.853 sec. \n",
      "63 -th simulation finished, lapse:  21.187 sec. \n",
      "64 -th simulation finished, lapse:  19.967 sec. \n",
      "65 -th simulation finished, lapse:  19.694 sec. \n",
      "66 -th simulation finished, lapse:  18.987 sec. \n",
      "67 -th simulation finished, lapse:  19.487 sec. \n",
      "68 -th simulation finished, lapse:  18.141 sec. \n",
      "69 -th simulation finished, lapse:  19.542 sec. \n",
      "70 -th simulation finished, lapse:  19.937 sec. \n",
      "71 -th simulation finished, lapse:  21.911 sec. \n",
      "72 -th simulation finished, lapse:  18.751 sec. \n",
      "73 -th simulation finished, lapse:  22.067 sec. \n",
      "74 -th simulation finished, lapse:  19.841 sec. \n",
      "75 -th simulation finished, lapse:  18.864 sec. \n",
      "76 -th simulation finished, lapse:  18.534 sec. \n",
      "77 -th simulation finished, lapse:  20.917 sec. \n",
      "78 -th simulation finished, lapse:  18.216 sec. \n",
      "79 -th simulation finished, lapse:  20.594 sec. \n",
      "80 -th simulation finished, lapse:  18.227 sec. \n",
      "81 -th simulation finished, lapse:  20.356 sec. \n",
      "82 -th simulation finished, lapse:  21.981 sec. \n",
      "83 -th simulation finished, lapse:  20.298 sec. \n",
      "84 -th simulation finished, lapse:  19.773 sec. \n",
      "85 -th simulation finished, lapse:  19.79 sec. \n",
      "86 -th simulation finished, lapse:  19.1 sec. \n",
      "87 -th simulation finished, lapse:  19.995 sec. \n",
      "88 -th simulation finished, lapse:  18.655 sec. \n",
      "89 -th simulation finished, lapse:  19.31 sec. \n",
      "90 -th simulation finished, lapse:  19.663 sec. \n",
      "91 -th simulation finished, lapse:  19.657 sec. \n",
      "92 -th simulation finished, lapse:  21.469 sec. \n",
      "93 -th simulation finished, lapse:  21.605 sec. \n",
      "94 -th simulation finished, lapse:  19.586 sec. \n",
      "95 -th simulation finished, lapse:  21.292 sec. \n",
      "96 -th simulation finished, lapse:  20.975 sec. \n",
      "97 -th simulation finished, lapse:  19.88 sec. \n",
      "98 -th simulation finished, lapse:  19.999 sec. \n",
      "99 -th simulation finished, lapse:  20.08 sec. \n",
      "100 -th simulation finished, lapse:  19.874 sec. \n",
      "101 -th simulation finished, lapse:  19.678 sec. \n",
      "102 -th simulation finished, lapse:  19.216 sec. \n",
      "103 -th simulation finished, lapse:  19.488 sec. \n",
      "104 -th simulation finished, lapse:  18.739 sec. \n",
      "105 -th simulation finished, lapse:  22.163 sec. \n",
      "106 -th simulation finished, lapse:  22.558 sec. \n",
      "107 -th simulation finished, lapse:  20.494 sec. \n",
      "108 -th simulation finished, lapse:  18.662 sec. \n",
      "109 -th simulation finished, lapse:  20.282 sec. \n",
      "110 -th simulation finished, lapse:  18.387 sec. \n",
      "111 -th simulation finished, lapse:  18.264 sec. \n",
      "112 -th simulation finished, lapse:  17.242 sec. \n",
      "113 -th simulation finished, lapse:  17.806 sec. \n",
      "114 -th simulation finished, lapse:  17.182 sec. \n",
      "115 -th simulation finished, lapse:  18.233 sec. \n",
      "116 -th simulation finished, lapse:  17.421 sec. \n",
      "117 -th simulation finished, lapse:  19.595 sec. \n",
      "118 -th simulation finished, lapse:  18.359 sec. \n",
      "119 -th simulation finished, lapse:  17.528 sec. \n",
      "120 -th simulation finished, lapse:  17.736 sec. \n",
      "121 -th simulation finished, lapse:  18.272 sec. \n",
      "122 -th simulation finished, lapse:  18.075 sec. \n",
      "123 -th simulation finished, lapse:  18.233 sec. \n",
      "124 -th simulation finished, lapse:  17.651 sec. \n",
      "125 -th simulation finished, lapse:  17.593 sec. \n",
      "126 -th simulation finished, lapse:  18.613 sec. \n",
      "127 -th simulation finished, lapse:  17.593 sec. \n",
      "128 -th simulation finished, lapse:  17.944 sec. \n",
      "129 -th simulation finished, lapse:  19.01 sec. \n",
      "130 -th simulation finished, lapse:  17.917 sec. \n",
      "131 -th simulation finished, lapse:  19.335 sec. \n",
      "132 -th simulation finished, lapse:  17.692 sec. \n",
      "133 -th simulation finished, lapse:  19.236 sec. \n",
      "134 -th simulation finished, lapse:  18.204 sec. \n",
      "135 -th simulation finished, lapse:  18.134 sec. \n",
      "136 -th simulation finished, lapse:  19.239 sec. \n",
      "137 -th simulation finished, lapse:  17.28 sec. \n",
      "138 -th simulation finished, lapse:  18.065 sec. \n",
      "139 -th simulation finished, lapse:  17.636 sec. \n",
      "140 -th simulation finished, lapse:  18.541 sec. \n",
      "141 -th simulation finished, lapse:  17.653 sec. \n",
      "142 -th simulation finished, lapse:  18.828 sec. \n",
      "143 -th simulation finished, lapse:  18.129 sec. \n",
      "144 -th simulation finished, lapse:  17.841 sec. \n",
      "145 -th simulation finished, lapse:  19.069 sec. \n",
      "146 -th simulation finished, lapse:  17.837 sec. \n",
      "147 -th simulation finished, lapse:  19.331 sec. \n",
      "148 -th simulation finished, lapse:  17.368 sec. \n",
      "149 -th simulation finished, lapse:  18.616 sec. \n",
      "150 -th simulation finished, lapse:  18.878 sec. \n",
      "151 -th simulation finished, lapse:  17.435 sec. \n",
      "152 -th simulation finished, lapse:  18.348 sec. \n",
      "153 -th simulation finished, lapse:  17.772 sec. \n",
      "154 -th simulation finished, lapse:  18.247 sec. \n",
      "155 -th simulation finished, lapse:  17.679 sec. \n",
      "156 -th simulation finished, lapse:  19.474 sec. \n",
      "157 -th simulation finished, lapse:  17.569 sec. \n",
      "158 -th simulation finished, lapse:  18.886 sec. \n",
      "159 -th simulation finished, lapse:  18.496 sec. \n",
      "160 -th simulation finished, lapse:  17.673 sec. \n",
      "161 -th simulation finished, lapse:  18.057 sec. \n",
      "162 -th simulation finished, lapse:  17.474 sec. \n",
      "163 -th simulation finished, lapse:  19.159 sec. \n",
      "164 -th simulation finished, lapse:  18.199 sec. \n",
      "165 -th simulation finished, lapse:  17.596 sec. \n",
      "166 -th simulation finished, lapse:  18.119 sec. \n",
      "167 -th simulation finished, lapse:  17.869 sec. \n"
     ]
    },
    {
     "name": "stdout",
     "output_type": "stream",
     "text": [
      "168 -th simulation finished, lapse:  18.265 sec. \n",
      "169 -th simulation finished, lapse:  18.483 sec. \n",
      "170 -th simulation finished, lapse:  18.12 sec. \n",
      "171 -th simulation finished, lapse:  17.798 sec. \n",
      "172 -th simulation finished, lapse:  18.968 sec. \n",
      "173 -th simulation finished, lapse:  17.615 sec. \n",
      "174 -th simulation finished, lapse:  18.158 sec. \n",
      "175 -th simulation finished, lapse:  17.487 sec. \n",
      "176 -th simulation finished, lapse:  18.221 sec. \n",
      "177 -th simulation finished, lapse:  17.765 sec. \n",
      "178 -th simulation finished, lapse:  18.442 sec. \n",
      "179 -th simulation finished, lapse:  18.491 sec. \n",
      "180 -th simulation finished, lapse:  17.618 sec. \n",
      "181 -th simulation finished, lapse:  18.769 sec. \n",
      "182 -th simulation finished, lapse:  17.517 sec. \n",
      "183 -th simulation finished, lapse:  19.24 sec. \n",
      "184 -th simulation finished, lapse:  18.319 sec. \n",
      "185 -th simulation finished, lapse:  18.198 sec. \n",
      "186 -th simulation finished, lapse:  18.487 sec. \n",
      "187 -th simulation finished, lapse:  17.398 sec. \n",
      "188 -th simulation finished, lapse:  18.62 sec. \n",
      "189 -th simulation finished, lapse:  17.67 sec. \n",
      "190 -th simulation finished, lapse:  19.505 sec. \n",
      "191 -th simulation finished, lapse:  19.595 sec. \n",
      "192 -th simulation finished, lapse:  22.621 sec. \n",
      "193 -th simulation finished, lapse:  19.461 sec. \n",
      "194 -th simulation finished, lapse:  21.244 sec. \n",
      "195 -th simulation finished, lapse:  19.38 sec. \n"
     ]
    }
   ],
   "source": [
    "for( i.sim in 1:num.msim ){\n",
    "    time.sim = proc.time()\n",
    "    \n",
    "    data = lapply(1:m, function(l){\n",
    "        n_l = n #floor(runif(1, n, 2*n))\n",
    "        return(array(apply(array(rnorm(p*q*n_l), c(p,q,n_l)), 3, function(x){\n",
    "            sqrtm(Sigma.T[[l]]) %*% x %*% sqrtm(Sigma.S[[l]])\n",
    "        }), c(p,q,n_l)))\n",
    "    })    \n",
    "    \n",
    "    est.T = est.temporal(data, order.T=5)\n",
    "    est.S = est.spatial(data, lambdas=1e-4)\n",
    "    inf.S = inf.multiple.edge(est.S$W.hat.S, est.T$S.hat.T, ns,\n",
    "                              E.mat=E.mat.zero, num.bst=num.bst)\n",
    "    \n",
    "    T.hat.E.sim[,i.sim] = inf.S$T.hat.E\n",
    "    l.inf.Z.sim[,i.sim] = inf.S$l.inf.Z\n",
    "    p.value.sim[i.sim] = inf.S$p.value\n",
    "    \n",
    "    cat(i.sim,'-th simulation finished, lapse: ',(proc.time()-time.sim)[3],'sec. \\n') \n",
    "    flush.console()\n",
    "}"
   ]
  },
  {
   "cell_type": "code",
   "execution_count": null,
   "metadata": {},
   "outputs": [],
   "source": [
    "# l.inf.dT.sim = apply(T.hat.E.sim - T.S[E.mat.off],\n",
    "#                      2, function(T.hat){ max(abs(T.hat)) })"
   ]
  },
  {
   "cell_type": "code",
   "execution_count": 60,
   "metadata": {},
   "outputs": [],
   "source": [
    "q.Z.sim = apply(l.inf.Z.sim, 2, function(l){\n",
    "    quantile(l, c(0.925, 0.95, 0.975))\n",
    "})"
   ]
  },
  {
   "cell_type": "code",
   "execution_count": 61,
   "metadata": {},
   "outputs": [],
   "source": [
    "q.dT.sim = apply(q.Z.sim, 2, function(q){\n",
    "    sapply(q, function(x){ mean(l.inf.T.zero < x) })\n",
    "})"
   ]
  },
  {
   "cell_type": "code",
   "execution_count": 62,
   "metadata": {},
   "outputs": [
    {
     "data": {
      "text/html": [
       "<dl class=dl-horizontal>\n",
       "\t<dt>92.5%</dt>\n",
       "\t\t<dd>0.93653</dd>\n",
       "\t<dt>95%</dt>\n",
       "\t\t<dd>0.95661</dd>\n",
       "\t<dt>97.5%</dt>\n",
       "\t\t<dd>0.97824</dd>\n",
       "</dl>\n"
      ],
      "text/latex": [
       "\\begin{description*}\n",
       "\\item[92.5\\textbackslash{}\\%] 0.93653\n",
       "\\item[95\\textbackslash{}\\%] 0.95661\n",
       "\\item[97.5\\textbackslash{}\\%] 0.97824\n",
       "\\end{description*}\n"
      ],
      "text/markdown": [
       "92.5%\n",
       ":   0.9365395%\n",
       ":   0.9566197.5%\n",
       ":   0.97824\n",
       "\n"
      ],
      "text/plain": [
       "  92.5%     95%   97.5% \n",
       "0.93653 0.95661 0.97824 "
      ]
     },
     "metadata": {},
     "output_type": "display_data"
    }
   ],
   "source": [
    "apply(q.dT.sim, 1, mean)"
   ]
  },
  {
   "cell_type": "code",
   "execution_count": 63,
   "metadata": {},
   "outputs": [
    {
     "data": {
      "text/html": [
       "<dl class=dl-horizontal>\n",
       "\t<dt>92.5%</dt>\n",
       "\t\t<dd>0.00514134557712609</dd>\n",
       "\t<dt>95%</dt>\n",
       "\t\t<dd>0.00418727027109934</dd>\n",
       "\t<dt>97.5%</dt>\n",
       "\t\t<dd>0.00262128043351167</dd>\n",
       "</dl>\n"
      ],
      "text/latex": [
       "\\begin{description*}\n",
       "\\item[92.5\\textbackslash{}\\%] 0.00514134557712609\n",
       "\\item[95\\textbackslash{}\\%] 0.00418727027109934\n",
       "\\item[97.5\\textbackslash{}\\%] 0.00262128043351167\n",
       "\\end{description*}\n"
      ],
      "text/markdown": [
       "92.5%\n",
       ":   0.0051413455771260995%\n",
       ":   0.0041872702710993497.5%\n",
       ":   0.00262128043351167\n",
       "\n"
      ],
      "text/plain": [
       "      92.5%         95%       97.5% \n",
       "0.005141346 0.004187270 0.002621280 "
      ]
     },
     "metadata": {},
     "output_type": "display_data"
    }
   ],
   "source": [
    "apply(q.dT.sim, 1, sd)"
   ]
  },
  {
   "cell_type": "code",
   "execution_count": 64,
   "metadata": {},
   "outputs": [],
   "source": [
    "# save(Adj.S, Omega.S, Sigma.S, Omega.T, Sigma.T, \n",
    "#      E.mat.zero, l.inf.T.zero, l.inf.Z.sim, p.value.sim,\n",
    "#      file='sim_hub_multi_zero.Rdata')"
   ]
  }
 ],
 "metadata": {
  "kernelspec": {
   "display_name": "R",
   "language": "R",
   "name": "ir"
  },
  "language_info": {
   "codemirror_mode": "r",
   "file_extension": ".r",
   "mimetype": "text/x-r-source",
   "name": "R",
   "pygments_lexer": "r",
   "version": "3.6.1"
  }
 },
 "nbformat": 4,
 "nbformat_minor": 5
}
